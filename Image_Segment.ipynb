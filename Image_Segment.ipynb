{
 "cells": [
  {
   "cell_type": "markdown",
   "id": "47ec9984",
   "metadata": {},
   "source": [
    "# Learning to Drive in Adverse Weather Conditions"
   ]
  },
  {
   "cell_type": "markdown",
   "id": "07881483",
   "metadata": {},
   "source": [
    "## Introduction & Setup\n",
    "\n",
    "This project is designed to explore using Reinforcement learning to teach an autonomous agent to drive in adverse weather conditions.\n",
    "\n",
    "### Setup\n",
    "\n",
    "- The project will be performed using an autonomous drving simulator called CARLA.\n",
    "- Python 3.8\n",
    "- Anconda\n",
    "\n",
    "[Project Github](https://github.com/rbuckley25/Tempestas)"
   ]
  },
  {
   "cell_type": "markdown",
   "id": "28cdd1a5",
   "metadata": {},
   "source": [
    "### Image Segmentor"
   ]
  },
  {
   "cell_type": "code",
   "execution_count": 4,
   "id": "7cc38f9c",
   "metadata": {},
   "outputs": [],
   "source": [
    "import torch\n",
    "import torch.nn as nn\n",
    "import torch.nn.functional as F\n",
    "import random\n",
    "import os\n",
    "import numpy as np\n",
    "from PIL import Image\n",
    "from IPython import display\n",
    "import carla\n",
    "\n",
    "from torch.utils.data import DataLoader\n",
    "from torchvision.io import read_image\n",
    "from torch.utils.data import Dataset\n",
    "from torchvision.utils import save_image\n",
    "\n",
    "device = torch.device(\"cuda\" if torch.cuda.is_available() else \"cpu\")"
   ]
  },
  {
   "cell_type": "code",
   "execution_count": 5,
   "id": "f58bddf9",
   "metadata": {},
   "outputs": [],
   "source": [
    "class CustomImageDataset(Dataset):\n",
    "    def __init__(self, weather, town, test=False , transform=None, target_transform=None):\n",
    "        dirt = './Datasets/'+weather+'/'+town\n",
    "        if test:\n",
    "            dirt = dirt+'/test'\n",
    "        \n",
    "        self.sem_dir = dirt+'/Semantic'\n",
    "        self.rgb_dir = dirt+'/RGB'\n",
    "        self.transform = transform\n",
    "        self.target_transform = target_transform\n",
    "        self.names = os.listdir(self.rgb_dir)\n",
    "\n",
    "    def __len__(self):\n",
    "        return len(os.listdir(self.sem_dir))\n",
    "\n",
    "    def __getitem__(self, idx): \n",
    "        img_path = os.path.join(self.rgb_dir, self.names[idx])\n",
    "        image = read_image(img_path)\n",
    "        label_name = self.names[idx].split('.')[0]+'.npy'\n",
    "        label = np.load(os.path.join(self.sem_dir, label_name))\n",
    "        if self.transform:\n",
    "            image = self.transform(image)\n",
    "        if self.target_transform:\n",
    "            label = self.target_transform(label)\n",
    "        return image, label"
   ]
  },
  {
   "cell_type": "code",
   "execution_count": 214,
   "id": "378cfeac",
   "metadata": {},
   "outputs": [],
   "source": [
    "class PerceptionNet(nn.Module):\n",
    "\n",
    "    def __init__(self):\n",
    "        super(PerceptionNet,self).__init__()\n",
    "        self.conv1 = nn.Conv2d(3, 32, kernel_size=4, stride=2, padding=1)\n",
    "        \n",
    "        self.conv2 = nn.Conv2d(32, 64, kernel_size=4, stride=2, padding=1)\n",
    "        self.bn2 = nn.BatchNorm2d(64)\n",
    "        \n",
    "        self.conv3 = nn.Conv2d(64, 128, kernel_size=4, stride=2, padding=1)\n",
    "        self.bn3 = nn.BatchNorm2d(128)\n",
    "        \n",
    "        self.conv4 = nn.Conv2d(128, 256, kernel_size=4, stride=2, padding=1)\n",
    "        self.bn4 = nn.BatchNorm2d(256)\n",
    "        \n",
    "        self.conv5 = nn.Conv2d(256, 512, kernel_size=4, stride=2, padding=1)\n",
    "        self.bn5 = nn.BatchNorm2d(512)\n",
    "        \n",
    "        self.conv6 = nn.Conv2d(512, 64, kernel_size=4, stride=1)\n",
    "        \n",
    "        self.conv7 = torch.nn.ConvTranspose2d(64,512, kernel_size =4, stride=1)\n",
    "        self.bn6 = nn.BatchNorm2d(512)\n",
    "        \n",
    "        self.conv8 = torch.nn.ConvTranspose2d(512,256, kernel_size =4, stride=2, padding=1)\n",
    "        self.bn7 = nn.BatchNorm2d(256)\n",
    "        \n",
    "        self.conv9 = torch.nn.ConvTranspose2d(256,128, kernel_size =4, stride=2, padding=1)\n",
    "        self.bn8 = nn.BatchNorm2d(128)\n",
    "        \n",
    "        self.conv10 = torch.nn.ConvTranspose2d(128,64, kernel_size =4, stride=2, padding=1)\n",
    "        self.bn9 = nn.BatchNorm2d(64)\n",
    "        \n",
    "        self.conv11 = torch.nn.ConvTranspose2d(64,32, kernel_size =4, stride=2, padding=1)\n",
    "        self.bn10 = nn.BatchNorm2d(32)\n",
    "        \n",
    "        self.conv12 = torch.nn.ConvTranspose2d(32,23, kernel_size =4, stride=2,padding=1)\n",
    "        \n",
    "            \n",
    "    def encode(self, x):\n",
    "        x = F.leaky_relu(self.conv1(x),negative_slope=0.02)\n",
    "        x = F.leaky_relu(self.bn2(self.conv2(x)),negative_slope=0.02)\n",
    "        x = F.leaky_relu(self.bn3(self.conv3(x)),negative_slope=0.02)\n",
    "        x = F.leaky_relu(self.bn4(self.conv4(x)),negative_slope=0.02)\n",
    "        x = F.leaky_relu(self.bn5(self.conv5(x)),negative_slope=0.02)\n",
    "        return self.conv6(x)\n",
    "    \n",
    "    def decode(self, x):\n",
    "        x = F.leaky_relu(self.bn6(self.conv7(x)),negative_slope=0.02)\n",
    "        x = F.leaky_relu(self.bn7(self.conv8(x)),negative_slope=0.02)\n",
    "        x = F.leaky_relu(self.bn8(self.conv9(x)),negative_slope=0.02)\n",
    "        x = F.leaky_relu(self.bn9(self.conv10(x)),negative_slope=0.02)\n",
    "        x = F.leaky_relu(self.bn10(self.conv11(x)),negative_slope=0.02)\n",
    "        return F.log_softmax(self.conv12(x),dim=1)\n",
    "    \n",
    "    def forward(self, x):\n",
    "        x = x.to(device, dtype=torch.float32)\n",
    "        latent = self.encode(x)\n",
    "        out = self.decode(latent)\n",
    "        return out, latent"
   ]
  },
  {
   "cell_type": "code",
   "execution_count": 215,
   "id": "4fda9eb3",
   "metadata": {},
   "outputs": [
    {
     "data": {
      "text/plain": [
       "PerceptionNet(\n",
       "  (conv1): Conv2d(3, 32, kernel_size=(4, 4), stride=(2, 2), padding=(1, 1))\n",
       "  (conv2): Conv2d(32, 64, kernel_size=(4, 4), stride=(2, 2), padding=(1, 1))\n",
       "  (bn2): BatchNorm2d(64, eps=1e-05, momentum=0.1, affine=True, track_running_stats=True)\n",
       "  (conv3): Conv2d(64, 128, kernel_size=(4, 4), stride=(2, 2), padding=(1, 1))\n",
       "  (bn3): BatchNorm2d(128, eps=1e-05, momentum=0.1, affine=True, track_running_stats=True)\n",
       "  (conv4): Conv2d(128, 256, kernel_size=(4, 4), stride=(2, 2), padding=(1, 1))\n",
       "  (bn4): BatchNorm2d(256, eps=1e-05, momentum=0.1, affine=True, track_running_stats=True)\n",
       "  (conv5): Conv2d(256, 512, kernel_size=(4, 4), stride=(2, 2), padding=(1, 1))\n",
       "  (bn5): BatchNorm2d(512, eps=1e-05, momentum=0.1, affine=True, track_running_stats=True)\n",
       "  (conv6): Conv2d(512, 64, kernel_size=(4, 4), stride=(1, 1))\n",
       "  (conv7): ConvTranspose2d(64, 512, kernel_size=(4, 4), stride=(1, 1))\n",
       "  (bn6): BatchNorm2d(512, eps=1e-05, momentum=0.1, affine=True, track_running_stats=True)\n",
       "  (conv8): ConvTranspose2d(512, 256, kernel_size=(4, 4), stride=(2, 2), padding=(1, 1))\n",
       "  (bn7): BatchNorm2d(256, eps=1e-05, momentum=0.1, affine=True, track_running_stats=True)\n",
       "  (conv9): ConvTranspose2d(256, 128, kernel_size=(4, 4), stride=(2, 2), padding=(1, 1))\n",
       "  (bn8): BatchNorm2d(128, eps=1e-05, momentum=0.1, affine=True, track_running_stats=True)\n",
       "  (conv10): ConvTranspose2d(128, 64, kernel_size=(4, 4), stride=(2, 2), padding=(1, 1))\n",
       "  (bn9): BatchNorm2d(64, eps=1e-05, momentum=0.1, affine=True, track_running_stats=True)\n",
       "  (conv11): ConvTranspose2d(64, 32, kernel_size=(4, 4), stride=(2, 2), padding=(1, 1))\n",
       "  (bn10): BatchNorm2d(32, eps=1e-05, momentum=0.1, affine=True, track_running_stats=True)\n",
       "  (conv12): ConvTranspose2d(32, 23, kernel_size=(4, 4), stride=(2, 2), padding=(1, 1))\n",
       ")"
      ]
     },
     "execution_count": 215,
     "metadata": {},
     "output_type": "execute_result"
    }
   ],
   "source": [
    "model = PerceptionNet()\n",
    "model.to(device)"
   ]
  },
  {
   "cell_type": "code",
   "execution_count": 216,
   "id": "20e4d703",
   "metadata": {},
   "outputs": [],
   "source": [
    "def initalize_weights(layer):\n",
    "    if isinstance(layer, torch.nn.Conv2d) or isinstance(layer,torch.nn.ConvTranspose2d):\n",
    "        nn.init.kaiming_uniform_(layer.weight.data,nonlinearity='relu')"
   ]
  },
  {
   "cell_type": "code",
   "execution_count": 217,
   "id": "050d50fa",
   "metadata": {},
   "outputs": [
    {
     "data": {
      "text/plain": [
       "PerceptionNet(\n",
       "  (conv1): Conv2d(3, 32, kernel_size=(4, 4), stride=(2, 2), padding=(1, 1))\n",
       "  (conv2): Conv2d(32, 64, kernel_size=(4, 4), stride=(2, 2), padding=(1, 1))\n",
       "  (bn2): BatchNorm2d(64, eps=1e-05, momentum=0.1, affine=True, track_running_stats=True)\n",
       "  (conv3): Conv2d(64, 128, kernel_size=(4, 4), stride=(2, 2), padding=(1, 1))\n",
       "  (bn3): BatchNorm2d(128, eps=1e-05, momentum=0.1, affine=True, track_running_stats=True)\n",
       "  (conv4): Conv2d(128, 256, kernel_size=(4, 4), stride=(2, 2), padding=(1, 1))\n",
       "  (bn4): BatchNorm2d(256, eps=1e-05, momentum=0.1, affine=True, track_running_stats=True)\n",
       "  (conv5): Conv2d(256, 512, kernel_size=(4, 4), stride=(2, 2), padding=(1, 1))\n",
       "  (bn5): BatchNorm2d(512, eps=1e-05, momentum=0.1, affine=True, track_running_stats=True)\n",
       "  (conv6): Conv2d(512, 64, kernel_size=(4, 4), stride=(1, 1))\n",
       "  (conv7): ConvTranspose2d(64, 512, kernel_size=(4, 4), stride=(1, 1))\n",
       "  (bn6): BatchNorm2d(512, eps=1e-05, momentum=0.1, affine=True, track_running_stats=True)\n",
       "  (conv8): ConvTranspose2d(512, 256, kernel_size=(4, 4), stride=(2, 2), padding=(1, 1))\n",
       "  (bn7): BatchNorm2d(256, eps=1e-05, momentum=0.1, affine=True, track_running_stats=True)\n",
       "  (conv9): ConvTranspose2d(256, 128, kernel_size=(4, 4), stride=(2, 2), padding=(1, 1))\n",
       "  (bn8): BatchNorm2d(128, eps=1e-05, momentum=0.1, affine=True, track_running_stats=True)\n",
       "  (conv10): ConvTranspose2d(128, 64, kernel_size=(4, 4), stride=(2, 2), padding=(1, 1))\n",
       "  (bn9): BatchNorm2d(64, eps=1e-05, momentum=0.1, affine=True, track_running_stats=True)\n",
       "  (conv11): ConvTranspose2d(64, 32, kernel_size=(4, 4), stride=(2, 2), padding=(1, 1))\n",
       "  (bn10): BatchNorm2d(32, eps=1e-05, momentum=0.1, affine=True, track_running_stats=True)\n",
       "  (conv12): ConvTranspose2d(32, 23, kernel_size=(4, 4), stride=(2, 2), padding=(1, 1))\n",
       ")"
      ]
     },
     "execution_count": 217,
     "metadata": {},
     "output_type": "execute_result"
    }
   ],
   "source": [
    "model.apply(initalize_weights)"
   ]
  },
  {
   "cell_type": "code",
   "execution_count": 218,
   "id": "46cb67cf",
   "metadata": {},
   "outputs": [],
   "source": [
    "loss_fn = nn.CrossEntropyLoss()\n",
    "optimizer = torch.optim.Adam(model.parameters(), lr=1e-3)"
   ]
  },
  {
   "cell_type": "markdown",
   "id": "5337d41d",
   "metadata": {},
   "source": [
    "Reference: https://github.com/pytorch/examples/blob/master/vae/main.py"
   ]
  },
  {
   "cell_type": "code",
   "execution_count": 219,
   "id": "bd868ce7",
   "metadata": {},
   "outputs": [],
   "source": [
    "train_data = CustomImageDataset('ClearNoon','Town04',test=False)\n",
    "test_data = CustomImageDataset('ClearNoon','Town04',test=True)"
   ]
  },
  {
   "cell_type": "code",
   "execution_count": 220,
   "id": "00c073de",
   "metadata": {},
   "outputs": [],
   "source": [
    "train_loader = DataLoader(train_data, batch_size=100, shuffle=True)\n",
    "test_loader = DataLoader(test_data, batch_size=100, shuffle=True)"
   ]
  },
  {
   "cell_type": "code",
   "execution_count": 221,
   "id": "2902f99a",
   "metadata": {},
   "outputs": [],
   "source": [
    "torch.cuda.empty_cache()"
   ]
  },
  {
   "cell_type": "code",
   "execution_count": 222,
   "id": "1d760b01",
   "metadata": {},
   "outputs": [
    {
     "name": "stdout",
     "output_type": "stream",
     "text": [
      "Train Epoch: 1 [0/50501 (0%)]\tLoss: 0.031996\n",
      "Train Epoch: 1 [1000/50501 (2%)]\tLoss: 0.020326\n",
      "Train Epoch: 1 [2000/50501 (4%)]\tLoss: 0.013978\n",
      "Train Epoch: 1 [3000/50501 (6%)]\tLoss: 0.009540\n",
      "Train Epoch: 1 [4000/50501 (8%)]\tLoss: 0.007816\n",
      "Train Epoch: 1 [5000/50501 (10%)]\tLoss: 0.007399\n",
      "Train Epoch: 1 [6000/50501 (12%)]\tLoss: 0.006632\n",
      "Train Epoch: 1 [7000/50501 (14%)]\tLoss: 0.005632\n",
      "Train Epoch: 1 [8000/50501 (16%)]\tLoss: 0.005229\n",
      "Train Epoch: 1 [9000/50501 (18%)]\tLoss: 0.005106\n",
      "Train Epoch: 1 [10000/50501 (20%)]\tLoss: 0.005260\n",
      "Train Epoch: 1 [11000/50501 (22%)]\tLoss: 0.005051\n",
      "Train Epoch: 1 [12000/50501 (24%)]\tLoss: 0.004659\n",
      "Train Epoch: 1 [13000/50501 (26%)]\tLoss: 0.004736\n",
      "Train Epoch: 1 [14000/50501 (28%)]\tLoss: 0.004065\n",
      "Train Epoch: 1 [15000/50501 (30%)]\tLoss: 0.004464\n",
      "Train Epoch: 1 [16000/50501 (32%)]\tLoss: 0.003738\n",
      "Train Epoch: 1 [17000/50501 (34%)]\tLoss: 0.003898\n",
      "Train Epoch: 1 [18000/50501 (36%)]\tLoss: 0.003418\n",
      "Train Epoch: 1 [19000/50501 (38%)]\tLoss: 0.003611\n",
      "Train Epoch: 1 [20000/50501 (40%)]\tLoss: 0.003356\n",
      "Train Epoch: 1 [21000/50501 (42%)]\tLoss: 0.003369\n",
      "Train Epoch: 1 [22000/50501 (43%)]\tLoss: 0.003496\n",
      "Train Epoch: 1 [23000/50501 (45%)]\tLoss: 0.003219\n",
      "Train Epoch: 1 [24000/50501 (47%)]\tLoss: 0.003008\n",
      "Train Epoch: 1 [25000/50501 (49%)]\tLoss: 0.003156\n",
      "Train Epoch: 1 [26000/50501 (51%)]\tLoss: 0.003123\n",
      "Train Epoch: 1 [27000/50501 (53%)]\tLoss: 0.002952\n",
      "Train Epoch: 1 [28000/50501 (55%)]\tLoss: 0.002837\n",
      "Train Epoch: 1 [29000/50501 (57%)]\tLoss: 0.002944\n",
      "Train Epoch: 1 [30000/50501 (59%)]\tLoss: 0.002736\n",
      "Train Epoch: 1 [31000/50501 (61%)]\tLoss: 0.002899\n",
      "Train Epoch: 1 [32000/50501 (63%)]\tLoss: 0.002976\n",
      "Train Epoch: 1 [33000/50501 (65%)]\tLoss: 0.002844\n",
      "Train Epoch: 1 [34000/50501 (67%)]\tLoss: 0.002657\n",
      "Train Epoch: 1 [35000/50501 (69%)]\tLoss: 0.002663\n",
      "Train Epoch: 1 [36000/50501 (71%)]\tLoss: 0.002545\n",
      "Train Epoch: 1 [37000/50501 (73%)]\tLoss: 0.002456\n",
      "Train Epoch: 1 [38000/50501 (75%)]\tLoss: 0.002472\n",
      "Train Epoch: 1 [39000/50501 (77%)]\tLoss: 0.002460\n",
      "Train Epoch: 1 [40000/50501 (79%)]\tLoss: 0.002450\n",
      "Train Epoch: 1 [41000/50501 (81%)]\tLoss: 0.002420\n",
      "Train Epoch: 1 [42000/50501 (83%)]\tLoss: 0.002345\n",
      "Train Epoch: 1 [43000/50501 (85%)]\tLoss: 0.002295\n",
      "Train Epoch: 1 [44000/50501 (87%)]\tLoss: 0.002199\n",
      "Train Epoch: 1 [45000/50501 (89%)]\tLoss: 0.002442\n",
      "Train Epoch: 1 [46000/50501 (91%)]\tLoss: 0.002409\n",
      "Train Epoch: 1 [47000/50501 (93%)]\tLoss: 0.002360\n",
      "Train Epoch: 1 [48000/50501 (95%)]\tLoss: 0.002240\n",
      "Train Epoch: 1 [49000/50501 (97%)]\tLoss: 0.002314\n",
      "Train Epoch: 1 [50000/50501 (99%)]\tLoss: 0.002272\n",
      "====> Epoch: 1 Average loss: 0.0045\n",
      "====> Test set loss: 0.0804\n",
      "Train Epoch: 2 [0/50501 (0%)]\tLoss: 0.002603\n",
      "Train Epoch: 2 [1000/50501 (2%)]\tLoss: 0.002357\n",
      "Train Epoch: 2 [2000/50501 (4%)]\tLoss: 0.002297\n",
      "Train Epoch: 2 [3000/50501 (6%)]\tLoss: 0.002228\n",
      "Train Epoch: 2 [4000/50501 (8%)]\tLoss: 0.002234\n",
      "Train Epoch: 2 [5000/50501 (10%)]\tLoss: 0.002062\n",
      "Train Epoch: 2 [6000/50501 (12%)]\tLoss: 0.002091\n",
      "Train Epoch: 2 [7000/50501 (14%)]\tLoss: 0.002212\n",
      "Train Epoch: 2 [8000/50501 (16%)]\tLoss: 0.002211\n",
      "Train Epoch: 2 [9000/50501 (18%)]\tLoss: 0.002131\n",
      "Train Epoch: 2 [10000/50501 (20%)]\tLoss: 0.002226\n",
      "Train Epoch: 2 [11000/50501 (22%)]\tLoss: 0.002205\n",
      "Train Epoch: 2 [12000/50501 (24%)]\tLoss: 0.002028\n",
      "Train Epoch: 2 [13000/50501 (26%)]\tLoss: 0.002133\n",
      "Train Epoch: 2 [14000/50501 (28%)]\tLoss: 0.002204\n",
      "Train Epoch: 2 [15000/50501 (30%)]\tLoss: 0.001957\n",
      "Train Epoch: 2 [16000/50501 (32%)]\tLoss: 0.002177\n",
      "Train Epoch: 2 [17000/50501 (34%)]\tLoss: 0.002058\n",
      "Train Epoch: 2 [18000/50501 (36%)]\tLoss: 0.002026\n",
      "Train Epoch: 2 [19000/50501 (38%)]\tLoss: 0.001971\n",
      "Train Epoch: 2 [20000/50501 (40%)]\tLoss: 0.002065\n",
      "Train Epoch: 2 [21000/50501 (42%)]\tLoss: 0.002011\n",
      "Train Epoch: 2 [22000/50501 (43%)]\tLoss: 0.002098\n",
      "Train Epoch: 2 [23000/50501 (45%)]\tLoss: 0.002180\n",
      "Train Epoch: 2 [24000/50501 (47%)]\tLoss: 0.002091\n",
      "Train Epoch: 2 [25000/50501 (49%)]\tLoss: 0.001946\n",
      "Train Epoch: 2 [26000/50501 (51%)]\tLoss: 0.001987\n",
      "Train Epoch: 2 [27000/50501 (53%)]\tLoss: 0.001977\n",
      "Train Epoch: 2 [28000/50501 (55%)]\tLoss: 0.002500\n",
      "Train Epoch: 2 [29000/50501 (57%)]\tLoss: 0.001855\n",
      "Train Epoch: 2 [30000/50501 (59%)]\tLoss: 0.001920\n",
      "Train Epoch: 2 [31000/50501 (61%)]\tLoss: 0.002055\n",
      "Train Epoch: 2 [32000/50501 (63%)]\tLoss: 0.001994\n",
      "Train Epoch: 2 [33000/50501 (65%)]\tLoss: 0.001920\n",
      "Train Epoch: 2 [34000/50501 (67%)]\tLoss: 0.001835\n",
      "Train Epoch: 2 [35000/50501 (69%)]\tLoss: 0.001859\n",
      "Train Epoch: 2 [36000/50501 (71%)]\tLoss: 0.001862\n",
      "Train Epoch: 2 [37000/50501 (73%)]\tLoss: 0.001852\n",
      "Train Epoch: 2 [38000/50501 (75%)]\tLoss: 0.001813\n",
      "Train Epoch: 2 [39000/50501 (77%)]\tLoss: 0.001917\n",
      "Train Epoch: 2 [40000/50501 (79%)]\tLoss: 0.001952\n",
      "Train Epoch: 2 [41000/50501 (81%)]\tLoss: 0.001721\n",
      "Train Epoch: 2 [42000/50501 (83%)]\tLoss: 0.001801\n",
      "Train Epoch: 2 [43000/50501 (85%)]\tLoss: 0.002145\n",
      "Train Epoch: 2 [44000/50501 (87%)]\tLoss: 0.001670\n",
      "Train Epoch: 2 [45000/50501 (89%)]\tLoss: 0.001731\n",
      "Train Epoch: 2 [46000/50501 (91%)]\tLoss: 0.001856\n",
      "Train Epoch: 2 [47000/50501 (93%)]\tLoss: 0.001930\n",
      "Train Epoch: 2 [48000/50501 (95%)]\tLoss: 0.002091\n",
      "Train Epoch: 2 [49000/50501 (97%)]\tLoss: 0.001706\n",
      "Train Epoch: 2 [50000/50501 (99%)]\tLoss: 0.001899\n",
      "====> Epoch: 2 Average loss: 0.0020\n",
      "====> Test set loss: 0.0897\n",
      "Train Epoch: 3 [0/50501 (0%)]\tLoss: 0.003192\n",
      "Train Epoch: 3 [1000/50501 (2%)]\tLoss: 0.002142\n",
      "Train Epoch: 3 [2000/50501 (4%)]\tLoss: 0.002100\n",
      "Train Epoch: 3 [3000/50501 (6%)]\tLoss: 0.001870\n",
      "Train Epoch: 3 [4000/50501 (8%)]\tLoss: 0.001878\n",
      "Train Epoch: 3 [5000/50501 (10%)]\tLoss: 0.001884\n",
      "Train Epoch: 3 [6000/50501 (12%)]\tLoss: 0.001826\n",
      "Train Epoch: 3 [7000/50501 (14%)]\tLoss: 0.001765\n",
      "Train Epoch: 3 [8000/50501 (16%)]\tLoss: 0.001589\n",
      "Train Epoch: 3 [9000/50501 (18%)]\tLoss: 0.001806\n",
      "Train Epoch: 3 [10000/50501 (20%)]\tLoss: 0.001741\n",
      "Train Epoch: 3 [11000/50501 (22%)]\tLoss: 0.001829\n",
      "Train Epoch: 3 [12000/50501 (24%)]\tLoss: 0.001753\n",
      "Train Epoch: 3 [13000/50501 (26%)]\tLoss: 0.001671\n",
      "Train Epoch: 3 [14000/50501 (28%)]\tLoss: 0.001901\n",
      "Train Epoch: 3 [15000/50501 (30%)]\tLoss: 0.001858\n",
      "Train Epoch: 3 [16000/50501 (32%)]\tLoss: 0.001832\n",
      "Train Epoch: 3 [17000/50501 (34%)]\tLoss: 0.001665\n",
      "Train Epoch: 3 [18000/50501 (36%)]\tLoss: 0.001720\n",
      "Train Epoch: 3 [19000/50501 (38%)]\tLoss: 0.001696\n",
      "Train Epoch: 3 [20000/50501 (40%)]\tLoss: 0.001900\n",
      "Train Epoch: 3 [21000/50501 (42%)]\tLoss: 0.001599\n",
      "Train Epoch: 3 [22000/50501 (43%)]\tLoss: 0.001639\n",
      "Train Epoch: 3 [23000/50501 (45%)]\tLoss: 0.001577\n",
      "Train Epoch: 3 [24000/50501 (47%)]\tLoss: 0.001751\n",
      "Train Epoch: 3 [25000/50501 (49%)]\tLoss: 0.001512\n",
      "Train Epoch: 3 [26000/50501 (51%)]\tLoss: 0.002099\n",
      "Train Epoch: 3 [27000/50501 (53%)]\tLoss: 0.001554\n",
      "Train Epoch: 3 [28000/50501 (55%)]\tLoss: 0.001620\n",
      "Train Epoch: 3 [29000/50501 (57%)]\tLoss: 0.001644\n",
      "Train Epoch: 3 [30000/50501 (59%)]\tLoss: 0.001703\n",
      "Train Epoch: 3 [31000/50501 (61%)]\tLoss: 0.001447\n",
      "Train Epoch: 3 [32000/50501 (63%)]\tLoss: 0.001499\n",
      "Train Epoch: 3 [33000/50501 (65%)]\tLoss: 0.001567\n",
      "Train Epoch: 3 [34000/50501 (67%)]\tLoss: 0.001524\n",
      "Train Epoch: 3 [35000/50501 (69%)]\tLoss: 0.001746\n",
      "Train Epoch: 3 [36000/50501 (71%)]\tLoss: 0.001776\n",
      "Train Epoch: 3 [37000/50501 (73%)]\tLoss: 0.001824\n",
      "Train Epoch: 3 [38000/50501 (75%)]\tLoss: 0.001769\n",
      "Train Epoch: 3 [39000/50501 (77%)]\tLoss: 0.001661\n",
      "Train Epoch: 3 [40000/50501 (79%)]\tLoss: 0.001607\n",
      "Train Epoch: 3 [41000/50501 (81%)]\tLoss: 0.001520\n",
      "Train Epoch: 3 [42000/50501 (83%)]\tLoss: 0.001556\n",
      "Train Epoch: 3 [43000/50501 (85%)]\tLoss: 0.001578\n",
      "Train Epoch: 3 [44000/50501 (87%)]\tLoss: 0.001624\n",
      "Train Epoch: 3 [45000/50501 (89%)]\tLoss: 0.001552\n",
      "Train Epoch: 3 [46000/50501 (91%)]\tLoss: 0.001565\n",
      "Train Epoch: 3 [47000/50501 (93%)]\tLoss: 0.001500\n",
      "Train Epoch: 3 [48000/50501 (95%)]\tLoss: 0.001540\n",
      "Train Epoch: 3 [49000/50501 (97%)]\tLoss: 0.001637\n",
      "Train Epoch: 3 [50000/50501 (99%)]\tLoss: 0.001693\n",
      "====> Epoch: 3 Average loss: 0.0017\n",
      "====> Test set loss: 0.0850\n",
      "Train Epoch: 4 [0/50501 (0%)]\tLoss: 0.002688\n",
      "Train Epoch: 4 [1000/50501 (2%)]\tLoss: 0.002023\n",
      "Train Epoch: 4 [2000/50501 (4%)]\tLoss: 0.001914\n",
      "Train Epoch: 4 [3000/50501 (6%)]\tLoss: 0.001781\n",
      "Train Epoch: 4 [4000/50501 (8%)]\tLoss: 0.001646\n",
      "Train Epoch: 4 [5000/50501 (10%)]\tLoss: 0.001593\n",
      "Train Epoch: 4 [6000/50501 (12%)]\tLoss: 0.001679\n",
      "Train Epoch: 4 [7000/50501 (14%)]\tLoss: 0.001664\n",
      "Train Epoch: 4 [8000/50501 (16%)]\tLoss: 0.001546\n"
     ]
    },
    {
     "name": "stdout",
     "output_type": "stream",
     "text": [
      "Train Epoch: 4 [9000/50501 (18%)]\tLoss: 0.001495\n",
      "Train Epoch: 4 [10000/50501 (20%)]\tLoss: 0.001567\n",
      "Train Epoch: 4 [11000/50501 (22%)]\tLoss: 0.001541\n",
      "Train Epoch: 4 [12000/50501 (24%)]\tLoss: 0.001577\n",
      "Train Epoch: 4 [13000/50501 (26%)]\tLoss: 0.001516\n",
      "Train Epoch: 4 [14000/50501 (28%)]\tLoss: 0.001488\n",
      "Train Epoch: 4 [15000/50501 (30%)]\tLoss: 0.001718\n",
      "Train Epoch: 4 [16000/50501 (32%)]\tLoss: 0.001428\n",
      "Train Epoch: 4 [17000/50501 (34%)]\tLoss: 0.001445\n",
      "Train Epoch: 4 [18000/50501 (36%)]\tLoss: 0.001527\n",
      "Train Epoch: 4 [19000/50501 (38%)]\tLoss: 0.001591\n",
      "Train Epoch: 4 [20000/50501 (40%)]\tLoss: 0.001647\n",
      "Train Epoch: 4 [21000/50501 (42%)]\tLoss: 0.001482\n",
      "Train Epoch: 4 [22000/50501 (43%)]\tLoss: 0.001495\n",
      "Train Epoch: 4 [23000/50501 (45%)]\tLoss: 0.001532\n",
      "Train Epoch: 4 [24000/50501 (47%)]\tLoss: 0.001525\n",
      "Train Epoch: 4 [25000/50501 (49%)]\tLoss: 0.001365\n",
      "Train Epoch: 4 [26000/50501 (51%)]\tLoss: 0.001492\n",
      "Train Epoch: 4 [27000/50501 (53%)]\tLoss: 0.001453\n",
      "Train Epoch: 4 [28000/50501 (55%)]\tLoss: 0.001491\n",
      "Train Epoch: 4 [29000/50501 (57%)]\tLoss: 0.001494\n",
      "Train Epoch: 4 [30000/50501 (59%)]\tLoss: 0.001495\n",
      "Train Epoch: 4 [31000/50501 (61%)]\tLoss: 0.001470\n",
      "Train Epoch: 4 [32000/50501 (63%)]\tLoss: 0.001322\n",
      "Train Epoch: 4 [33000/50501 (65%)]\tLoss: 0.001493\n",
      "Train Epoch: 4 [34000/50501 (67%)]\tLoss: 0.001525\n",
      "Train Epoch: 4 [35000/50501 (69%)]\tLoss: 0.001672\n",
      "Train Epoch: 4 [36000/50501 (71%)]\tLoss: 0.001562\n",
      "Train Epoch: 4 [37000/50501 (73%)]\tLoss: 0.001520\n",
      "Train Epoch: 4 [38000/50501 (75%)]\tLoss: 0.001433\n",
      "Train Epoch: 4 [39000/50501 (77%)]\tLoss: 0.001483\n",
      "Train Epoch: 4 [40000/50501 (79%)]\tLoss: 0.001600\n",
      "Train Epoch: 4 [41000/50501 (81%)]\tLoss: 0.001426\n",
      "Train Epoch: 4 [42000/50501 (83%)]\tLoss: 0.001486\n",
      "Train Epoch: 4 [43000/50501 (85%)]\tLoss: 0.001388\n",
      "Train Epoch: 4 [44000/50501 (87%)]\tLoss: 0.001398\n",
      "Train Epoch: 4 [45000/50501 (89%)]\tLoss: 0.001445\n",
      "Train Epoch: 4 [46000/50501 (91%)]\tLoss: 0.001434\n",
      "Train Epoch: 4 [47000/50501 (93%)]\tLoss: 0.001365\n",
      "Train Epoch: 4 [48000/50501 (95%)]\tLoss: 0.001523\n",
      "Train Epoch: 4 [49000/50501 (97%)]\tLoss: 0.001375\n",
      "Train Epoch: 4 [50000/50501 (99%)]\tLoss: 0.001488\n",
      "====> Epoch: 4 Average loss: 0.0015\n",
      "====> Test set loss: 0.0967\n",
      "Train Epoch: 5 [0/50501 (0%)]\tLoss: 0.001749\n",
      "Train Epoch: 5 [1000/50501 (2%)]\tLoss: 0.001516\n",
      "Train Epoch: 5 [2000/50501 (4%)]\tLoss: 0.001551\n",
      "Train Epoch: 5 [3000/50501 (6%)]\tLoss: 0.001496\n",
      "Train Epoch: 5 [4000/50501 (8%)]\tLoss: 0.001504\n",
      "Train Epoch: 5 [5000/50501 (10%)]\tLoss: 0.001437\n",
      "Train Epoch: 5 [6000/50501 (12%)]\tLoss: 0.001364\n",
      "Train Epoch: 5 [7000/50501 (14%)]\tLoss: 0.001407\n",
      "Train Epoch: 5 [8000/50501 (16%)]\tLoss: 0.001466\n",
      "Train Epoch: 5 [9000/50501 (18%)]\tLoss: 0.001261\n",
      "Train Epoch: 5 [10000/50501 (20%)]\tLoss: 0.001353\n",
      "Train Epoch: 5 [11000/50501 (22%)]\tLoss: 0.001423\n",
      "Train Epoch: 5 [12000/50501 (24%)]\tLoss: 0.001362\n",
      "Train Epoch: 5 [13000/50501 (26%)]\tLoss: 0.001388\n",
      "Train Epoch: 5 [14000/50501 (28%)]\tLoss: 0.001341\n",
      "Train Epoch: 5 [15000/50501 (30%)]\tLoss: 0.001229\n",
      "Train Epoch: 5 [16000/50501 (32%)]\tLoss: 0.001468\n",
      "Train Epoch: 5 [17000/50501 (34%)]\tLoss: 0.001315\n",
      "Train Epoch: 5 [18000/50501 (36%)]\tLoss: 0.001333\n",
      "Train Epoch: 5 [19000/50501 (38%)]\tLoss: 0.001665\n",
      "Train Epoch: 5 [20000/50501 (40%)]\tLoss: 0.001362\n",
      "Train Epoch: 5 [21000/50501 (42%)]\tLoss: 0.001403\n",
      "Train Epoch: 5 [22000/50501 (43%)]\tLoss: 0.001375\n",
      "Train Epoch: 5 [23000/50501 (45%)]\tLoss: 0.001337\n",
      "Train Epoch: 5 [24000/50501 (47%)]\tLoss: 0.001426\n",
      "Train Epoch: 5 [25000/50501 (49%)]\tLoss: 0.001381\n",
      "Train Epoch: 5 [26000/50501 (51%)]\tLoss: 0.001245\n",
      "Train Epoch: 5 [27000/50501 (53%)]\tLoss: 0.001283\n",
      "Train Epoch: 5 [28000/50501 (55%)]\tLoss: 0.001398\n",
      "Train Epoch: 5 [29000/50501 (57%)]\tLoss: 0.001388\n",
      "Train Epoch: 5 [30000/50501 (59%)]\tLoss: 0.001365\n",
      "Train Epoch: 5 [31000/50501 (61%)]\tLoss: 0.001467\n",
      "Train Epoch: 5 [32000/50501 (63%)]\tLoss: 0.001340\n",
      "Train Epoch: 5 [33000/50501 (65%)]\tLoss: 0.001350\n",
      "Train Epoch: 5 [34000/50501 (67%)]\tLoss: 0.001360\n",
      "Train Epoch: 5 [35000/50501 (69%)]\tLoss: 0.001340\n",
      "Train Epoch: 5 [36000/50501 (71%)]\tLoss: 0.001319\n",
      "Train Epoch: 5 [37000/50501 (73%)]\tLoss: 0.001281\n",
      "Train Epoch: 5 [38000/50501 (75%)]\tLoss: 0.001298\n",
      "Train Epoch: 5 [39000/50501 (77%)]\tLoss: 0.001247\n",
      "Train Epoch: 5 [40000/50501 (79%)]\tLoss: 0.001337\n",
      "Train Epoch: 5 [41000/50501 (81%)]\tLoss: 0.001407\n",
      "Train Epoch: 5 [42000/50501 (83%)]\tLoss: 0.001361\n",
      "Train Epoch: 5 [43000/50501 (85%)]\tLoss: 0.001307\n",
      "Train Epoch: 5 [44000/50501 (87%)]\tLoss: 0.001294\n",
      "Train Epoch: 5 [45000/50501 (89%)]\tLoss: 0.001466\n",
      "Train Epoch: 5 [46000/50501 (91%)]\tLoss: 0.001331\n",
      "Train Epoch: 5 [47000/50501 (93%)]\tLoss: 0.001329\n",
      "Train Epoch: 5 [48000/50501 (95%)]\tLoss: 0.001260\n",
      "Train Epoch: 5 [49000/50501 (97%)]\tLoss: 0.001247\n",
      "Train Epoch: 5 [50000/50501 (99%)]\tLoss: 0.001247\n",
      "====> Epoch: 5 Average loss: 0.0014\n",
      "====> Test set loss: 0.1245\n"
     ]
    }
   ],
   "source": [
    "def train(epoch):\n",
    "    model.train()\n",
    "    train_loss = 0\n",
    "    for batch_idx, data in enumerate(train_loader):\n",
    "        rgb = data[0]\n",
    "        preds = data[1]\n",
    "        batch_size = preds.shape[0]\n",
    "        preds = F.one_hot(preds.to(torch.int64))\n",
    "        preds = preds.permute(0,3,4,1,2)\n",
    "        preds = preds.reshape(batch_size,23,128,128)\n",
    "        preds = preds.to(device,dtype=torch.float32)\n",
    "        optimizer.zero_grad()\n",
    "        #dont need latent space output while training\n",
    "        y_batch,_ = model(rgb)\n",
    "        loss = loss_fn(y_batch, preds)\n",
    "        loss.backward()\n",
    "        train_loss += loss.item()\n",
    "        optimizer.step()\n",
    "        if batch_idx % 10 == 0:\n",
    "            print('Train Epoch: {} [{}/{} ({:.0f}%)]\\tLoss: {:.6f}'.format(\n",
    "                epoch, batch_idx * len(data[0]), len(train_loader.dataset),\n",
    "                100. * batch_idx / len(train_loader),\n",
    "                loss.item() / len(data[0])))\n",
    "    avg_loss = train_loss / len(train_loader.dataset)\n",
    "    print('====> Epoch: {} Average loss: {:.4f}'.format(\n",
    "          epoch, avg_loss))\n",
    "    return avg_loss\n",
    "    \n",
    "    \n",
    "\n",
    "\n",
    "def test(epoch):\n",
    "    model.eval()\n",
    "    test_loss = 0\n",
    "    with torch.no_grad():\n",
    "        for i, data in enumerate(test_loader):\n",
    "            rgb = data[0]\n",
    "            preds = data[1]\n",
    "            batch_size = preds.shape[0]\n",
    "            preds = F.one_hot(preds.to(torch.int64))\n",
    "            preds = preds.reshape(batch_size,23,128,128)\n",
    "            preds = preds.to(device,dtype=torch.float32)\n",
    "            y_batch,_ = model(rgb)\n",
    "            test_loss += loss_fn(y_batch,preds).item()\n",
    "\n",
    "    test_loss /= len(test_loader.dataset)\n",
    "    print('====> Test set loss: {:.4f}'.format(test_loss))\n",
    "\n",
    "\n",
    "for epoch in range(1, 5 + 1):\n",
    "    smallest_loss = 1000\n",
    "    avg_loss = train(epoch)\n",
    "    if avg_loss < smallest_loss:\n",
    "        torch.save(model.state_dict(), './AE_params/model_3.best')\n",
    "    test(epoch)\n",
    "   "
   ]
  },
  {
   "cell_type": "code",
   "execution_count": 233,
   "id": "07047bbb",
   "metadata": {},
   "outputs": [],
   "source": [
    "torch.cuda.empty_cache()"
   ]
  },
  {
   "cell_type": "code",
   "execution_count": 119,
   "id": "5052998d",
   "metadata": {},
   "outputs": [
    {
     "data": {
      "text/plain": [
       "PerceptionNet(\n",
       "  (conv1): Conv2d(3, 32, kernel_size=(4, 4), stride=(2, 2), padding=(1, 1))\n",
       "  (conv2): Conv2d(32, 64, kernel_size=(4, 4), stride=(2, 2), padding=(1, 1))\n",
       "  (bn2): BatchNorm2d(64, eps=1e-05, momentum=0.1, affine=True, track_running_stats=True)\n",
       "  (conv3): Conv2d(64, 128, kernel_size=(4, 4), stride=(2, 2), padding=(1, 1))\n",
       "  (bn3): BatchNorm2d(128, eps=1e-05, momentum=0.1, affine=True, track_running_stats=True)\n",
       "  (conv4): Conv2d(128, 256, kernel_size=(4, 4), stride=(2, 2), padding=(1, 1))\n",
       "  (bn4): BatchNorm2d(256, eps=1e-05, momentum=0.1, affine=True, track_running_stats=True)\n",
       "  (conv5): Conv2d(256, 512, kernel_size=(4, 4), stride=(2, 2), padding=(1, 1))\n",
       "  (bn5): BatchNorm2d(512, eps=1e-05, momentum=0.1, affine=True, track_running_stats=True)\n",
       "  (conv6): Conv2d(512, 64, kernel_size=(4, 4), stride=(1, 1))\n",
       "  (conv7): ConvTranspose2d(64, 512, kernel_size=(4, 4), stride=(1, 1))\n",
       "  (bn6): BatchNorm2d(512, eps=1e-05, momentum=0.1, affine=True, track_running_stats=True)\n",
       "  (conv8): ConvTranspose2d(512, 256, kernel_size=(4, 4), stride=(2, 2), padding=(1, 1))\n",
       "  (bn7): BatchNorm2d(256, eps=1e-05, momentum=0.1, affine=True, track_running_stats=True)\n",
       "  (conv9): ConvTranspose2d(256, 128, kernel_size=(4, 4), stride=(2, 2), padding=(1, 1))\n",
       "  (bn8): BatchNorm2d(128, eps=1e-05, momentum=0.1, affine=True, track_running_stats=True)\n",
       "  (conv10): ConvTranspose2d(128, 64, kernel_size=(4, 4), stride=(2, 2), padding=(1, 1))\n",
       "  (bn9): BatchNorm2d(64, eps=1e-05, momentum=0.1, affine=True, track_running_stats=True)\n",
       "  (conv11): ConvTranspose2d(64, 32, kernel_size=(4, 4), stride=(2, 2), padding=(1, 1))\n",
       "  (bn10): BatchNorm2d(32, eps=1e-05, momentum=0.1, affine=True, track_running_stats=True)\n",
       "  (conv12): ConvTranspose2d(32, 23, kernel_size=(4, 4), stride=(2, 2), padding=(1, 1))\n",
       ")"
      ]
     },
     "execution_count": 119,
     "metadata": {},
     "output_type": "execute_result"
    }
   ],
   "source": [
    "model.load_state_dict(torch.load('./AE_params/model_3.best'))\n",
    "model.eval()"
   ]
  },
  {
   "cell_type": "code",
   "execution_count": 232,
   "id": "5784fc6b",
   "metadata": {},
   "outputs": [
    {
     "name": "stdout",
     "output_type": "stream",
     "text": [
      "torch.Size([1, 64, 1, 1])\n"
     ]
    }
   ],
   "source": [
    " with torch.no_grad():\n",
    "        sample_index = random.randint(0,test_data.__len__()-1)\n",
    "        test_item = train_data.__getitem__(sample_index)\n",
    "        sample = test_item[0].to(device)\n",
    "        actual = test_item[1]\n",
    "        sample,latent_space = model(sample.reshape(1,3,128,128))\n",
    "        sample = sample.cpu().argmax(dim=1)\n",
    "        print(latent_space.shape)\n",
    "        #save_image(sample.view(64, 1, 28, 28),\n",
    "                   #'results/sample_' + str(epoch) + '.png')"
   ]
  },
  {
   "cell_type": "code",
   "execution_count": 224,
   "id": "ef403132",
   "metadata": {},
   "outputs": [
    {
     "data": {
      "text/plain": [
       "tensor([13, 13, 13, 13, 13, 13, 13, 13, 13, 13, 13, 13, 13, 13, 13, 13, 13, 13,\n",
       "        13, 13, 13, 13, 13, 13, 13, 13, 13, 13, 13, 13, 13, 13, 13, 13, 13, 13,\n",
       "        13, 13, 13, 13, 13, 13, 13, 13, 13, 13, 13, 13, 13, 13, 13, 13, 13, 13,\n",
       "        13, 13, 13, 13, 13, 13, 13, 13, 13, 13, 13, 13, 13, 13, 13, 13, 13, 13,\n",
       "        13, 13, 13, 13, 13, 13, 13, 13, 13, 13, 13, 13, 13, 13, 13, 13, 13, 13,\n",
       "        13, 13, 13, 13, 13, 13, 13, 13, 13, 13, 13, 13, 13, 13, 13, 13, 13, 13,\n",
       "        13, 13, 13, 13, 13, 13, 13, 13, 13, 13, 13, 13, 13, 13, 13, 13, 13, 13,\n",
       "        13, 13])"
      ]
     },
     "execution_count": 224,
     "metadata": {},
     "output_type": "execute_result"
    }
   ],
   "source": [
    "sample[0][10]"
   ]
  },
  {
   "cell_type": "code",
   "execution_count": 188,
   "id": "df5cc76a",
   "metadata": {},
   "outputs": [
    {
     "data": {
      "text/plain": [
       "tensor([[[131, 131, 132,  ..., 232, 232, 232],\n",
       "         [131, 131, 132,  ..., 232, 232, 232],\n",
       "         [132, 132, 133,  ..., 231, 231, 231],\n",
       "         ...,\n",
       "         [107, 102, 100,  ..., 116, 104,  85],\n",
       "         [106, 105, 109,  ..., 105, 111, 122],\n",
       "         [101, 110, 112,  ..., 124, 123, 112]],\n",
       "\n",
       "        [[148, 148, 149,  ..., 232, 232, 232],\n",
       "         [148, 148, 149,  ..., 232, 232, 232],\n",
       "         [149, 149, 150,  ..., 231, 231, 231],\n",
       "         ...,\n",
       "         [ 68,  63,  61,  ...,  77,  65,  44],\n",
       "         [ 65,  64,  68,  ...,  62,  68,  79],\n",
       "         [ 60,  69,  71,  ...,  81,  78,  67]],\n",
       "\n",
       "        [[176, 176, 177,  ..., 234, 234, 234],\n",
       "         [176, 176, 177,  ..., 234, 234, 234],\n",
       "         [177, 177, 178,  ..., 233, 233, 233],\n",
       "         ...,\n",
       "         [ 73,  68,  66,  ...,  82,  70,  50],\n",
       "         [ 71,  70,  74,  ...,  69,  75,  86],\n",
       "         [ 66,  75,  77,  ...,  88,  85,  74]]], dtype=torch.uint8)"
      ]
     },
     "execution_count": 188,
     "metadata": {},
     "output_type": "execute_result"
    }
   ],
   "source": [
    "test_item[0]"
   ]
  },
  {
   "cell_type": "code",
   "execution_count": 189,
   "id": "c8f54e42",
   "metadata": {},
   "outputs": [
    {
     "data": {
      "text/plain": [
       "tensor([[[[131, 131, 132,  ..., 232, 232, 232],\n",
       "          [131, 131, 132,  ..., 232, 232, 232],\n",
       "          [132, 132, 133,  ..., 231, 231, 231],\n",
       "          ...,\n",
       "          [107, 102, 100,  ..., 116, 104,  85],\n",
       "          [106, 105, 109,  ..., 105, 111, 122],\n",
       "          [101, 110, 112,  ..., 124, 123, 112]],\n",
       "\n",
       "         [[148, 148, 149,  ..., 232, 232, 232],\n",
       "          [148, 148, 149,  ..., 232, 232, 232],\n",
       "          [149, 149, 150,  ..., 231, 231, 231],\n",
       "          ...,\n",
       "          [ 68,  63,  61,  ...,  77,  65,  44],\n",
       "          [ 65,  64,  68,  ...,  62,  68,  79],\n",
       "          [ 60,  69,  71,  ...,  81,  78,  67]],\n",
       "\n",
       "         [[176, 176, 177,  ..., 234, 234, 234],\n",
       "          [176, 176, 177,  ..., 234, 234, 234],\n",
       "          [177, 177, 178,  ..., 233, 233, 233],\n",
       "          ...,\n",
       "          [ 73,  68,  66,  ...,  82,  70,  50],\n",
       "          [ 71,  70,  74,  ...,  69,  75,  86],\n",
       "          [ 66,  75,  77,  ...,  88,  85,  74]]]], dtype=torch.uint8)"
      ]
     },
     "execution_count": 189,
     "metadata": {},
     "output_type": "execute_result"
    }
   ],
   "source": [
    "test_item[0].reshape(1,3,128,128)"
   ]
  },
  {
   "cell_type": "code",
   "execution_count": 179,
   "id": "a9fa82a2",
   "metadata": {},
   "outputs": [
    {
     "data": {
      "image/png": "[encoded data removed]",
      "text/plain": [
       "<PIL.Image.Image image mode=RGB size=128x128 at 0x7F5B981A9310>"
      ]
     },
     "execution_count": 179,
     "metadata": {},
     "output_type": "execute_result"
    }
   ],
   "source": [
    "data = train_data.__getitem__(1000)\n",
    "sem = replace(data[1])\n",
    "Image.fromarray(sem.reshape(128,128,3))"
   ]
  },
  {
   "cell_type": "code",
   "execution_count": null,
   "id": "351ad8e7",
   "metadata": {},
   "outputs": [],
   "source": []
  },
  {
   "cell_type": "code",
   "execution_count": 207,
   "id": "adb35120",
   "metadata": {},
   "outputs": [],
   "source": [
    "im = Image.fromarray(data[0].permute((1,2,0)).numpy(), 'RGB')"
   ]
  },
  {
   "cell_type": "code",
   "execution_count": 208,
   "id": "bd052286",
   "metadata": {},
   "outputs": [],
   "source": [
    "im.show()"
   ]
  },
  {
   "cell_type": "code",
   "execution_count": 121,
   "id": "691a80b8",
   "metadata": {},
   "outputs": [],
   "source": [
    "tag_convert_dict = {0:[0,0,0],\n",
    "                   1:[70,70,70],\n",
    "                   2:[100,40,40],\n",
    "                   3:[55,90,80],\n",
    "                   4:[220,20,60],\n",
    "                   5:[153,153,153],\n",
    "                   6:[157,234,50],\n",
    "                   7:[128,64,128],\n",
    "                   8:[244,35,232],\n",
    "                   9:[107,142,35],\n",
    "                   10:[0,0,142],\n",
    "                   11:[102,102,156],\n",
    "                   12:[220,220,0],\n",
    "                   13:[70,130,180],\n",
    "                   14:[81,0,81],\n",
    "                   15:[150,100,100],\n",
    "                   16:[230,150,140],\n",
    "                   17:[180,165,180],\n",
    "                   18:[250,170,30],\n",
    "                   19:[110,190,160],\n",
    "                   20:[170,120,50],\n",
    "                   21:[45,60,150],\n",
    "                   22:[145,170,100],\n",
    "                  }"
   ]
  },
  {
   "cell_type": "code",
   "execution_count": 225,
   "id": "7be49b13",
   "metadata": {},
   "outputs": [],
   "source": [
    "def replace(a):\n",
    "    a = a.reshape(128,128)\n",
    "    pic = np.zeros((128,128,3),dtype='uint8')\n",
    "    for x, y in np.ndindex(a.shape):\n",
    "        value = a[x,y]\n",
    "        RGB_values = tag_convert_dict[value]\n",
    "        pic[x,y,0] = RGB_values[0]\n",
    "        pic[x,y,1] = RGB_values[1]\n",
    "        pic[x,y,2] = RGB_values[2]\n",
    "    return pic"
   ]
  },
  {
   "cell_type": "code",
   "execution_count": 123,
   "id": "83ed6523",
   "metadata": {},
   "outputs": [
    {
     "data": {
      "text/plain": [
       "tensor([[18, 18, 15,  7,  4,  1,  9, 12,  3,  9,  9, 20,  3,  0, 14,  5, 12, 16,\n",
       "         13,  5,  2, 10,  7, 18, 18, 15,  7,  4,  1,  9, 12, 10,  9,  9, 20,  3,\n",
       "          0, 14,  5, 11, 16, 13,  5,  2, 10,  7, 18, 18, 15, 21,  4,  1,  9, 12,\n",
       "          9,  9,  9, 20,  3,  0, 14,  5, 11, 16,  8,  5,  2, 10,  7, 18, 18, 15,\n",
       "         21,  4,  1,  9, 12, 14,  9,  9,  6,  3, 11,  8,  5, 12, 16,  8,  5,  2,\n",
       "         10,  7, 18, 18, 15,  7,  4,  1,  9, 12,  3, 11,  9,  6,  3,  0, 14,  5,\n",
       "         12, 16, 22, 19,  2, 10,  7, 18, 18, 15,  7,  4,  1,  9, 12, 11,  9,  9,\n",
       "         20,  3]])"
      ]
     },
     "execution_count": 123,
     "metadata": {},
     "output_type": "execute_result"
    }
   ],
   "source": [
    "sample[:,0,:]"
   ]
  },
  {
   "cell_type": "code",
   "execution_count": 226,
   "id": "a487aba7",
   "metadata": {},
   "outputs": [],
   "source": [
    "pic = replace(sample.numpy())"
   ]
  },
  {
   "cell_type": "code",
   "execution_count": 227,
   "id": "2f2151db",
   "metadata": {},
   "outputs": [
    {
     "data": {
      "image/png": "[encoded data removed]",
      "text/plain": [
       "<PIL.Image.Image image mode=RGB size=128x128 at 0x7F5B981A9ED0>"
      ]
     },
     "execution_count": 227,
     "metadata": {},
     "output_type": "execute_result"
    }
   ],
   "source": [
    "Image.fromarray(pic,'RGB')"
   ]
  },
  {
   "cell_type": "code",
   "execution_count": 93,
   "id": "48dc3df7",
   "metadata": {},
   "outputs": [],
   "source": [
    "im.show()"
   ]
  },
  {
   "cell_type": "code",
   "execution_count": 34,
   "id": "d5a71d3c",
   "metadata": {},
   "outputs": [
    {
     "ename": "ValueError",
     "evalue": "setting an array element with a sequence.",
     "output_type": "error",
     "traceback": [
      "\u001b[0;31m---------------------------------------------------------------------------\u001b[0m",
      "\u001b[0;31mTypeError\u001b[0m                                 Traceback (most recent call last)",
      "\u001b[0;31mTypeError\u001b[0m: int() argument must be a string, a bytes-like object or a number, not 'list'",
      "\nThe above exception was the direct cause of the following exception:\n",
      "\u001b[0;31mValueError\u001b[0m                                Traceback (most recent call last)",
      "\u001b[0;32m/tmp/ipykernel_2713/2538118815.py\u001b[0m in \u001b[0;36m<module>\u001b[0;34m\u001b[0m\n\u001b[0;32m----> 1\u001b[0;31m \u001b[0mout\u001b[0m \u001b[0;34m=\u001b[0m \u001b[0mfunc\u001b[0m\u001b[0;34m(\u001b[0m\u001b[0msample\u001b[0m\u001b[0;34m.\u001b[0m\u001b[0mnumpy\u001b[0m\u001b[0;34m(\u001b[0m\u001b[0;34m)\u001b[0m\u001b[0;34m)\u001b[0m\u001b[0;34m\u001b[0m\u001b[0;34m\u001b[0m\u001b[0m\n\u001b[0m",
      "\u001b[0;32m~/anaconda3/envs/pytorch/lib/python3.7/site-packages/numpy/lib/function_base.py\u001b[0m in \u001b[0;36m__call__\u001b[0;34m(self, *args, **kwargs)\u001b[0m\n\u001b[1;32m   2161\u001b[0m             \u001b[0mvargs\u001b[0m\u001b[0;34m.\u001b[0m\u001b[0mextend\u001b[0m\u001b[0;34m(\u001b[0m\u001b[0;34m[\u001b[0m\u001b[0mkwargs\u001b[0m\u001b[0;34m[\u001b[0m\u001b[0m_n\u001b[0m\u001b[0;34m]\u001b[0m \u001b[0;32mfor\u001b[0m \u001b[0m_n\u001b[0m \u001b[0;32min\u001b[0m \u001b[0mnames\u001b[0m\u001b[0;34m]\u001b[0m\u001b[0;34m)\u001b[0m\u001b[0;34m\u001b[0m\u001b[0;34m\u001b[0m\u001b[0m\n\u001b[1;32m   2162\u001b[0m \u001b[0;34m\u001b[0m\u001b[0m\n\u001b[0;32m-> 2163\u001b[0;31m         \u001b[0;32mreturn\u001b[0m \u001b[0mself\u001b[0m\u001b[0;34m.\u001b[0m\u001b[0m_vectorize_call\u001b[0m\u001b[0;34m(\u001b[0m\u001b[0mfunc\u001b[0m\u001b[0;34m=\u001b[0m\u001b[0mfunc\u001b[0m\u001b[0;34m,\u001b[0m \u001b[0margs\u001b[0m\u001b[0;34m=\u001b[0m\u001b[0mvargs\u001b[0m\u001b[0;34m)\u001b[0m\u001b[0;34m\u001b[0m\u001b[0;34m\u001b[0m\u001b[0m\n\u001b[0m\u001b[1;32m   2164\u001b[0m \u001b[0;34m\u001b[0m\u001b[0m\n\u001b[1;32m   2165\u001b[0m     \u001b[0;32mdef\u001b[0m \u001b[0m_get_ufunc_and_otypes\u001b[0m\u001b[0;34m(\u001b[0m\u001b[0mself\u001b[0m\u001b[0;34m,\u001b[0m \u001b[0mfunc\u001b[0m\u001b[0;34m,\u001b[0m \u001b[0margs\u001b[0m\u001b[0;34m)\u001b[0m\u001b[0;34m:\u001b[0m\u001b[0;34m\u001b[0m\u001b[0;34m\u001b[0m\u001b[0m\n",
      "\u001b[0;32m~/anaconda3/envs/pytorch/lib/python3.7/site-packages/numpy/lib/function_base.py\u001b[0m in \u001b[0;36m_vectorize_call\u001b[0;34m(self, func, args)\u001b[0m\n\u001b[1;32m   2247\u001b[0m \u001b[0;34m\u001b[0m\u001b[0m\n\u001b[1;32m   2248\u001b[0m             \u001b[0;32mif\u001b[0m \u001b[0mufunc\u001b[0m\u001b[0;34m.\u001b[0m\u001b[0mnout\u001b[0m \u001b[0;34m==\u001b[0m \u001b[0;36m1\u001b[0m\u001b[0;34m:\u001b[0m\u001b[0;34m\u001b[0m\u001b[0;34m\u001b[0m\u001b[0m\n\u001b[0;32m-> 2249\u001b[0;31m                 \u001b[0mres\u001b[0m \u001b[0;34m=\u001b[0m \u001b[0masanyarray\u001b[0m\u001b[0;34m(\u001b[0m\u001b[0moutputs\u001b[0m\u001b[0;34m,\u001b[0m \u001b[0mdtype\u001b[0m\u001b[0;34m=\u001b[0m\u001b[0motypes\u001b[0m\u001b[0;34m[\u001b[0m\u001b[0;36m0\u001b[0m\u001b[0;34m]\u001b[0m\u001b[0;34m)\u001b[0m\u001b[0;34m\u001b[0m\u001b[0;34m\u001b[0m\u001b[0m\n\u001b[0m\u001b[1;32m   2250\u001b[0m             \u001b[0;32melse\u001b[0m\u001b[0;34m:\u001b[0m\u001b[0;34m\u001b[0m\u001b[0;34m\u001b[0m\u001b[0m\n\u001b[1;32m   2251\u001b[0m                 res = tuple([asanyarray(x, dtype=t)\n",
      "\u001b[0;31mValueError\u001b[0m: setting an array element with a sequence."
     ]
    }
   ],
   "source": [
    "out = func(sample.numpy())"
   ]
  },
  {
   "cell_type": "code",
   "execution_count": 30,
   "id": "43133258",
   "metadata": {},
   "outputs": [
    {
     "data": {
      "text/plain": [
       "array([[[20, 32, 20, ...,  8, 20,  8],\n",
       "        [30, 14, 30, ...,  6, 12,  6],\n",
       "        [14,  8, 40, ...,  8, 32,  8],\n",
       "        ...,\n",
       "        [ 6,  6, 30, ..., 16, 12,  4],\n",
       "        [ 8, 32,  8, ..., 32,  8,  8],\n",
       "        [14, 14,  6, ..., 14, 30, 22]]])"
      ]
     },
     "execution_count": 30,
     "metadata": {},
     "output_type": "execute_result"
    }
   ],
   "source": [
    "out"
   ]
  },
  {
   "cell_type": "code",
   "execution_count": 150,
   "id": "ca4b2495",
   "metadata": {},
   "outputs": [],
   "source": [
    "im = Image.open('./Datasets/ClearNoon/Town03/RGB/Tue, 01 Feb 2022 14:40:47.jpeg')"
   ]
  },
  {
   "cell_type": "code",
   "execution_count": 151,
   "id": "03717e23",
   "metadata": {},
   "outputs": [],
   "source": [
    "im.show()"
   ]
  },
  {
   "cell_type": "code",
   "execution_count": 141,
   "id": "78f48c77",
   "metadata": {},
   "outputs": [],
   "source": [
    "t_im = read_image('./Datasets/ClearNoon/Town03/RGB/Tue, 01 Feb 2022 14:40:47.jpeg')"
   ]
  },
  {
   "cell_type": "code",
   "execution_count": 154,
   "id": "f611419a",
   "metadata": {},
   "outputs": [],
   "source": [
    "new_t = t_im.reshape(128,128,3)"
   ]
  },
  {
   "cell_type": "code",
   "execution_count": 157,
   "id": "787db0f7",
   "metadata": {},
   "outputs": [],
   "source": [
    "def show(imgs):\n",
    "    fix, axs = plt.subplots(ncols=len(imgs), squeeze=False)\n",
    "    for i, img in enumerate(imgs):\n",
    "        img = T.ToPILImage()(img.to('cpu'))\n",
    "        axs[0, i].imshow(np.asarray(img))\n",
    "        axs[0, i].set(xticklabels=[], yticklabels=[], xticks=[], yticks=[])"
   ]
  },
  {
   "cell_type": "code",
   "execution_count": 158,
   "id": "0c0c8c7a",
   "metadata": {},
   "outputs": [
    {
     "data": {
      "image/png": "[encoded data removed]",
      "text/plain": [
       "<Figure size 432x288 with 3 Axes>"
      ]
     },
     "metadata": {},
     "output_type": "display_data"
    }
   ],
   "source": [
    "show(t_im)"
   ]
  },
  {
   "cell_type": "code",
   "execution_count": 147,
   "id": "6a98da29",
   "metadata": {},
   "outputs": [],
   "source": [
    "import matplotlib.pyplot as plt\n",
    "import torchvision.transforms as T"
   ]
  }
 ],
 "metadata": {
  "kernelspec": {
   "display_name": "Python 3 (ipykernel)",
   "language": "python",
   "name": "python3"
  },
  "language_info": {
   "codemirror_mode": {
    "name": "ipython",
    "version": 3
   },
   "file_extension": ".py",
   "mimetype": "text/x-python",
   "name": "python",
   "nbconvert_exporter": "python",
   "pygments_lexer": "ipython3",
   "version": "3.7.11"
  }
 },
 "nbformat": 4,
 "nbformat_minor": 5
}
