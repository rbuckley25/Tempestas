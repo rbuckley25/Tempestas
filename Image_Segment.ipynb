{
 "cells": [
  {
   "cell_type": "markdown",
   "id": "47ec9984",
   "metadata": {},
   "source": [
    "# Learning to Drive in Adverse Weather Conditions"
   ]
  },
  {
   "cell_type": "markdown",
   "id": "07881483",
   "metadata": {},
   "source": [
    "## Introduction & Setup\n",
    "\n",
    "This project is designed to explore using Reinforcement learning to teach an autonomous agent to drive in adverse weather conditions.\n",
    "\n",
    "### Setup\n",
    "\n",
    "- The project will be performed using an autonomous drving simulator called CARLA.\n",
    "- Python 3.8\n",
    "- Anconda\n",
    "\n",
    "[Project Github](https://github.com/rbuckley25/Tempestas)"
   ]
  },
  {
   "cell_type": "markdown",
   "id": "28cdd1a5",
   "metadata": {},
   "source": [
    "### Image Segmentor"
   ]
  },
  {
   "cell_type": "code",
   "execution_count": 51,
   "id": "c875bbd8",
   "metadata": {},
   "outputs": [],
   "source": [
    "import torch\n",
    "import torch.nn as nn\n",
    "import torch.nn.functional as F\n",
    "import os\n",
    "import numpy as np"
   ]
  },
  {
   "cell_type": "code",
   "execution_count": 52,
   "id": "7bbc6e59",
   "metadata": {},
   "outputs": [],
   "source": [
    "def ImageLoader(weather,town):\n",
    "    dirt = './Datasets/'+weather+'/'+town\n",
    "    sem_dir = os.listdir(dirt+'/Semantic')\n",
    "    rgb_dir = os.listdir(dirt+'/RGB')\n",
    "    sem = []\n",
    "    rgb = []\n",
    "    #extract sets of image matrixs for each episode\n",
    "    for i in range(len(sem_dir)):\n",
    "        sem.append(np.load(dirt+'/Semantic/'+sem_dir[i]))\n",
    "        rgb.append(np.load(dirt+'/RGB/'+sem_dir[i]))\n",
    "    \n",
    "    return sem, rgb\n",
    "\n",
    "    \n",
    "    "
   ]
  },
  {
   "cell_type": "code",
   "execution_count": 53,
   "id": "3dba4716",
   "metadata": {},
   "outputs": [],
   "source": [
    "semantic, rgb = ImageLoader('ClearNoon','Town04')"
   ]
  },
  {
   "cell_type": "code",
   "execution_count": 56,
   "id": "864dcf1a",
   "metadata": {},
   "outputs": [
    {
     "data": {
      "text/plain": [
       "<numpy.lib.npyio.NpzFile at 0x7fa15b6c4810>"
      ]
     },
     "execution_count": 56,
     "metadata": {},
     "output_type": "execute_result"
    }
   ],
   "source": [
    "semantic[9]"
   ]
  },
  {
   "cell_type": "code",
   "execution_count": null,
   "id": "19530966",
   "metadata": {},
   "outputs": [],
   "source": [
    "Image"
   ]
  },
  {
   "cell_type": "code",
   "execution_count": 6,
   "id": "7153d5a8",
   "metadata": {},
   "outputs": [
    {
     "name": "stdout",
     "output_type": "stream",
     "text": [
      "Using cuda device\n"
     ]
    }
   ],
   "source": [
    "device = \"cuda\" if torch.cuda.is_available() else \"cpu\"\n",
    "print(f\"Using {device} device\")"
   ]
  },
  {
   "cell_type": "code",
   "execution_count": 9,
   "id": "378cfeac",
   "metadata": {},
   "outputs": [],
   "source": [
    "class PerceptionNet(nn.Module):\n",
    "\n",
    "    def __init__(self):\n",
    "        super(PerceptionNet,self).__init__()\n",
    "        self.conv1 = nn.Conv2d(32, 64, kernel_size=4, stride=2, padding=1)\n",
    "        \n",
    "        self.conv2 = nn.Conv2d(64, 32, kernel_size=4, stride=2, padding=1)\n",
    "        self.bn2 = nn.BatchNorm2d(64)\n",
    "        \n",
    "        self.conv3 = nn.Conv2d(128, 16, kernel_size=4, stride=2, padding=1)\n",
    "        self.bn3 = nn.BatchNorm2d(128)\n",
    "        \n",
    "        self.conv4 = nn.Conv2d(256, 8, kernel_size=4, stride=2, padding=1)\n",
    "        self.bn4 = nn.BatchNorm2d(256)\n",
    "        \n",
    "        self.conv5 = nn.Conv2d(512, 4, kernel_size=4, stride=2, padding=1)\n",
    "        self.bn5 = nn.BatchNorm2d(512)\n",
    "        \n",
    "        self.conv6 = nn.Conv2d(64, 1, kernel_size=4, stride=1)\n",
    "        \n",
    "        self.conv7 = torch.nn.ConvTranspose2d(512,4, kernel_size =4, stride=1)\n",
    "        self.bn6 = nn.BatchNorm2d(512)\n",
    "        \n",
    "        self.conv8 = torch.nn.ConvTranspose2d(256,8, kernel_size =4, stride=1, padding=1)\n",
    "        self.bn7 = nn.BatchNorm2d(256)\n",
    "        \n",
    "        self.conv9 = torch.nn.ConvTranspose2d(128,16, kernel_size =4, stride=1, padding=1)\n",
    "        self.bn8 = nn.BatchNorm2d(128)\n",
    "        \n",
    "        self.conv10 = torch.nn.ConvTranspose2d(64,32, kernel_size =4, stride=1, padding=1)\n",
    "        self.bn9 = nn.BatchNorm2d(64)\n",
    "        \n",
    "        self.conv11 = torch.nn.ConvTranspose2d(32,64, kernel_size =4, stride=1, padding=1)\n",
    "        self.bn10 = nn.BatchNorm2d(64)\n",
    "        \n",
    "        self.conv12 = torch.nn.ConvTranspose2d(13,128, kernel_size =4, stride=1, padding=1)\n",
    "        \n",
    "            \n",
    "\n",
    "    def forward(self, x):\n",
    "        x = x.to(device)\n",
    "        x = F.leaky_relu(self.conv1(x),negative_slope=0.02)\n",
    "        x = F.leaku_relu(self.bn2(self.conv2(x)),negative_slope=0.02)\n",
    "        x = F.leaky_relu(self.bn3(self.conv3(x)),negative_slope=0.02)\n",
    "        x = F.leaky_relu(self.bn4(self.conv4(x)),negative_slope=0.02)\n",
    "        x = F.leaky_relu(self.bn5(self.conv5(x)),negative_slope=0.02)\n",
    "        x = self.conv6(x)\n",
    "        \n",
    "        y = F.leaky_relu(self.bn6(self.conv7(x)),negative_slope=0.02)\n",
    "        y = F.leaky_relu(self.bn7(self.conv8(y)),negative_slope=0.02)\n",
    "        y = F.leaky_relu(self.bn8(self.conv9(y)),negative_slope=0.02)\n",
    "        y = F.leaky_relu(self.bn9(self.conv10(y)),negative_slope=0.02)\n",
    "        y = F.leaky_relu(self.bn10(self.conv11(y)),negative_slope=0.02)\n",
    "        y = F.leaky_relu(self.conv5(y),negative_slope=0.02)\n",
    "        y = F.sigmoid(self.bn5(self.conv5(y)))\n",
    "      \n",
    "        \n",
    "        return x, y"
   ]
  },
  {
   "cell_type": "code",
   "execution_count": 10,
   "id": "4fda9eb3",
   "metadata": {},
   "outputs": [],
   "source": [
    "model = PerceptionNet()"
   ]
  },
  {
   "cell_type": "code",
   "execution_count": 11,
   "id": "46cb67cf",
   "metadata": {},
   "outputs": [],
   "source": [
    "loss_fn = nn.CrossEntropyLoss()\n",
    "optimizer = torch.optim.Adam(model.parameters(), lr=1e-3)"
   ]
  }
 ],
 "metadata": {
  "kernelspec": {
   "display_name": "Python 3 (ipykernel)",
   "language": "python",
   "name": "python3"
  },
  "language_info": {
   "codemirror_mode": {
    "name": "ipython",
    "version": 3
   },
   "file_extension": ".py",
   "mimetype": "text/x-python",
   "name": "python",
   "nbconvert_exporter": "python",
   "pygments_lexer": "ipython3",
   "version": "3.7.11"
  }
 },
 "nbformat": 4,
 "nbformat_minor": 5
}
