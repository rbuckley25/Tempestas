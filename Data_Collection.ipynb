{
 "cells": [
  {
   "cell_type": "code",
   "execution_count": 1,
   "id": "7e17c01b",
   "metadata": {},
   "outputs": [],
   "source": [
    "import glob\n",
    "import os\n",
    "import sys\n",
    "import time\n",
    "import random\n",
    "\n",
    "import carla\n",
    "\n",
    "import torch\n",
    "\n",
    "import carla\n",
    "import math\n",
    "import random\n",
    "import numpy as np\n",
    "import matplotlib\n",
    "import matplotlib.pyplot as plt\n",
    "\n",
    "from PIL import Image\n",
    "\n",
    "from agents.navigation.basic_agent import BasicAgent\n",
    "\n",
    "import gym\n",
    "import gym_carla\n",
    "\n",
    "import torch.nn as nn\n",
    "from itertools import count\n",
    "import torch.nn.functional as F\n",
    "\n",
    "# set up matplotlib\n",
    "is_ipython = 'inline' in matplotlib.get_backend()\n",
    "if is_ipython:\n",
    "    from IPython import display\n",
    "\n",
    "device = torch.device(\"cuda\" if torch.cuda.is_available() else \"cpu\")"
   ]
  },
  {
   "cell_type": "code",
   "execution_count": 3,
   "id": "da9fbb5a",
   "metadata": {},
   "outputs": [
    {
     "name": "stdout",
     "output_type": "stream",
     "text": [
      "connecting to Carla server...\n",
      "Carla server connected!\n",
      "WeatherParameters(cloudiness=5.000000, cloudiness=5.000000, precipitation=0.000000, precipitation_deposits=0.000000, wind_intensity=10.000000, sun_azimuth_angle=-1.000000, sun_altitude_angle=45.000000, fog_density=2.000000, fog_distance=0.750000, fog_falloff=0.100000, wetness=0.000000, scattering_intensity=1.000000, mie_scattering_scale=0.030000, rayleigh_scattering_scale=0.033100)\n",
      "372\n"
     ]
    }
   ],
   "source": [
    "# parameters for the gym_carla environment\n",
    "params = {\n",
    "    'number_of_vehicles': 0,\n",
    "    'number_of_walkers': 0,\n",
    "    'display_size': 256,  # screen size of bird-eye render\n",
    "    'max_past_step': 1,  # the number of past steps to draw\n",
    "    'dt': 0.1,  # time interval between two frames\n",
    "    'discrete': True,  # whether to use discrete control space\n",
    "    'discrete_acc': [2.0],  # discrete value of accelerations\n",
    "    'discrete_steer': [-0.3, 0.0, 0.3],  # discrete value of steering angles\n",
    "    'continuous_accel_range': [-3.0, 3.0],  # continuous acceleration range\n",
    "    'continuous_steer_range': [-0.3, 0.3],  # continuous steering angle range\n",
    "    'ego_vehicle_filter': 'vehicle.lincoln*',  # filter for defining ego vehicle\n",
    "    'port': 2000,  # connection port\n",
    "    'town': 'Town04',  # which town to simulate\n",
    "    'task_mode': 'random',  # mode of the task, [random, roundabout (only for Town03)]\n",
    "    'max_time_episode': 500,  # maximum timesteps per episode\n",
    "    'max_waypt': 12,  # maximum number of waypoints\n",
    "    'obs_range': 32,  # observation range (meter)\n",
    "    'lidar_bin': 0.125,  # bin size of lidar sensor (meter)\n",
    "    'obs_size': 128, #obs image sizes\n",
    "    'd_behind': 12,  # distance behind the ego vehicle (meter)\n",
    "    'out_lane_thres': 1.8,  # threshold for out of lane\n",
    "    'desired_speed': 5,  # desired speed (m/s)\n",
    "    'max_ego_spawn_times': 20,  # maximum times to spawn ego vehicle\n",
    "    'display_route': True,  # whether to render the desired route\n",
    "    'pixor_size': 64,  # size of the pixor labels\n",
    "    'pixor': False,  # whether to output PIXOR observation\n",
    "    'use_fixed':False,\n",
    "    'weather':'ClearNoon',\n",
    "    'Collect_Data':True\n",
    "}\n",
    "\n",
    "# Set gym-carla environment\n",
    "env = gym.make('carla-v0', params=params)"
   ]
  },
  {
   "cell_type": "code",
   "execution_count": 5,
   "id": "b042d8c9",
   "metadata": {},
   "outputs": [],
   "source": [
    "class PerceptionNet(nn.Module):\n",
    "\n",
    "    def __init__(self):\n",
    "        super(PerceptionNet,self).__init__()\n",
    "        self.conv1 = nn.Conv2d(3, 32, kernel_size=4, stride=2, padding=1)\n",
    "        \n",
    "        self.conv2 = nn.Conv2d(32, 64, kernel_size=4, stride=2, padding=1)\n",
    "        self.bn2 = nn.BatchNorm2d(64)\n",
    "        \n",
    "        self.conv3 = nn.Conv2d(64, 128, kernel_size=4, stride=2, padding=1)\n",
    "        self.bn3 = nn.BatchNorm2d(128)\n",
    "        \n",
    "        self.conv4 = nn.Conv2d(128, 256, kernel_size=4, stride=2, padding=1)\n",
    "        self.bn4 = nn.BatchNorm2d(256)\n",
    "        \n",
    "        self.conv5 = nn.Conv2d(256, 512, kernel_size=4, stride=2, padding=1)\n",
    "        self.bn5 = nn.BatchNorm2d(512)\n",
    "        \n",
    "        self.conv6 = nn.Conv2d(512, 64, kernel_size=4, stride=1)\n",
    "        \n",
    "        self.conv7 = torch.nn.ConvTranspose2d(64,512, kernel_size =4, stride=1)\n",
    "        self.bn6 = nn.BatchNorm2d(512)\n",
    "        \n",
    "        self.conv8 = torch.nn.ConvTranspose2d(512,256, kernel_size =4, stride=2, padding=1)\n",
    "        self.bn7 = nn.BatchNorm2d(256)\n",
    "        \n",
    "        self.conv9 = torch.nn.ConvTranspose2d(256,128, kernel_size =4, stride=2, padding=1)\n",
    "        self.bn8 = nn.BatchNorm2d(128)\n",
    "        \n",
    "        self.conv10 = torch.nn.ConvTranspose2d(128,64, kernel_size =4, stride=2, padding=1)\n",
    "        self.bn9 = nn.BatchNorm2d(64)\n",
    "        \n",
    "        self.conv11 = torch.nn.ConvTranspose2d(64,32, kernel_size =4, stride=2, padding=1)\n",
    "        self.bn10 = nn.BatchNorm2d(32)\n",
    "        \n",
    "        self.conv12 = torch.nn.ConvTranspose2d(32,23, kernel_size =4, stride=2,padding=1)\n",
    "        \n",
    "            \n",
    "    def encode(self, x):\n",
    "        x = F.leaky_relu(self.conv1(x),negative_slope=0.02)\n",
    "        x = F.leaky_relu(self.bn2(self.conv2(x)),negative_slope=0.02)\n",
    "        x = F.leaky_relu(self.bn3(self.conv3(x)),negative_slope=0.02)\n",
    "        x = F.leaky_relu(self.bn4(self.conv4(x)),negative_slope=0.02)\n",
    "        x = F.leaky_relu(self.bn5(self.conv5(x)),negative_slope=0.02)\n",
    "        return self.conv6(x)\n",
    "    \n",
    "    def decode(self, x):\n",
    "        x = F.leaky_relu(self.bn6(self.conv7(x)),negative_slope=0.02)\n",
    "        x = F.leaky_relu(self.bn7(self.conv8(x)),negative_slope=0.02)\n",
    "        x = F.leaky_relu(self.bn8(self.conv9(x)),negative_slope=0.02)\n",
    "        x = F.leaky_relu(self.bn9(self.conv10(x)),negative_slope=0.02)\n",
    "        x = F.leaky_relu(self.bn10(self.conv11(x)),negative_slope=0.02)\n",
    "        return F.log_softmax(self.conv12(x),dim=1)\n",
    "    \n",
    "    def forward(self, x):\n",
    "        x = x.to(device, dtype=torch.float32)\n",
    "        latent = self.encode(x)\n",
    "        out = self.decode(latent)\n",
    "        return out, latent"
   ]
  },
  {
   "cell_type": "code",
   "execution_count": 8,
   "id": "23be881c",
   "metadata": {},
   "outputs": [],
   "source": [
    "class DQN(nn.Module):\n",
    "\n",
    "    def __init__(self, outputs):\n",
    "        super(DQN, self).__init__()\n",
    "        \n",
    "        self.lin1 = nn.Linear(9,80)\n",
    "        self.lin2 = nn.Linear(80,50)\n",
    "        self.lin3 = nn.Linear(50,25)\n",
    "        self.lin4 = nn.Linear(25,15)\n",
    "        self.lin5 = nn.Linear(15,8)\n",
    "        self.lin6 = nn.Linear(8,3)\n",
    "\n",
    "    def forward(self, x):\n",
    "        x = x.to(device)\n",
    "        x = F.relu(self.lin1(x))\n",
    "        x = F.relu(self.lin2(x))\n",
    "        x = F.relu(self.lin3(x))\n",
    "        x = F.relu(self.lin4(x))\n",
    "        x = F.relu(self.lin5(x))\n",
    "        x = self.lin6(x)\n",
    "        \n",
    "        return x.view(x.size(0), -1)"
   ]
  },
  {
   "cell_type": "code",
   "execution_count": 9,
   "id": "35e54b37",
   "metadata": {},
   "outputs": [
    {
     "data": {
      "text/plain": [
       "DQN(\n",
       "  (lin1): Linear(in_features=9, out_features=80, bias=True)\n",
       "  (lin2): Linear(in_features=80, out_features=50, bias=True)\n",
       "  (lin3): Linear(in_features=50, out_features=25, bias=True)\n",
       "  (lin4): Linear(in_features=25, out_features=15, bias=True)\n",
       "  (lin5): Linear(in_features=15, out_features=8, bias=True)\n",
       "  (lin6): Linear(in_features=8, out_features=3, bias=True)\n",
       ")"
      ]
     },
     "execution_count": 9,
     "metadata": {},
     "output_type": "execute_result"
    }
   ],
   "source": [
    "model = PerceptionNet()\n",
    "model.to(device)\n",
    "model.load_state_dict(torch.load('./AE_params/model_3.best'))\n",
    "model.eval()\n",
    "\n",
    "vis_net = DQN(3).to(device)\n",
    "vis_net.load_state_dict(torch.load('./model_params_CL/model_10.final'))\n",
    "vis_net.eval()"
   ]
  },
  {
   "cell_type": "code",
   "execution_count": 8,
   "id": "ca63c2c2",
   "metadata": {},
   "outputs": [
    {
     "name": "stdout",
     "output_type": "stream",
     "text": [
      "Done\n"
     ]
    }
   ],
   "source": [
    "num_episodes = 500\n",
    "min_overall_loss = 1000\n",
    "data = DataCollector(env,test=False)\n",
    "for i_episode in range(num_episodes):\n",
    "    rewards = 0\n",
    "    # Initialize the environment and state\n",
    "    obs = env.reset()\n",
    "    #ego_dir retirves the distance and angle from vehicle to nearest waypoint\n",
    "    ego_location = env.ego.get_location()\n",
    "    ego_dir = gym_carla.envs.misc.get_lane_dis(env.waypoints,ego_location.x,ego_location.y)\n",
    "    #pos gets a distanc d and array w which has to be seperated out in below line\n",
    "    ego_pos = np.asarray((ego_dir[0],ego_dir[1][0],ego_dir[1][1]),dtype=np.float32)\n",
    "    state = np.concatenate((ego_pos,np.zeros(6)))\n",
    "    \n",
    "    #inital state with previous action for data collection consistency\n",
    "    action = np.array([0])\n",
    "    reward = 0\n",
    "    \n",
    "    data.collect_step(obs, state, reward, action)\n",
    "    \n",
    "    state = torch.tensor(state)\n",
    "    loss = episode_loss = 1000\n",
    "    for t in count():\n",
    "        # Select and perform an action\n",
    "        with torch.no_grad():\n",
    "            action = vis_net(state.float()).argmax().view(1,1)\n",
    "        next_obs, reward, done, info  = env.step(action.item())\n",
    "        rewards += reward\n",
    "    \n",
    "        #pos gets a distanc d and array w which has to be seperated out in below line\n",
    "        pos = np.asarray((info['position'][0],info['position'][1][0],info['position'][1][1]))\n",
    "        ang = np.asarray(info['angular_vel'])\n",
    "        acc = np.asarray(info['acceleration'])\n",
    "        steer = np.asarray(info['steer'])\n",
    "        next_state = np.concatenate((pos, ang, acc, steer), axis=None)\n",
    "        \n",
    "        #collect data\n",
    "        \n",
    "        data.collect_step(obs,state,reward,np.array([action.item()]))\n",
    "        \n",
    "        #update state\n",
    "        state = torch.tensor(next_state)\n",
    "        obs = next_obs\n",
    "        #obs = torch.tensor(next_obs)\n",
    "        \n",
    "        \n",
    "        if done:\n",
    "            data.stop_recording()\n",
    "            break\n",
    "print('Done')"
   ]
  },
  {
   "cell_type": "code",
   "execution_count": 6,
   "id": "0d92240e",
   "metadata": {},
   "outputs": [],
   "source": [
    "import time\n",
    "import os\n",
    "class DataCollector():\n",
    "    def __init__(self, env, recorder = False, test=False):\n",
    "        self.timestamp = time.strftime(\"%a, %d %b %Y %H:%M:%S\")\n",
    "        if not env:\n",
    "            raise Exception(\"Please provide a carla gym env object\")\n",
    "        self.recorder = recorder\n",
    "        \n",
    "        dir_str = './Datasets/'+env.weather+'/'+env.town\n",
    "        \n",
    "        #collect test set\n",
    "        if test:\n",
    "            dir_str = dir_str +'/test'\n",
    "            \n",
    "        self.rgb_dir = dir_str+'/RGB/'\n",
    "        self.sem_dir = dir_str+'/Semantic/'\n",
    "        self.state_dir = dir_str+'/States/'\n",
    "        self.recording_dir = dir_str+'/Recordings/'\n",
    "        if not os.path.isdir(dir_str):\n",
    "            os.makedirs(dir_str)\n",
    "            os.makedirs(self.rgb_dir)\n",
    "            os.makedirs(self.sem_dir)\n",
    "            os.makedirs(self.state_dir)\n",
    "            os.makedirs(self.recording_dir)\n",
    "        \n",
    "        if self.recorder:\n",
    "            self.record()\n",
    "    \n",
    "            \n",
    "    \n",
    "    def collect_step(self, obs, state, reward, action):\n",
    "        self.timestamp = time.strftime(\"%a, %d %b %Y %H:%M:%S\")\n",
    "        # save image data \n",
    "        im = Image.fromarray(obs['camera'])\n",
    "        im.save(self.rgb_dir+self.timestamp+\".jpeg\")\n",
    "        np.save(self.sem_dir+self.timestamp,obs['semantic'][:, :, :1])\n",
    "        #convert tensor to numpy array and append action to state vector\n",
    "        if torch.is_tensor(state):\n",
    "            state = state.cpu()\n",
    "            state = state.numpy()\n",
    "        state = np.append(state,action)\n",
    "        np.save(self.state_dir+self.timestamp,state)\n",
    "        \n",
    "        \n",
    "        \n",
    "        \n",
    "    def record(self):\n",
    "        env.client.start_recorder(self.recording_dir+self.timestamp+\".log\")\n",
    "\n",
    "    def stop_recording(self):\n",
    "        if self.recorder:\n",
    "            env.client.stop_recorder()\n"
   ]
  },
  {
   "cell_type": "code",
   "execution_count": 22,
   "id": "0821a29d",
   "metadata": {},
   "outputs": [
    {
     "data": {
      "text/plain": [
       "dtype('uint8')"
      ]
     },
     "execution_count": 22,
     "metadata": {},
     "output_type": "execute_result"
    }
   ],
   "source": [
    "obs['camera'].dtype"
   ]
  },
  {
   "cell_type": "code",
   "execution_count": 1,
   "id": "a1923b97",
   "metadata": {},
   "outputs": [
    {
     "ename": "NameError",
     "evalue": "name 'Image' is not defined",
     "output_type": "error",
     "traceback": [
      "\u001b[0;31m---------------------------------------------------------------------------\u001b[0m",
      "\u001b[0;31mNameError\u001b[0m                                 Traceback (most recent call last)",
      "\u001b[0;32m/tmp/ipykernel_14772/4276729940.py\u001b[0m in \u001b[0;36m<module>\u001b[0;34m\u001b[0m\n\u001b[0;32m----> 1\u001b[0;31m \u001b[0mImage\u001b[0m\u001b[0;34m.\u001b[0m\u001b[0mfromarray\u001b[0m\u001b[0;34m(\u001b[0m\u001b[0mobs\u001b[0m\u001b[0;34m[\u001b[0m\u001b[0;34m'camera'\u001b[0m\u001b[0;34m]\u001b[0m\u001b[0;34m,\u001b[0m\u001b[0;34m'RGB'\u001b[0m\u001b[0;34m)\u001b[0m\u001b[0;34m\u001b[0m\u001b[0;34m\u001b[0m\u001b[0m\n\u001b[0m",
      "\u001b[0;31mNameError\u001b[0m: name 'Image' is not defined"
     ]
    }
   ],
   "source": [
    "Image.fromarray(obs['camera'],'RGB')"
   ]
  },
  {
   "cell_type": "code",
   "execution_count": 2,
   "id": "c279eaa9",
   "metadata": {},
   "outputs": [],
   "source": [
    "import matplotlib.pyplot as plt"
   ]
  }
 ],
 "metadata": {
  "kernelspec": {
   "display_name": "Python 3 (ipykernel)",
   "language": "python",
   "name": "python3"
  },
  "language_info": {
   "codemirror_mode": {
    "name": "ipython",
    "version": 3
   },
   "file_extension": ".py",
   "mimetype": "text/x-python",
   "name": "python",
   "nbconvert_exporter": "python",
   "pygments_lexer": "ipython3",
   "version": "3.7.11"
  }
 },
 "nbformat": 4,
 "nbformat_minor": 5
}
