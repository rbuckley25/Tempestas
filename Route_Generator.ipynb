{
 "cells": [
  {
   "cell_type": "code",
   "execution_count": 9,
   "id": "9f4e5bed",
   "metadata": {},
   "outputs": [],
   "source": [
    "import carla\n",
    "\n",
    "from agents.navigation.basic_agent import BasicAgent"
   ]
  },
  {
   "cell_type": "code",
   "execution_count": 114,
   "id": "b0f9f870",
   "metadata": {},
   "outputs": [],
   "source": [
    "class CustomAgent(BasicAgent):\n",
    "    def __init__(self, vehicle, target_speed=20):\n",
    "        \"\"\"\n",
    "        :param vehicle: actor to apply to local planner logic onto\n",
    "        :param target_speed: speed (in Km/h) at which the vehicle will move\n",
    "        \"\"\"\n",
    "        super().__init__(vehicle,target_speed=target_speed)\n",
    "\n",
    "    def run_step(self, debug=False):\n",
    "        \"\"\"\n",
    "        Execute one step of navigation.\n",
    "        :return: carla.VehicleControl\n",
    "        \"\"\"\n",
    "        # Actions to take during each simulation step\n",
    "        control = carla.VehicleControl()\n",
    "        return control"
   ]
  },
  {
   "cell_type": "code",
   "execution_count": 12,
   "id": "20c750e9",
   "metadata": {},
   "outputs": [],
   "source": [
    "client = carla.Client('localhost', 2000)\n",
    "world = client.load_world('Town04')\n",
    "blueprint_library = world.get_blueprint_library()"
   ]
  },
  {
   "cell_type": "code",
   "execution_count": 24,
   "id": "3fc8ad59",
   "metadata": {},
   "outputs": [],
   "source": []
  },
  {
   "cell_type": "code",
   "execution_count": 50,
   "id": "6e72799e",
   "metadata": {},
   "outputs": [],
   "source": [
    "actor_list = []"
   ]
  },
  {
   "cell_type": "code",
   "execution_count": 82,
   "id": "06340973",
   "metadata": {},
   "outputs": [
    {
     "data": {
      "text/plain": [
       "[]"
      ]
     },
     "execution_count": 82,
     "metadata": {},
     "output_type": "execute_result"
    }
   ],
   "source": [
    "actor_list"
   ]
  },
  {
   "cell_type": "code",
   "execution_count": 83,
   "id": "60aec878",
   "metadata": {},
   "outputs": [],
   "source": [
    "actor_list.append(vehicle)"
   ]
  },
  {
   "cell_type": "code",
   "execution_count": 117,
   "id": "bccdff0c",
   "metadata": {},
   "outputs": [
    {
     "name": "stdout",
     "output_type": "stream",
     "text": [
      "created vehicle.audi.etron\n"
     ]
    }
   ],
   "source": [
    "\n",
    "bp = blueprint_library.find('vehicle.audi.etron')\n",
    "\n",
    "# inital start is good open road\n",
    "transform = carla.Transform(carla.Location(-15.3,171.3,1), carla.Rotation(2.35,89.8,0))\n",
    "\n",
    "vehicle = world.spawn_actor(bp, transform)\n",
    "actor_list.append(vehicle)\n",
    "print('created %s' % vehicle.type_id)\n",
    "\n",
    "#change spectator to above vehicle\n",
    "spectator.set_transform(carla.Transform(carla.Location(-15.3,166.3,3), carla.Rotation(-20,89.8,0)))\n"
   ]
  },
  {
   "cell_type": "code",
   "execution_count": 59,
   "id": "534fe61c",
   "metadata": {},
   "outputs": [],
   "source": [
    "destination = carla.Location(-253.26,404,1)"
   ]
  },
  {
   "cell_type": "code",
   "execution_count": 118,
   "id": "1b515552",
   "metadata": {},
   "outputs": [],
   "source": [
    "agent = CustomAgent(vehicle)"
   ]
  },
  {
   "cell_type": "code",
   "execution_count": 119,
   "id": "5778af7d",
   "metadata": {},
   "outputs": [],
   "source": [
    "agent.set_destination(destination)"
   ]
  },
  {
   "cell_type": "code",
   "execution_count": 120,
   "id": "6f32f9ab",
   "metadata": {},
   "outputs": [
    {
     "ename": "KeyboardInterrupt",
     "evalue": "",
     "output_type": "error",
     "traceback": [
      "\u001b[0;31m---------------------------------------------------------------------------\u001b[0m",
      "\u001b[0;31mKeyboardInterrupt\u001b[0m                         Traceback (most recent call last)",
      "\u001b[0;32m/tmp/ipykernel_6927/4044275357.py\u001b[0m in \u001b[0;36m<module>\u001b[0;34m\u001b[0m\n\u001b[1;32m      4\u001b[0m         \u001b[0;32mbreak\u001b[0m\u001b[0;34m\u001b[0m\u001b[0;34m\u001b[0m\u001b[0m\n\u001b[1;32m      5\u001b[0m \u001b[0;34m\u001b[0m\u001b[0m\n\u001b[0;32m----> 6\u001b[0;31m     \u001b[0mvehicle\u001b[0m\u001b[0;34m.\u001b[0m\u001b[0mapply_control\u001b[0m\u001b[0;34m(\u001b[0m\u001b[0magent\u001b[0m\u001b[0;34m.\u001b[0m\u001b[0mrun_step\u001b[0m\u001b[0;34m(\u001b[0m\u001b[0;34m)\u001b[0m\u001b[0;34m)\u001b[0m\u001b[0;34m\u001b[0m\u001b[0;34m\u001b[0m\u001b[0m\n\u001b[0m",
      "\u001b[0;32m/tmp/ipykernel_6927/607194393.py\u001b[0m in \u001b[0;36mrun_step\u001b[0;34m(self, debug)\u001b[0m\n\u001b[1;32m     13\u001b[0m         \"\"\"\n\u001b[1;32m     14\u001b[0m         \u001b[0;31m# Actions to take during each simulation step\u001b[0m\u001b[0;34m\u001b[0m\u001b[0;34m\u001b[0m\u001b[0;34m\u001b[0m\u001b[0m\n\u001b[0;32m---> 15\u001b[0;31m         \u001b[0mcontrol\u001b[0m \u001b[0;34m=\u001b[0m \u001b[0mcarla\u001b[0m\u001b[0;34m.\u001b[0m\u001b[0mVehicleControl\u001b[0m\u001b[0;34m(\u001b[0m\u001b[0;34m)\u001b[0m\u001b[0;34m\u001b[0m\u001b[0;34m\u001b[0m\u001b[0m\n\u001b[0m\u001b[1;32m     16\u001b[0m         \u001b[0;32mreturn\u001b[0m \u001b[0mcontrol\u001b[0m\u001b[0;34m\u001b[0m\u001b[0;34m\u001b[0m\u001b[0m\n",
      "\u001b[0;31mKeyboardInterrupt\u001b[0m: "
     ]
    }
   ],
   "source": [
    "while True:\n",
    "    if agent.done():\n",
    "        print(\"The target has been reached, stopping the simulation\")\n",
    "        break\n",
    "\n",
    "    vehicle.apply_control(agent.run_step())"
   ]
  },
  {
   "cell_type": "code",
   "execution_count": 116,
   "id": "78cb3209",
   "metadata": {},
   "outputs": [],
   "source": [
    "client.apply_batch([carla.command.DestroyActor(x) for x in actor_list])\n",
    "actor_list = []"
   ]
  },
  {
   "cell_type": "code",
   "execution_count": 66,
   "id": "f5653b78",
   "metadata": {},
   "outputs": [
    {
     "data": {
      "text/plain": [
       "<carla.libcarla.Vehicle at 0x7f496fdd0210>"
      ]
     },
     "execution_count": 66,
     "metadata": {},
     "output_type": "execute_result"
    }
   ],
   "source": []
  }
 ],
 "metadata": {
  "kernelspec": {
   "display_name": "Python 3 (ipykernel)",
   "language": "python",
   "name": "python3"
  },
  "language_info": {
   "codemirror_mode": {
    "name": "ipython",
    "version": 3
   },
   "file_extension": ".py",
   "mimetype": "text/x-python",
   "name": "python",
   "nbconvert_exporter": "python",
   "pygments_lexer": "ipython3",
   "version": "3.8.0"
  }
 },
 "nbformat": 4,
 "nbformat_minor": 5
}
