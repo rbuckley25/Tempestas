{
 "cells": [
  {
   "cell_type": "markdown",
   "id": "81560af3",
   "metadata": {},
   "source": [
    "# Learning to Drive in Adverse Weather Conditions"
   ]
  },
  {
   "cell_type": "markdown",
   "id": "b82560c8",
   "metadata": {},
   "source": [
    "## Pre-Notes"
   ]
  },
  {
   "cell_type": "markdown",
   "id": "b6d2e540",
   "metadata": {},
   "source": [
    "- Only got access to lab computers on 04/11/21 (Week 8)\n",
    "- Had to update version of Firefox as github would not work correctly\n",
    "- No sudo access so could only install things that were packaged or had their own installer"
   ]
  },
  {
   "cell_type": "markdown",
   "id": "a1a5a3b3",
   "metadata": {},
   "source": [
    "## Week 1"
   ]
  },
  {
   "cell_type": "markdown",
   "id": "e0bdc298",
   "metadata": {},
   "source": [
    "### Setup Carla & Anaconda"
   ]
  },
  {
   "cell_type": "markdown",
   "id": "87159d17",
   "metadata": {},
   "source": [
    "- Carla 0.9.12 was installed on the machines by IT in /opt little setup required just figuring out configs and some crashing errors\n",
    "- Anaconda was installed from a package, Quite easy and quick "
   ]
  },
  {
   "cell_type": "markdown",
   "id": "cb2fc8bb",
   "metadata": {},
   "source": [
    "### Install Carla Gym"
   ]
  },
  {
   "cell_type": "markdown",
   "id": "6d415b29",
   "metadata": {},
   "source": [
    "- Installing Carla Gym not too hard, API not very well documented so had dig through code files\n",
    "- Some Issues as pygame only works with python <= 3.7, overcame this with anaconda env (there is a 3.8 version but it requires a sudo install)\n",
    "- Had to update some code do to older version of Carla being used (See Adapt Carla Env)"
   ]
  },
  {
   "cell_type": "markdown",
   "id": "a94e162c",
   "metadata": {},
   "source": [
    "### Additional Libraries"
   ]
  },
  {
   "cell_type": "markdown",
   "id": "95e1ab95",
   "metadata": {},
   "source": [
    "- interp e2e driving installed fine but crashed after a number of runs due to low memory\n",
    "- d4rl would not install due to mujuco dependency (May be free now)\n",
    "- didn't try d3rlpy ye"
   ]
  },
  {
   "cell_type": "markdown",
   "id": "53a8e6ac",
   "metadata": {},
   "source": [
    "### Adapt Carla Env"
   ]
  },
  {
   "cell_type": "markdown",
   "id": "9bcbb4ea",
   "metadata": {},
   "source": []
  },
  {
   "cell_type": "code",
   "execution_count": null,
   "id": "640d8ede",
   "metadata": {},
   "outputs": [],
   "source": []
  },
  {
   "cell_type": "code",
   "execution_count": null,
   "id": "d7b471c8",
   "metadata": {},
   "outputs": [],
   "source": []
  },
  {
   "cell_type": "markdown",
   "id": "760adab7",
   "metadata": {},
   "source": [
    "### First Experiment - Minimize Distance to Waypoint"
   ]
  },
  {
   "cell_type": "code",
   "execution_count": null,
   "id": "cbdd245f",
   "metadata": {},
   "outputs": [],
   "source": []
  }
 ],
 "metadata": {
  "kernelspec": {
   "display_name": "Python 3 (ipykernel)",
   "language": "python",
   "name": "python3"
  },
  "language_info": {
   "codemirror_mode": {
    "name": "ipython",
    "version": 3
   },
   "file_extension": ".py",
   "mimetype": "text/x-python",
   "name": "python",
   "nbconvert_exporter": "python",
   "pygments_lexer": "ipython3",
   "version": "3.7.11"
  }
 },
 "nbformat": 4,
 "nbformat_minor": 5
}
