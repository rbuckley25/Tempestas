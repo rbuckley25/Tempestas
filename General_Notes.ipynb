{
 "cells": [
  {
   "cell_type": "markdown",
   "id": "81560af3",
   "metadata": {},
   "source": [
    "# Learning to Drive in Adverse Weather Conditions"
   ]
  },
  {
   "cell_type": "markdown",
   "id": "b82560c8",
   "metadata": {},
   "source": [
    "## Pre-Notes"
   ]
  },
  {
   "cell_type": "markdown",
   "id": "b6d2e540",
   "metadata": {},
   "source": [
    "- Only got access to lab computers on 04/11/21 (Week 8)\n",
    "- Had to update version of Firefox as github would not work correctly\n",
    "- No sudo access so could only install things that were packaged or had their own installer"
   ]
  },
  {
   "cell_type": "markdown",
   "id": "a1a5a3b3",
   "metadata": {},
   "source": [
    "## Week 1"
   ]
  },
  {
   "cell_type": "markdown",
   "id": "e0bdc298",
   "metadata": {},
   "source": [
    "### Setup Carla & Anaconda"
   ]
  },
  {
   "cell_type": "markdown",
   "id": "87159d17",
   "metadata": {},
   "source": [
    "- Carla 0.9.12 was installed on the machines by IT in /opt little setup required just figuring out configs and some crashing errors\n",
    "- Anaconda was installed from a package, Quite easy and quick \n",
    "- Issues installing Pytorch into env"
   ]
  },
  {
   "cell_type": "markdown",
   "id": "cb2fc8bb",
   "metadata": {},
   "source": [
    "### Install Carla Gym"
   ]
  },
  {
   "cell_type": "markdown",
   "id": "6d415b29",
   "metadata": {},
   "source": [
    "- Installing Carla Gym not too hard, API not very well documented so had dig through code files\n",
    "- Some Issues as pygame only works with python <= 3.7, overcame this with anaconda env (there is a 3.8 version but it requires a sudo install)\n",
    "- Had to update some code do to older version of Carla being used (See Adapt Carla Env)"
   ]
  },
  {
   "cell_type": "markdown",
   "id": "a94e162c",
   "metadata": {},
   "source": [
    "### Additional Libraries"
   ]
  },
  {
   "cell_type": "markdown",
   "id": "95e1ab95",
   "metadata": {},
   "source": [
    "- interp e2e driving installed fine but crashed after a number of runs due to low memory (Had to remove Logging as it was for TF 1.0)\n",
    "- d4rl would not install due to mujuco dependency (May be free now)\n",
    "- didn't try d3rlpy ye"
   ]
  },
  {
   "cell_type": "markdown",
   "id": "53a8e6ac",
   "metadata": {},
   "source": [
    "### Adapt Carla Env"
   ]
  },
  {
   "cell_type": "markdown",
   "id": "9bcbb4ea",
   "metadata": {},
   "source": [
    "- Fix not deleting sensors correctly bug\n",
    "- Lidar Location errorhad to be fixed\n",
    "- Change Reward function the env return"
   ]
  },
  {
   "cell_type": "markdown",
   "id": "c468270f",
   "metadata": {},
   "source": [
    "### Alter Pytorch Tutorial"
   ]
  },
  {
   "cell_type": "markdown",
   "id": "22140db4",
   "metadata": {},
   "source": [
    "- Reached out to author of Latent Space driving paper and was recommended to follow [this](https://pytorch.org/tutorials/intermediate/reinforcement_q_learning.html) tutorial\n",
    "- Began tyring to get an understanding of the code and what it was doing\n",
    "- Changed the input from being gotten from getscreen() to using the returned image data from gym-env"
   ]
  },
  {
   "cell_type": "markdown",
   "id": "47dc98de",
   "metadata": {},
   "source": [
    "## Week 2"
   ]
  },
  {
   "cell_type": "markdown",
   "id": "760adab7",
   "metadata": {},
   "source": [
    "### First Experiment - Minimize Distance to Waypoint"
   ]
  },
  {
   "cell_type": "markdown",
   "id": "f5a68f46",
   "metadata": {},
   "source": [
    "- Recommed to start with an easier setup using minimum distance to waypoint\n",
    "- Used Town04 as it has more wide roads and less severe turns to start, \n",
    "- Changed carla env to output currentl vehicle states: (position relative to new waypoint, acceleration, angular velocity, previous steering angle)\n",
    "- Used Reward from Latent Space Paper\n",
    "- Implemented a single layer dense network\n",
    "- Implemented some logging of the data (Loss, avg_reward (removed) and lenght of episode) and view with tensorboard\n",
    "- Error: Was using absolute x,y position but changed to distance and angle from current way point instead (This changed input from 8,1 vec to 9,1 vec\n",
    "- Ran 100 and 500 episodes in the above model but results were poor and seemed to have little improvement\n",
    "- Changed archtechture to have 3 dense layers (9,15)(15,9)(9,3) this showed an immediate large improvment in perfromance\n",
    "- Agent was able to drive on straights and less severe turns quite well but has issues making sharp turns as it tries to premeptively turn to the waypoint."
   ]
  },
  {
   "cell_type": "markdown",
   "id": "55dc2797",
   "metadata": {},
   "source": [
    "### Week 3\n",
    "### First Exp ctd, Carla env and 2nd Exp - Minimize Distance to Waypoint with CL"
   ]
  },
  {
   "cell_type": "markdown",
   "id": "54b5f7da",
   "metadata": {},
   "source": [
    "- Started Route Implementation\n",
    "- Fixed Speed issue \n",
    "- Catestrophic Forgetting happening after target net update\n",
    "- Ran for 1000 steps and had forgetting at step 256\n",
    "- Running changing target update to 20 and running for 100 did not improve results (Model 6)\n",
    "- Running changin target update to 50 and running for 100, as of step 400 best performing model so far\n",
    "    - avg loss is about 0.03\n",
    "- Start Fix Routes (See if route generation is deterministic and only need to specify starting poin ???)\n",
    "    - Picked 20 routes with different levels of diffcult (5 Easy, 2 Medium Easy, 6 Medium, 3 Medium Hard and 4 Hard)\n",
    "    - Easy -> Straight\n",
    "    - Medium Easy -> Straight into slight turn\n",
    "    - Medium -> Medium Turn \n",
    "    - Medium Hard -> Straight into Hard turn\n",
    "    - Hard -> Hard Turn\n",
    "- Running first test for 500 episodes using set routes, keep eps lenght = 250, test adam opt with lr = 0.00025 (previous = 0.01), target update at 50 (Could not get to lower loss as much higher level of loss). Model forgot how to drive straight, Could only turn left or right."
   ]
  },
  {
   "cell_type": "markdown",
   "id": "6fa80939",
   "metadata": {},
   "source": [
    "### Week 4"
   ]
  },
  {
   "cell_type": "markdown",
   "id": "fbabe06b",
   "metadata": {},
   "source": [
    "- Set up CL learning so would change level or routes every 100 steps\n",
    "- Checkpointing best model from run\n",
    "- Forked gym-carla properly to share and pushed alterations\n",
    "- Testing with CL with larger replay memory of 15000, training slows down a lot.\n",
    "    - Upping batch size to conteract good training sparisty\n",
    "    - Loss fn doesn't seem to work correctly any more wiht sparser replay memory\n",
    "- Did out plan for semester to"
   ]
  },
  {
   "cell_type": "markdown",
   "id": "babb6590",
   "metadata": {},
   "source": [
    "### Week 5 (06/01/22)\n",
    "- Added bigger network, didn't seem to have massive impact, might be problem with eps not working and no exploartion happening for harder ones\n",
    "- Fixed testing implementation, no step function\n",
    "- Tried loading previous model and training only on harder tracks, will need to try again for longer time"
   ]
  },
  {
   "cell_type": "markdown",
   "id": "7f5b6d00",
   "metadata": {},
   "source": [
    "### Week 6 (17/01/22)\n",
    "\n",
    "- Trained larger model on just medium and hard tracks but was having a lot of issues getting it to make most of the turns.\n",
    "- Changed hard routes to inculde 2 90 turns that are part of the road (not an intersetion) and model 11 can make the turn with relative ease. So it works it the situation as described in the latent space paper but is unable to make turns at intersections ? Possibly due to positioning of waypoints and slightly tighter turning radius. Will bring up at next meeting.\n",
    "- Note: way point may be in the middle of intersection pulling the car out too far and 0.3 turn at each point may be to small to complete turn effectivly.\n",
    "- Onto visual next !"
   ]
  },
  {
   "cell_type": "markdown",
   "id": "32e962ac",
   "metadata": {},
   "source": [
    "### Week 7 (24/01/22)\n",
    "- Wrote Data Collector Class, Can't display semantic and collect tag data at the same time, Will probably need to add another camera.\n",
    "- Let data collection happen with random agent over 20 random routes, felt this would give the best selection of pictures.\n",
    "- Started Building autoencoder and need to finish the data loader for the images\n",
    "- Image set from 18:08 onwards is from model 10 rather than random action\n",
    "- Saved image matrixs were incorrect so I have downsampled and resaved the first 2500 as 128x128 rather than 256x256"
   ]
  },
  {
   "cell_type": "markdown",
   "id": "4156e0c5",
   "metadata": {},
   "source": [
    "### Week 8 \n",
    " - trained autoencoder\n",
    " - Built pytorch data seta and data loader\n",
    " - Started implementing Full CNN and control model"
   ]
  },
  {
   "cell_type": "markdown",
   "id": "0ae379d5",
   "metadata": {},
   "source": [
    "### Week 9 & 10\n",
    "- Coivd - started report\n",
    "- tried training cyclegan on google colab but didnt work"
   ]
  },
  {
   "cell_type": "markdown",
   "id": "a80288cf",
   "metadata": {},
   "source": [
    "###  Week 11\n",
    "- Trying to train Full model not working\n",
    "- Tried fixing to single route as in papers\n",
    "- No improvement in any results \n",
    "- Issue may be the additional state vector throwing off the model or model needds to be larger to cope"
   ]
  },
  {
   "cell_type": "markdown",
   "id": "dc12170f",
   "metadata": {},
   "source": [
    "### Week 12\n",
    "\n",
    "- Issue is with AE, doesn't capture enough fine detail about image\n",
    "- Busy week with tests, interviews and assignments\n",
    "- Started collecting data from different maps to help AE generalize\n",
    "- AE appears to start overfitting from epoch two based on test data\n",
    "- Maybe image set is too large\n",
    "- Start rewrite of Report"
   ]
  },
  {
   "cell_type": "markdown",
   "id": "810e8b6c",
   "metadata": {},
   "source": [
    "### Week 13\n",
    "- Trying to fix autoencoder\n",
    "- Tried using different combos of factors:\n",
    "    - Add generate pixel type frequencies and use as weigths to cross enotrophy\n",
    "    - change logmax to sigmoid\n",
    "    - Grouped tags from 22 to 13 as in orignal paper to reduce burden\n",
    "- Weights seem to have an impact but slow down training\n",
    "- Sigmoid seem to perform similar but have seen some suggestions that it may perform better when multiple tags are present\n",
    "- Rereading paper and checking references seems to suggest that it shoul be a VAE instead of an AE but does not match architecture.\n",
    "- Inputing into categorical cross entrophy funciton wrong, This may be cause but will need more time to see (Changed back to normal model)"
   ]
  },
  {
   "cell_type": "markdown",
   "id": "3801f881",
   "metadata": {},
   "source": [
    "# TODOs"
   ]
  },
  {
   "cell_type": "markdown",
   "id": "7b5fe356",
   "metadata": {},
   "source": [
    "### Long Term Goals\n",
    "- Rebuild Carla Gym\n",
    "- Implement Perceptron & Control Modules\n",
    "- Train on altering weather conditions\n",
    "- Train against GAN\n",
    "- Meta-Learning ?\n",
    "\n",
    "### Medium Term Goals\n",
    "- Start Autoencoder Training\n",
    "- Plan for Semester 2\n",
    "- Standardize testing\n",
    "- Train Perceptron in Standard conditions\n",
    "\n",
    "### Short Term\n",
    "\n",
    "- Look up best optimser and lr and loss function\n",
    "- Video of best results\n",
    "- Cumlative Reward\n",
    "- Sharp Turns\n",
    "- Start CNN training\n",
    "- Write up plan\n",
    "\n",
    "### Done\n",
    "- ~~Stabilize Training~~\n",
    "- ~~Try Longer run~~\n",
    "- ~~Add more dense layers~~ \n",
    "- ~~Fix speed~~ \n",
    "- ~~Change Avg reward to length of episode~~\n",
    "- ~~Fixed Routes~~\n",
    "- ~~Setup Checkpoints~~\n",
    "- ~~Setup forked gym~~"
   ]
  },
  {
   "cell_type": "code",
   "execution_count": null,
   "id": "01edf3a9",
   "metadata": {},
   "outputs": [],
   "source": []
  }
 ],
 "metadata": {
  "kernelspec": {
   "display_name": "Python 3 (ipykernel)",
   "language": "python",
   "name": "python3"
  },
  "language_info": {
   "codemirror_mode": {
    "name": "ipython",
    "version": 3
   },
   "file_extension": ".py",
   "mimetype": "text/x-python",
   "name": "python",
   "nbconvert_exporter": "python",
   "pygments_lexer": "ipython3",
   "version": "3.7.11"
  }
 },
 "nbformat": 4,
 "nbformat_minor": 5
}
