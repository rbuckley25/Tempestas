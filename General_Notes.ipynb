{
 "cells": [
  {
   "cell_type": "markdown",
   "id": "81560af3",
   "metadata": {},
   "source": [
    "# Learning to Drive in Adverse Weather Conditions"
   ]
  },
  {
   "cell_type": "markdown",
   "id": "b82560c8",
   "metadata": {},
   "source": [
    "## Pre-Notes"
   ]
  },
  {
   "cell_type": "markdown",
   "id": "b6d2e540",
   "metadata": {},
   "source": [
    "- Only got access to lab computers on 04/11/21 (Week 8)\n",
    "- Had to update version of Firefox as github would not work correctly\n",
    "- No sudo access so could only install things that were packaged or had their own installer"
   ]
  },
  {
   "cell_type": "markdown",
   "id": "a1a5a3b3",
   "metadata": {},
   "source": [
    "## Week 1"
   ]
  },
  {
   "cell_type": "markdown",
   "id": "e0bdc298",
   "metadata": {},
   "source": [
    "### Setup Carla & Anaconda"
   ]
  },
  {
   "cell_type": "markdown",
   "id": "87159d17",
   "metadata": {},
   "source": [
    "- Carla 0.9.12 was installed on the machines by IT in /opt little setup required just figuring out configs and some crashing errors\n",
    "- Anaconda was installed from a package, Quite easy and quick \n",
    "- Issues installing Pytorch into env"
   ]
  },
  {
   "cell_type": "markdown",
   "id": "cb2fc8bb",
   "metadata": {},
   "source": [
    "### Install Carla Gym"
   ]
  },
  {
   "cell_type": "markdown",
   "id": "6d415b29",
   "metadata": {},
   "source": [
    "- Installing Carla Gym not too hard, API not very well documented so had dig through code files\n",
    "- Some Issues as pygame only works with python <= 3.7, overcame this with anaconda env (there is a 3.8 version but it requires a sudo install)\n",
    "- Had to update some code do to older version of Carla being used (See Adapt Carla Env)"
   ]
  },
  {
   "cell_type": "markdown",
   "id": "a94e162c",
   "metadata": {},
   "source": [
    "### Additional Libraries"
   ]
  },
  {
   "cell_type": "markdown",
   "id": "95e1ab95",
   "metadata": {},
   "source": [
    "- interp e2e driving installed fine but crashed after a number of runs due to low memory (Had to remove Logging as it was for TF 1.0)\n",
    "- d4rl would not install due to mujuco dependency (May be free now)\n",
    "- didn't try d3rlpy ye"
   ]
  },
  {
   "cell_type": "markdown",
   "id": "53a8e6ac",
   "metadata": {},
   "source": [
    "### Adapt Carla Env"
   ]
  },
  {
   "cell_type": "markdown",
   "id": "9bcbb4ea",
   "metadata": {},
   "source": [
    "- Fix not deleting sensors correctly bug\n",
    "- Lidar Location errorhad to be fixed\n",
    "- Change Reward function the env return"
   ]
  },
  {
   "cell_type": "markdown",
   "id": "a52c6f7b",
   "metadata": {},
   "source": [
    "### Alter Pytorch Tutorial"
   ]
  },
  {
   "cell_type": "markdown",
   "id": "069ad9c6",
   "metadata": {},
   "source": [
    "- Reached out to author of Latent Space driving paper and was recommended to follow [this](https://pytorch.org/tutorials/intermediate/reinforcement_q_learning.html) tutorial\n",
    "- Began tyring to get an understanding of the code and what it was doing\n",
    "- Changed the input from being gotten from getscreen() to using the returned image data from gym-env"
   ]
  },
  {
   "cell_type": "markdown",
   "id": "d34d2696",
   "metadata": {},
   "source": [
    "## Week 2"
   ]
  },
  {
   "cell_type": "markdown",
   "id": "760adab7",
   "metadata": {},
   "source": [
    "### First Experiment - Minimize Distance to Waypoint"
   ]
  },
  {
   "cell_type": "markdown",
   "id": "6d3e6f49",
   "metadata": {},
   "source": [
    "- Recommed to start with an easier setup using minimum distance to waypoint\n",
    "- Used Town04 as it has more wide roads and less severe turns to start, \n",
    "- Changed carla env to output currentl vehicle states: (position relative to new waypoint, acceleration, angular velocity, previous steering angle)\n",
    "- Used Reward from Latent Space Paper\n",
    "- Implemented a single layer dense network\n",
    "- Implemented some logging of the data (Loss, avg_reward (removed) and lenght of episode) and view with tensorboard\n",
    "- Error: Was using absolute x,y position but changed to distance and angle from current way point instead (This changed input from 8,1 vec to 9,1 vec\n",
    "- Ran 100 and 500 episodes in the above model but results were poor and seemed to have little improvement\n",
    "- Changed archtechture to have 3 dense layers (9,15)(15,9)(9,3) this showed an immediate large improvment in perfromance\n",
    "- Agent was able to drive on straights and less severe turns quite well but has issues making sharp turns as it tries to premeptively turn to the waypoint."
   ]
  },
  {
   "cell_type": "markdown",
   "id": "b09fcf12",
   "metadata": {},
   "source": [
    "# TODOs"
   ]
  },
  {
   "cell_type": "markdown",
   "id": "6b0959de",
   "metadata": {},
   "source": [
    "### Long Term Goals\n",
    "- Rebuild Carla Gym\n",
    "- Implement Perceptron & Control Modules\n",
    "- Train on altering weather conditions\n",
    "- Train against GAN\n",
    "\n",
    "### Medium Term Goals\n",
    "- Start CNN training\n",
    "- Start Autoencoder Training\n",
    "- Stabilize Training\n",
    "\n",
    "### Short Term\n",
    "\n",
    "- Change Avg reward to length of episode\n",
    "- Fix speed \n",
    "- Alter Loss function\n",
    "- \n",
    "- ~~Try Longer run~~\n",
    "- ~~Add more dense layers~~ \n",
    "\n"
   ]
  }
 ],
 "metadata": {
  "kernelspec": {
   "display_name": "Python 3 (ipykernel)",
   "language": "python",
   "name": "python3"
  },
  "language_info": {
   "codemirror_mode": {
    "name": "ipython",
    "version": 3
   },
   "file_extension": ".py",
   "mimetype": "text/x-python",
   "name": "python",
   "nbconvert_exporter": "python",
   "pygments_lexer": "ipython3",
   "version": "3.7.11"
  }
 },
 "nbformat": 4,
 "nbformat_minor": 5
}
