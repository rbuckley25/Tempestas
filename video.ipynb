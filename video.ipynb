{
 "cells": [
  {
   "cell_type": "code",
   "execution_count": 2,
   "metadata": {},
   "outputs": [
    {
     "name": "stdout",
     "output_type": "stream",
     "text": [
      "Collecting package metadata (current_repodata.json): done\n",
      "Solving environment: done\n",
      "\n",
      "\n",
      "==> WARNING: A newer version of conda exists. <==\n",
      "  current version: 4.10.3\n",
      "  latest version: 4.12.0\n",
      "\n",
      "Please update conda by running\n",
      "\n",
      "    $ conda update -n base -c defaults conda\n",
      "\n",
      "\n",
      "\n",
      "## Package Plan ##\n",
      "\n",
      "  environment location: /home/rpb3/anaconda3/envs/pytorch\n",
      "\n",
      "  added / updated specs:\n",
      "    - moviepy\n",
      "\n",
      "\n",
      "The following packages will be downloaded:\n",
      "\n",
      "    package                    |            build\n",
      "    ---------------------------|-----------------\n",
      "    charset-normalizer-2.0.12  |     pyhd8ed1ab_0          35 KB  conda-forge\n",
      "    colorama-0.4.4             |     pyh9f0ad1d_0          18 KB  conda-forge\n",
      "    decorator-4.4.2            |             py_0          11 KB  conda-forge\n",
      "    idna-3.3                   |     pyhd8ed1ab_0          55 KB  conda-forge\n",
      "    imageio-2.16.1             |     pyhcf75d05_0         3.2 MB  conda-forge\n",
      "    imageio-ffmpeg-0.4.5       |     pyhd8ed1ab_0          16 KB  conda-forge\n",
      "    moviepy-1.0.1              |             py_0          76 KB  conda-forge\n",
      "    proglog-0.1.9              |             py_0           9 KB  conda-forge\n",
      "    pyopenssl-22.0.0           |     pyhd8ed1ab_0          49 KB  conda-forge\n",
      "    requests-2.27.1            |     pyhd8ed1ab_0          53 KB  conda-forge\n",
      "    tqdm-4.63.0                |     pyhd8ed1ab_0          80 KB  conda-forge\n",
      "    urllib3-1.26.9             |     pyhd8ed1ab_0         100 KB  conda-forge\n",
      "    ------------------------------------------------------------\n",
      "                                           Total:         3.7 MB\n",
      "\n",
      "The following NEW packages will be INSTALLED:\n",
      "\n",
      "  brotlipy           conda-forge/linux-64::brotlipy-0.7.0-py37h5e8e339_1001\n",
      "  charset-normalizer conda-forge/noarch::charset-normalizer-2.0.12-pyhd8ed1ab_0\n",
      "  colorama           conda-forge/noarch::colorama-0.4.4-pyh9f0ad1d_0\n",
      "  cryptography       conda-forge/linux-64::cryptography-35.0.0-py37h5d9358c_0\n",
      "  idna               conda-forge/noarch::idna-3.3-pyhd8ed1ab_0\n",
      "  imageio            conda-forge/noarch::imageio-2.16.1-pyhcf75d05_0\n",
      "  imageio-ffmpeg     conda-forge/noarch::imageio-ffmpeg-0.4.5-pyhd8ed1ab_0\n",
      "  moviepy            conda-forge/noarch::moviepy-1.0.1-py_0\n",
      "  proglog            conda-forge/noarch::proglog-0.1.9-py_0\n",
      "  pyopenssl          conda-forge/noarch::pyopenssl-22.0.0-pyhd8ed1ab_0\n",
      "  pysocks            conda-forge/linux-64::pysocks-1.7.1-py37h89c1867_4\n",
      "  python_abi         conda-forge/linux-64::python_abi-3.7-2_cp37m\n",
      "  requests           conda-forge/noarch::requests-2.27.1-pyhd8ed1ab_0\n",
      "  tqdm               conda-forge/noarch::tqdm-4.63.0-pyhd8ed1ab_0\n",
      "  urllib3            conda-forge/noarch::urllib3-1.26.9-pyhd8ed1ab_0\n",
      "\n",
      "The following packages will be UPDATED:\n",
      "\n",
      "  openssl                                 1.1.1m-h7f8727e_0 --> 1.1.1n-h7f8727e_0\n",
      "\n",
      "The following packages will be SUPERSEDED by a higher-priority channel:\n",
      "\n",
      "  ca-certificates    pkgs/main::ca-certificates-2021.10.26~ --> conda-forge::ca-certificates-2021.10.8-ha878542_0\n",
      "  certifi            pkgs/main::certifi-2021.10.8-py37h06a~ --> conda-forge::certifi-2021.10.8-py37h89c1867_1\n",
      "  decorator          pkgs/main::decorator-5.1.1-pyhd3eb1b0~ --> conda-forge::decorator-4.4.2-py_0\n",
      "\n",
      "\n",
      "Proceed ([y]/n)? ^C\n",
      "\n",
      "CondaSystemExit: \n",
      "Operation aborted.  Exiting.\n",
      "\n"
     ]
    }
   ],
   "source": [
    "!conda install -c conda-forge moviepy"
   ]
  },
  {
   "cell_type": "code",
   "execution_count": null,
   "metadata": {},
   "outputs": [],
   "source": [
    "import os \n",
    "import moviepy.video.io.ImageSequenceClip as SeqClip\n",
    "\n",
    "def write_video(im_type,name):\n",
    "    im_folder = './Datasets/movie/'+im_type\n",
    "\n",
    "    ims = [os.path.join(im_folder,img) for img in os.listdir(im_folder)]\n",
    "\n",
    "    video = SeqClip.ImageSequenceClip(ims, fps=25)\n",
    "    video.write_videofile(name+'_'+im_type+'.mp4')"
   ]
  }
 ],
 "metadata": {
  "interpreter": {
   "hash": "63f12c6fbc5857ff15291fb417d86d25a665886c9e9c67e60a616b8bb414d7e7"
  },
  "kernelspec": {
   "display_name": "Python 3.7.11 ('pytorch')",
   "language": "python",
   "name": "python3"
  },
  "language_info": {
   "codemirror_mode": {
    "name": "ipython",
    "version": 3
   },
   "file_extension": ".py",
   "mimetype": "text/x-python",
   "name": "python",
   "nbconvert_exporter": "python",
   "pygments_lexer": "ipython3",
   "version": "3.7.11"
  },
  "orig_nbformat": 4
 },
 "nbformat": 4,
 "nbformat_minor": 2
}
