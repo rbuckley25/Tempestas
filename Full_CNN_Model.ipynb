{
 "cells": [
  {
   "cell_type": "markdown",
   "id": "832eda18",
   "metadata": {},
   "source": [
    "# Reinforcement Learning: Min Distance RL with CARLA CL (Larger Model) 13/01/22"
   ]
  },
  {
   "cell_type": "markdown",
   "id": "d4d54a80",
   "metadata": {},
   "source": [
    "At the recommednation of one of the authors of the paper I will try to adapt the following [tutorial](https://pytorch.org/tutorials/intermediate/reinforcement_q_learning.html) to work acheive the same results as in the paper."
   ]
  },
  {
   "cell_type": "markdown",
   "id": "9257b48f",
   "metadata": {},
   "source": [
    "Notes: Pygame only runs on python 3.7, pytorch must be install direclty into the env"
   ]
  },
  {
   "cell_type": "code",
   "execution_count": 19,
   "id": "a3d2016c",
   "metadata": {},
   "outputs": [],
   "source": [
    "import torch\n",
    "import torch.nn as nn\n",
    "import torch.optim as optim\n",
    "import torch.nn.functional as F\n",
    "import torchvision.transforms as T\n",
    "\n",
    "import carla\n",
    "import math\n",
    "import random\n",
    "import numpy as np\n",
    "import matplotlib\n",
    "import matplotlib.pyplot as plt\n",
    "from collections import namedtuple, deque\n",
    "from itertools import count\n",
    "from PIL import Image\n",
    "\n",
    "from torch.utils.tensorboard import SummaryWriter\n",
    "\n",
    "import gym\n",
    "import gym_carla\n",
    "\n",
    "# set up matplotlib\n",
    "is_ipython = 'inline' in matplotlib.get_backend()\n",
    "if is_ipython:\n",
    "    from IPython import display\n",
    "\n",
    "plt.ion()\n",
    "\n",
    "# if gpu is to be used\n",
    "device = torch.device(\"cuda\" if torch.cuda.is_available() else \"cpu\")\n"
   ]
  },
  {
   "cell_type": "code",
   "execution_count": 20,
   "id": "09526aaf",
   "metadata": {},
   "outputs": [
    {
     "name": "stdout",
     "output_type": "stream",
     "text": [
      "connecting to Carla server...\n",
      "Carla server connected!\n",
      "WeatherParameters(cloudiness=5.000000, cloudiness=5.000000, precipitation=0.000000, precipitation_deposits=0.000000, wind_intensity=10.000000, sun_azimuth_angle=-1.000000, sun_altitude_angle=45.000000, fog_density=2.000000, fog_distance=0.750000, fog_falloff=0.100000, wetness=0.000000, scattering_intensity=1.000000, mie_scattering_scale=0.030000, rayleigh_scattering_scale=0.033100)\n"
     ]
    }
   ],
   "source": [
    "# parameters for the gym_carla environment\n",
    "params = {\n",
    "    'number_of_vehicles': 0,\n",
    "    'number_of_walkers': 0,\n",
    "    'display_size': 256,  # screen size of bird-eye render\n",
    "    'max_past_step': 1,  # the number of past steps to draw\n",
    "    'dt': 0.1,  # time interval between two frames\n",
    "    'discrete': True,  # whether to use discrete control space\n",
    "    'discrete_acc': [2.0],  # discrete value of accelerations\n",
    "    'discrete_steer': [-0.3, 0.0, 0.3],  # discrete value of steering angles\n",
    "    'continuous_accel_range': [-3.0, 3.0],  # continuous acceleration range\n",
    "    'continuous_steer_range': [-0.3, 0.3],  # continuous steering angle range\n",
    "    'ego_vehicle_filter': 'vehicle.lincoln*',  # filter for defining ego vehicle\n",
    "    'port': 3000,  # connection port\n",
    "    'town': 'Town04',  # which town to simulate\n",
    "    'task_mode': 'random',  # mode of the task, [random, roundabout (only for Town03)]\n",
    "    'max_time_episode': 500,  # maximum timesteps per episode\n",
    "    'max_waypt': 12,  # maximum number of waypoints\n",
    "    'obs_range': 32,  # observation range (meter)\n",
    "    'lidar_bin': 0.125,  # bin size of lidar sensor (meter)\n",
    "    'd_behind': 12,  # distance behind the ego vehicle (meter)\n",
    "    'out_lane_thres': 1.8,  # threshold for out of lane\n",
    "    'desired_speed': 3,  # desired speed (m/s)\n",
    "    'max_ego_spawn_times': 20,  # maximum times to spawn ego vehicle\n",
    "    'display_route': True,  # whether to render the desired route\n",
    "    'pixor_size': 64,  # size of the pixor labels\n",
    "    'pixor': False,  # whether to output PIXOR observation\n",
    "    'routes':{'Town04':{'H':[264,234]}},\n",
    "    'weather':'ClearNoon',\n",
    "    'obs_size':128\n",
    "}\n",
    "\n",
    "#{'Town04':{'E':[0,301,334,120,75,51],\n",
    "#                                'M':[191,131,197,210,371,348,141,320],\n",
    "#                                'H':[251,161,264,234,167,182]\n",
    "#                                }\n",
    "#                    },\n",
    "\n",
    "# Set gym-carla environment\n",
    "env = gym.make('carla-v0', params=params)"
   ]
  },
  {
   "cell_type": "code",
   "execution_count": 3,
   "id": "40d45005",
   "metadata": {},
   "outputs": [],
   "source": [
    "\n",
    "Transition = namedtuple('Transition',\n",
    "                        ('state', 'action', 'next_state', 'reward'))\n",
    "\n",
    "class ReplayMemory(object):\n",
    "\n",
    "    def __init__(self, capacity):\n",
    "        self.memory = deque([],maxlen=capacity)\n",
    "\n",
    "    def push(self, *args):\n",
    "        \"\"\"Save a transition\"\"\"\n",
    "        self.memory.append(Transition(*args))\n",
    "\n",
    "    def sample(self, batch_size):\n",
    "        return random.sample(self.memory, batch_size)\n",
    "\n",
    "    \n",
    "    def __len__(self):\n",
    "        return len(self.memory)\n"
   ]
  },
  {
   "cell_type": "code",
   "execution_count": 4,
   "id": "76a90688",
   "metadata": {},
   "outputs": [],
   "source": [
    "class PerceptionNet(nn.Module):\n",
    "\n",
    "    def __init__(self):\n",
    "        super(PerceptionNet,self).__init__()\n",
    "        self.conv1 = nn.Conv2d(3, 32, kernel_size=4, stride=2, padding=1)\n",
    "        \n",
    "        self.conv2 = nn.Conv2d(32, 64, kernel_size=4, stride=2, padding=1)\n",
    "        self.bn2 = nn.BatchNorm2d(64)\n",
    "        \n",
    "        self.conv3 = nn.Conv2d(64, 128, kernel_size=4, stride=2, padding=1)\n",
    "        self.bn3 = nn.BatchNorm2d(128)\n",
    "        \n",
    "        self.conv4 = nn.Conv2d(128, 256, kernel_size=4, stride=2, padding=1)\n",
    "        self.bn4 = nn.BatchNorm2d(256)\n",
    "        \n",
    "        self.conv5 = nn.Conv2d(256, 512, kernel_size=4, stride=2, padding=1)\n",
    "        self.bn5 = nn.BatchNorm2d(512)\n",
    "        \n",
    "        self.conv6 = nn.Conv2d(512, 64, kernel_size=4, stride=1)\n",
    "        \n",
    "        self.conv7 = torch.nn.ConvTranspose2d(64,512, kernel_size =4, stride=1)\n",
    "        self.bn6 = nn.BatchNorm2d(512)\n",
    "        \n",
    "        self.conv8 = torch.nn.ConvTranspose2d(512,256, kernel_size =4, stride=2, padding=1)\n",
    "        self.bn7 = nn.BatchNorm2d(256)\n",
    "        \n",
    "        self.conv9 = torch.nn.ConvTranspose2d(256,128, kernel_size =4, stride=2, padding=1)\n",
    "        self.bn8 = nn.BatchNorm2d(128)\n",
    "        \n",
    "        self.conv10 = torch.nn.ConvTranspose2d(128,64, kernel_size =4, stride=2, padding=1)\n",
    "        self.bn9 = nn.BatchNorm2d(64)\n",
    "        \n",
    "        self.conv11 = torch.nn.ConvTranspose2d(64,32, kernel_size =4, stride=2, padding=1)\n",
    "        self.bn10 = nn.BatchNorm2d(32)\n",
    "        \n",
    "        self.conv12 = torch.nn.ConvTranspose2d(32,23, kernel_size =4, stride=2,padding=1)\n",
    "        \n",
    "            \n",
    "    def encode(self, x):\n",
    "        x = F.leaky_relu(self.conv1(x),negative_slope=0.02)\n",
    "        x = F.leaky_relu(self.bn2(self.conv2(x)),negative_slope=0.02)\n",
    "        x = F.leaky_relu(self.bn3(self.conv3(x)),negative_slope=0.02)\n",
    "        x = F.leaky_relu(self.bn4(self.conv4(x)),negative_slope=0.02)\n",
    "        x = F.leaky_relu(self.bn5(self.conv5(x)),negative_slope=0.02)\n",
    "        return self.conv6(x)\n",
    "    \n",
    "    def decode(self, x):\n",
    "        x = F.leaky_relu(self.bn6(self.conv7(x)),negative_slope=0.02)\n",
    "        x = F.leaky_relu(self.bn7(self.conv8(x)),negative_slope=0.02)\n",
    "        x = F.leaky_relu(self.bn8(self.conv9(x)),negative_slope=0.02)\n",
    "        x = F.leaky_relu(self.bn9(self.conv10(x)),negative_slope=0.02)\n",
    "        x = F.leaky_relu(self.bn10(self.conv11(x)),negative_slope=0.02)\n",
    "        return F.log_softmax(self.conv12(x),dim=1)\n",
    "    \n",
    "    def forward(self, x):\n",
    "        x = x.to(device, dtype=torch.float32)\n",
    "        latent = self.encode(x)\n",
    "        out = self.decode(latent)\n",
    "        return out, latent"
   ]
  },
  {
   "cell_type": "code",
   "execution_count": 5,
   "id": "7d5df687",
   "metadata": {},
   "outputs": [],
   "source": [
    "class Full_DQN(nn.Module):\n",
    "\n",
    "    def __init__(self, outputs,input_size):\n",
    "        super(Full_DQN, self).__init__()\n",
    "        \n",
    "        self.lin1 = nn.Linear(input_size+9,100)\n",
    "        self.lin2 = nn.Linear(100,50)\n",
    "        self.lin3 = nn.Linear(50,25)\n",
    "        self.lin4 = nn.Linear(25,15)\n",
    "        self.lin5 = nn.Linear(15,8)\n",
    "        self.lin6 = nn.Linear(8,3)\n",
    "\n",
    "    def forward(self, x):\n",
    "        x = x.to(device)\n",
    "        x = F.relu(self.lin1(x))\n",
    "        x = F.relu(self.lin2(x))\n",
    "        x = F.relu(self.lin3(x))\n",
    "        x = F.relu(self.lin4(x))\n",
    "        x = F.relu(self.lin5(x))\n",
    "        x = self.lin6(x)\n",
    "        \n",
    "        return x.view(x.size(0), -1)"
   ]
  },
  {
   "cell_type": "code",
   "execution_count": 6,
   "id": "28c9bc2e",
   "metadata": {},
   "outputs": [],
   "source": [
    "def initalize_weights(layer):\n",
    "    if isinstance(layer, torch.nn.Linear) or isinstance(layer,torch.nn.Linear):\n",
    "        nn.init.kaiming_uniform_(layer.weight.data,nonlinearity='relu')"
   ]
  },
  {
   "cell_type": "code",
   "execution_count": 7,
   "id": "869cac41",
   "metadata": {},
   "outputs": [],
   "source": [
    "BATCH_SIZE = 512\n",
    "GAMMA = 0.999\n",
    "EPS_START = 0.5\n",
    "EPS_END = 0.05\n",
    "EPS_DECAY = 100000\n",
    "TARGET_UPDATE = 256\n",
    "\n",
    "writer = SummaryWriter()\n",
    "\n",
    "n_actions = env.action_space.n\n",
    "\n",
    "policy_net = Full_DQN(n_actions,64).to(device)\n",
    "#policy_net.load_state_dict(torch.load('./model_params_CL/Full_model_4.final'))\n",
    "policy_net.apply(initalize_weights)\n",
    "policy_net.eval()\n",
    "\n",
    "target_net = Full_DQN(n_actions,64).to(device)\n",
    "target_net.load_state_dict(policy_net.state_dict())\n",
    "target_net.eval()\n",
    "\n",
    "model = PerceptionNet()\n",
    "model.to(device)\n",
    "model.load_state_dict(torch.load('./AE_params/model_3.best'))\n",
    "model.eval()\n",
    "#don't want to update AE model \n",
    "for param in model.parameters():\n",
    "    param.requires_grad = False\n",
    "\n",
    "# Model <= 7\n",
    "optimizer = optim.RMSprop(policy_net.parameters(),lr=0.005)\n",
    "\n",
    "#Model 8 & from 2022 \n",
    "#optimizer = optim.Adam(policy_net.parameters(),lr=0.005)\n",
    "\n",
    "\n",
    "memory = ReplayMemory(7500)\n",
    "\n",
    "\n",
    "steps_done = 0\n",
    "\n",
    "\n",
    "def select_action(state):\n",
    "    global steps_done\n",
    "    sample = random.random()\n",
    "    eps_threshold = EPS_END + (EPS_START - EPS_END) * \\\n",
    "        math.exp(-1. * steps_done / EPS_DECAY)\n",
    "    steps_done += 1\n",
    "    if sample > eps_threshold:\n",
    "        with torch.no_grad():\n",
    "            #arg max select the idex of the largest value and view changes shape from (1,) to (1,1)\n",
    "            #try test net\n",
    "            return policy_net(state.float()).argmax().view(1,1)\n",
    "    else:\n",
    "        return torch.tensor([[random.randrange(n_actions)]], device=device, dtype=torch.long)\n",
    "\n",
    "\n",
    "episode_durations = []"
   ]
  },
  {
   "cell_type": "code",
   "execution_count": 39,
   "id": "18320225",
   "metadata": {},
   "outputs": [],
   "source": [
    "def optimize_model(input_size):\n",
    "    if len(memory) < BATCH_SIZE:\n",
    "        return\n",
    "    transitions = memory.sample(BATCH_SIZE)\n",
    "    # Transpose the batch (see https://stackoverflow.com/a/19343/3343043 for\n",
    "    # detailed explanation). This converts batch-array of Transitions\n",
    "    # to Transition of batch-arrays.\n",
    "    batch = Transition(*zip(*transitions))\n",
    "\n",
    "    # Compute a mask of non-final states and concatenate the batch elements\n",
    "    # (a final state would've been the one after which simulation ended)\n",
    "    non_final_mask = torch.tensor(tuple(map(lambda s: s is not None,batch.next_state)), device=device, dtype=torch.bool)\n",
    "    non_final_next_states = torch.cat([s for s in batch.next_state\n",
    "                                                if s is not None])\n",
    "    \n",
    "    state_batch = torch.cat(batch.state)\n",
    "    action_batch = torch.cat(batch.action)\n",
    "    reward_batch = torch.cat(batch.reward)\n",
    "    #reshape state_batch for nn\n",
    "  \n",
    "    # Compute Q(s_t, a) - the model computes Q(s_t), then we select the\n",
    "    # columns of actions taken. These are the actions which would've been taken\n",
    "    # for each batch state according to policy_net\n",
    "    \n",
    "    # selects column of output that was selceted \n",
    "    state_action_values = policy_net(torch.reshape(state_batch,(BATCH_SIZE,1,input_size)).float()).gather(1,action_batch)\n",
    "    \n",
    "    \n",
    "    # Compute V(s_{t+1}) for all next states.\n",
    "    # Expected values of actions for non_final_next_states are computed based\n",
    "    # on the \"older\" target_net; selecting their best reward with max(1)[0].\n",
    "    # This is merged based on the mask, such that we'll have either the expected\n",
    "    # state value or 0 in case the state was final.\n",
    "    next_state_values = torch.zeros(BATCH_SIZE, device=device)\n",
    "    next_state_values[non_final_mask] = target_net(torch.reshape(non_final_next_states,\n",
    "                                        (list(non_final_next_states.shape)[0],1,input_size)).float()).max(1)[0].detach()\n",
    "    # Compute the expected Q values\n",
    "    expected_state_action_values = (next_state_values * GAMMA) + reward_batch\n",
    "\n",
    "    # Compute Huber loss\n",
    "    criterion = nn.SmoothL1Loss()\n",
    "    loss = criterion(state_action_values, expected_state_action_values.unsqueeze(1))\n",
    "\n",
    "\n",
    "    # Optimize the model\n",
    "    optimizer.zero_grad()\n",
    "    loss.backward()\n",
    "    #gradient clipping\n",
    "    for param in policy_net.parameters():\n",
    "        param.grad.data.clamp(-1, 1)\n",
    "    optimizer.step()\n",
    "    \n",
    "    return loss"
   ]
  },
  {
   "cell_type": "code",
   "execution_count": 40,
   "id": "b0c90a63",
   "metadata": {},
   "outputs": [
    {
     "name": "stdout",
     "output_type": "stream",
     "text": [
      "avg loss:1.0,Episode:0\n"
     ]
    },
    {
     "name": "stderr",
     "output_type": "stream",
     "text": [
      "WARNING: attempting to unsubscribe from stream but sensor wasn't listening: Actor 6464 (sensor.camera.rgb) \n"
     ]
    },
    {
     "name": "stdout",
     "output_type": "stream",
     "text": [
      "avg loss:1.0,Episode:1\n"
     ]
    },
    {
     "name": "stderr",
     "output_type": "stream",
     "text": [
      "WARNING: attempting to unsubscribe from stream but sensor wasn't listening: Actor 6469 (sensor.camera.rgb) \n"
     ]
    },
    {
     "name": "stdout",
     "output_type": "stream",
     "text": [
      "avg loss:1.0,Episode:2\n"
     ]
    },
    {
     "name": "stderr",
     "output_type": "stream",
     "text": [
      "WARNING: attempting to unsubscribe from stream but sensor wasn't listening: Actor 6474 (sensor.camera.rgb) \n"
     ]
    },
    {
     "name": "stdout",
     "output_type": "stream",
     "text": [
      "avg loss:1.0,Episode:3\n"
     ]
    },
    {
     "name": "stderr",
     "output_type": "stream",
     "text": [
      "WARNING: attempting to unsubscribe from stream but sensor wasn't listening: Actor 6479 (sensor.camera.rgb) \n"
     ]
    },
    {
     "name": "stdout",
     "output_type": "stream",
     "text": [
      "avg loss:1.0,Episode:4\n"
     ]
    },
    {
     "name": "stderr",
     "output_type": "stream",
     "text": [
      "WARNING: attempting to unsubscribe from stream but sensor wasn't listening: Actor 6484 (sensor.camera.rgb) \n"
     ]
    },
    {
     "name": "stdout",
     "output_type": "stream",
     "text": [
      "avg loss:1.0,Episode:5\n"
     ]
    },
    {
     "name": "stderr",
     "output_type": "stream",
     "text": [
      "WARNING: attempting to unsubscribe from stream but sensor wasn't listening: Actor 6489 (sensor.camera.rgb) \n"
     ]
    },
    {
     "name": "stdout",
     "output_type": "stream",
     "text": [
      "avg loss:1.0,Episode:6\n"
     ]
    },
    {
     "name": "stderr",
     "output_type": "stream",
     "text": [
      "WARNING: attempting to unsubscribe from stream but sensor wasn't listening: Actor 6494 (sensor.camera.rgb) \n"
     ]
    },
    {
     "name": "stdout",
     "output_type": "stream",
     "text": [
      "avg loss:2.716680162222764,Episode:7\n"
     ]
    },
    {
     "name": "stderr",
     "output_type": "stream",
     "text": [
      "WARNING: attempting to unsubscribe from stream but sensor wasn't listening: Actor 6499 (sensor.camera.rgb) \n"
     ]
    },
    {
     "name": "stdout",
     "output_type": "stream",
     "text": [
      "avg loss:0.7526470758046286,Episode:8\n"
     ]
    },
    {
     "name": "stderr",
     "output_type": "stream",
     "text": [
      "WARNING: attempting to unsubscribe from stream but sensor wasn't listening: Actor 6504 (sensor.camera.rgb) \n"
     ]
    },
    {
     "name": "stdout",
     "output_type": "stream",
     "text": [
      "avg loss:0.49436207840169344,Episode:9\n"
     ]
    },
    {
     "name": "stderr",
     "output_type": "stream",
     "text": [
      "WARNING: attempting to unsubscribe from stream but sensor wasn't listening: Actor 6509 (sensor.camera.rgb) \n"
     ]
    },
    {
     "name": "stdout",
     "output_type": "stream",
     "text": [
      "avg loss:0.37935918977459543,Episode:10\n"
     ]
    },
    {
     "name": "stderr",
     "output_type": "stream",
     "text": [
      "WARNING: attempting to unsubscribe from stream but sensor wasn't listening: Actor 6514 (sensor.camera.rgb) \n"
     ]
    },
    {
     "name": "stdout",
     "output_type": "stream",
     "text": [
      "avg loss:0.321481724893237,Episode:11\n"
     ]
    },
    {
     "name": "stderr",
     "output_type": "stream",
     "text": [
      "WARNING: attempting to unsubscribe from stream but sensor wasn't listening: Actor 6519 (sensor.camera.rgb) \n"
     ]
    },
    {
     "name": "stdout",
     "output_type": "stream",
     "text": [
      "avg loss:0.31534784181891373,Episode:12\n"
     ]
    },
    {
     "name": "stderr",
     "output_type": "stream",
     "text": [
      "WARNING: attempting to unsubscribe from stream but sensor wasn't listening: Actor 6524 (sensor.camera.rgb) \n"
     ]
    },
    {
     "name": "stdout",
     "output_type": "stream",
     "text": [
      "avg loss:0.29834861554673314,Episode:13\n"
     ]
    },
    {
     "name": "stderr",
     "output_type": "stream",
     "text": [
      "WARNING: attempting to unsubscribe from stream but sensor wasn't listening: Actor 6529 (sensor.camera.rgb) \n"
     ]
    },
    {
     "name": "stdout",
     "output_type": "stream",
     "text": [
      "avg loss:0.3434214369142932,Episode:14\n"
     ]
    },
    {
     "name": "stderr",
     "output_type": "stream",
     "text": [
      "WARNING: attempting to unsubscribe from stream but sensor wasn't listening: Actor 6534 (sensor.camera.rgb) \n"
     ]
    },
    {
     "name": "stdout",
     "output_type": "stream",
     "text": [
      "avg loss:0.3005883565539396,Episode:15\n"
     ]
    },
    {
     "name": "stderr",
     "output_type": "stream",
     "text": [
      "WARNING: attempting to unsubscribe from stream but sensor wasn't listening: Actor 6539 (sensor.camera.rgb) \n"
     ]
    },
    {
     "name": "stdout",
     "output_type": "stream",
     "text": [
      "avg loss:0.2868512967110258,Episode:16\n"
     ]
    },
    {
     "name": "stderr",
     "output_type": "stream",
     "text": [
      "WARNING: attempting to unsubscribe from stream but sensor wasn't listening: Actor 6544 (sensor.camera.rgb) \n"
     ]
    },
    {
     "name": "stdout",
     "output_type": "stream",
     "text": [
      "avg loss:0.25106933943548976,Episode:17\n"
     ]
    },
    {
     "name": "stderr",
     "output_type": "stream",
     "text": [
      "WARNING: attempting to unsubscribe from stream but sensor wasn't listening: Actor 6549 (sensor.camera.rgb) \n"
     ]
    },
    {
     "name": "stdout",
     "output_type": "stream",
     "text": [
      "avg loss:0.23845744865854462,Episode:18\n"
     ]
    },
    {
     "name": "stderr",
     "output_type": "stream",
     "text": [
      "WARNING: attempting to unsubscribe from stream but sensor wasn't listening: Actor 6554 (sensor.camera.rgb) \n"
     ]
    },
    {
     "name": "stdout",
     "output_type": "stream",
     "text": [
      "avg loss:0.23722826737728075,Episode:19\n"
     ]
    },
    {
     "name": "stderr",
     "output_type": "stream",
     "text": [
      "WARNING: attempting to unsubscribe from stream but sensor wasn't listening: Actor 6559 (sensor.camera.rgb) \n"
     ]
    },
    {
     "name": "stdout",
     "output_type": "stream",
     "text": [
      "avg loss:0.23708925175857473,Episode:20\n"
     ]
    },
    {
     "name": "stderr",
     "output_type": "stream",
     "text": [
      "WARNING: attempting to unsubscribe from stream but sensor wasn't listening: Actor 6564 (sensor.camera.rgb) \n"
     ]
    },
    {
     "name": "stdout",
     "output_type": "stream",
     "text": [
      "avg loss:0.22217732717305774,Episode:21\n"
     ]
    },
    {
     "name": "stderr",
     "output_type": "stream",
     "text": [
      "WARNING: attempting to unsubscribe from stream but sensor wasn't listening: Actor 6569 (sensor.camera.rgb) \n"
     ]
    },
    {
     "name": "stdout",
     "output_type": "stream",
     "text": [
      "avg loss:0.2170470475654731,Episode:22\n"
     ]
    },
    {
     "name": "stderr",
     "output_type": "stream",
     "text": [
      "WARNING: attempting to unsubscribe from stream but sensor wasn't listening: Actor 6574 (sensor.camera.rgb) \n"
     ]
    },
    {
     "name": "stdout",
     "output_type": "stream",
     "text": [
      "avg loss:0.24602116013366995,Episode:23\n"
     ]
    },
    {
     "name": "stderr",
     "output_type": "stream",
     "text": [
      "WARNING: attempting to unsubscribe from stream but sensor wasn't listening: Actor 6579 (sensor.camera.rgb) \n"
     ]
    },
    {
     "name": "stdout",
     "output_type": "stream",
     "text": [
      "avg loss:0.21400050218726568,Episode:24\n"
     ]
    },
    {
     "name": "stderr",
     "output_type": "stream",
     "text": [
      "WARNING: attempting to unsubscribe from stream but sensor wasn't listening: Actor 6584 (sensor.camera.rgb) \n"
     ]
    },
    {
     "name": "stdout",
     "output_type": "stream",
     "text": [
      "avg loss:0.22469745673741787,Episode:25\n"
     ]
    },
    {
     "name": "stderr",
     "output_type": "stream",
     "text": [
      "WARNING: attempting to unsubscribe from stream but sensor wasn't listening: Actor 6589 (sensor.camera.rgb) \n"
     ]
    },
    {
     "name": "stdout",
     "output_type": "stream",
     "text": [
      "avg loss:0.2166313912785532,Episode:26\n"
     ]
    },
    {
     "name": "stderr",
     "output_type": "stream",
     "text": [
      "WARNING: attempting to unsubscribe from stream but sensor wasn't listening: Actor 6594 (sensor.camera.rgb) \n"
     ]
    },
    {
     "name": "stdout",
     "output_type": "stream",
     "text": [
      "avg loss:0.19849995091771136,Episode:27\n"
     ]
    },
    {
     "name": "stderr",
     "output_type": "stream",
     "text": [
      "WARNING: attempting to unsubscribe from stream but sensor wasn't listening: Actor 6599 (sensor.camera.rgb) \n"
     ]
    },
    {
     "name": "stdout",
     "output_type": "stream",
     "text": [
      "avg loss:0.20616109382575826,Episode:28\n"
     ]
    },
    {
     "name": "stderr",
     "output_type": "stream",
     "text": [
      "WARNING: attempting to unsubscribe from stream but sensor wasn't listening: Actor 6604 (sensor.camera.rgb) \n"
     ]
    },
    {
     "name": "stdout",
     "output_type": "stream",
     "text": [
      "avg loss:0.20690220177029756,Episode:29\n"
     ]
    },
    {
     "name": "stderr",
     "output_type": "stream",
     "text": [
      "WARNING: attempting to unsubscribe from stream but sensor wasn't listening: Actor 6609 (sensor.camera.rgb) \n"
     ]
    },
    {
     "name": "stdout",
     "output_type": "stream",
     "text": [
      "avg loss:0.18326493370948077,Episode:30\n"
     ]
    },
    {
     "name": "stderr",
     "output_type": "stream",
     "text": [
      "WARNING: attempting to unsubscribe from stream but sensor wasn't listening: Actor 6614 (sensor.camera.rgb) \n"
     ]
    },
    {
     "name": "stdout",
     "output_type": "stream",
     "text": [
      "avg loss:0.2126519847284583,Episode:31\n"
     ]
    },
    {
     "name": "stderr",
     "output_type": "stream",
     "text": [
      "WARNING: attempting to unsubscribe from stream but sensor wasn't listening: Actor 6619 (sensor.camera.rgb) \n"
     ]
    },
    {
     "name": "stdout",
     "output_type": "stream",
     "text": [
      "avg loss:0.19779186372578117,Episode:32\n"
     ]
    },
    {
     "name": "stderr",
     "output_type": "stream",
     "text": [
      "WARNING: attempting to unsubscribe from stream but sensor wasn't listening: Actor 6624 (sensor.camera.rgb) \n"
     ]
    },
    {
     "name": "stdout",
     "output_type": "stream",
     "text": [
      "avg loss:0.1930851764938951,Episode:33\n"
     ]
    },
    {
     "name": "stderr",
     "output_type": "stream",
     "text": [
      "WARNING: attempting to unsubscribe from stream but sensor wasn't listening: Actor 6629 (sensor.camera.rgb) \n"
     ]
    },
    {
     "name": "stdout",
     "output_type": "stream",
     "text": [
      "avg loss:0.1952756064524364,Episode:34\n"
     ]
    },
    {
     "name": "stderr",
     "output_type": "stream",
     "text": [
      "WARNING: attempting to unsubscribe from stream but sensor wasn't listening: Actor 6634 (sensor.camera.rgb) \n"
     ]
    },
    {
     "name": "stdout",
     "output_type": "stream",
     "text": [
      "avg loss:0.20051632299873415,Episode:35\n"
     ]
    },
    {
     "name": "stderr",
     "output_type": "stream",
     "text": [
      "WARNING: attempting to unsubscribe from stream but sensor wasn't listening: Actor 6639 (sensor.camera.rgb) \n"
     ]
    },
    {
     "name": "stdout",
     "output_type": "stream",
     "text": [
      "avg loss:0.1975015162179052,Episode:36\n"
     ]
    },
    {
     "name": "stderr",
     "output_type": "stream",
     "text": [
      "WARNING: attempting to unsubscribe from stream but sensor wasn't listening: Actor 6644 (sensor.camera.rgb) \n"
     ]
    },
    {
     "name": "stdout",
     "output_type": "stream",
     "text": [
      "avg loss:0.17853760509037891,Episode:37\n"
     ]
    },
    {
     "name": "stderr",
     "output_type": "stream",
     "text": [
      "WARNING: attempting to unsubscribe from stream but sensor wasn't listening: Actor 6649 (sensor.camera.rgb) \n"
     ]
    },
    {
     "name": "stdout",
     "output_type": "stream",
     "text": [
      "avg loss:0.20777109271021474,Episode:38\n"
     ]
    },
    {
     "name": "stderr",
     "output_type": "stream",
     "text": [
      "WARNING: attempting to unsubscribe from stream but sensor wasn't listening: Actor 6654 (sensor.camera.rgb) \n"
     ]
    },
    {
     "name": "stdout",
     "output_type": "stream",
     "text": [
      "avg loss:0.18855287666104065,Episode:39\n"
     ]
    },
    {
     "name": "stderr",
     "output_type": "stream",
     "text": [
      "WARNING: attempting to unsubscribe from stream but sensor wasn't listening: Actor 6659 (sensor.camera.rgb) \n"
     ]
    },
    {
     "name": "stdout",
     "output_type": "stream",
     "text": [
      "avg loss:0.20180467307543096,Episode:40\n"
     ]
    },
    {
     "name": "stderr",
     "output_type": "stream",
     "text": [
      "WARNING: attempting to unsubscribe from stream but sensor wasn't listening: Actor 6664 (sensor.camera.rgb) \n"
     ]
    },
    {
     "name": "stdout",
     "output_type": "stream",
     "text": [
      "avg loss:0.20256009367908195,Episode:41\n"
     ]
    },
    {
     "name": "stderr",
     "output_type": "stream",
     "text": [
      "WARNING: attempting to unsubscribe from stream but sensor wasn't listening: Actor 6669 (sensor.camera.rgb) \n"
     ]
    },
    {
     "name": "stdout",
     "output_type": "stream",
     "text": [
      "avg loss:0.197363288629703,Episode:42\n"
     ]
    },
    {
     "name": "stderr",
     "output_type": "stream",
     "text": [
      "WARNING: attempting to unsubscribe from stream but sensor wasn't listening: Actor 6674 (sensor.camera.rgb) \n"
     ]
    },
    {
     "name": "stdout",
     "output_type": "stream",
     "text": [
      "avg loss:0.20028936133439507,Episode:43\n"
     ]
    },
    {
     "name": "stderr",
     "output_type": "stream",
     "text": [
      "WARNING: attempting to unsubscribe from stream but sensor wasn't listening: Actor 6679 (sensor.camera.rgb) \n"
     ]
    },
    {
     "name": "stdout",
     "output_type": "stream",
     "text": [
      "avg loss:0.1820714991299975,Episode:44\n"
     ]
    },
    {
     "name": "stderr",
     "output_type": "stream",
     "text": [
      "WARNING: attempting to unsubscribe from stream but sensor wasn't listening: Actor 6684 (sensor.camera.rgb) \n"
     ]
    },
    {
     "name": "stdout",
     "output_type": "stream",
     "text": [
      "avg loss:0.19480902640768594,Episode:45\n"
     ]
    },
    {
     "name": "stderr",
     "output_type": "stream",
     "text": [
      "WARNING: attempting to unsubscribe from stream but sensor wasn't listening: Actor 6689 (sensor.camera.rgb) \n"
     ]
    },
    {
     "name": "stdout",
     "output_type": "stream",
     "text": [
      "avg loss:0.18898234604997033,Episode:46\n"
     ]
    },
    {
     "name": "stderr",
     "output_type": "stream",
     "text": [
      "WARNING: attempting to unsubscribe from stream but sensor wasn't listening: Actor 6694 (sensor.camera.rgb) \n"
     ]
    },
    {
     "name": "stdout",
     "output_type": "stream",
     "text": [
      "avg loss:0.20188147998580913,Episode:47\n"
     ]
    },
    {
     "name": "stderr",
     "output_type": "stream",
     "text": [
      "WARNING: attempting to unsubscribe from stream but sensor wasn't listening: Actor 6699 (sensor.camera.rgb) \n"
     ]
    },
    {
     "name": "stdout",
     "output_type": "stream",
     "text": [
      "avg loss:0.19603345022593185,Episode:48\n"
     ]
    },
    {
     "name": "stderr",
     "output_type": "stream",
     "text": [
      "WARNING: attempting to unsubscribe from stream but sensor wasn't listening: Actor 6704 (sensor.camera.rgb) \n"
     ]
    },
    {
     "name": "stdout",
     "output_type": "stream",
     "text": [
      "avg loss:0.2006676650567935,Episode:49\n"
     ]
    },
    {
     "name": "stderr",
     "output_type": "stream",
     "text": [
      "WARNING: attempting to unsubscribe from stream but sensor wasn't listening: Actor 6709 (sensor.camera.rgb) \n"
     ]
    },
    {
     "name": "stdout",
     "output_type": "stream",
     "text": [
      "avg loss:0.21074975399320098,Episode:50\n"
     ]
    },
    {
     "name": "stderr",
     "output_type": "stream",
     "text": [
      "WARNING: attempting to unsubscribe from stream but sensor wasn't listening: Actor 6714 (sensor.camera.rgb) \n"
     ]
    },
    {
     "name": "stdout",
     "output_type": "stream",
     "text": [
      "avg loss:0.2147241465692884,Episode:51\n"
     ]
    },
    {
     "name": "stderr",
     "output_type": "stream",
     "text": [
      "WARNING: attempting to unsubscribe from stream but sensor wasn't listening: Actor 6719 (sensor.camera.rgb) \n"
     ]
    },
    {
     "name": "stdout",
     "output_type": "stream",
     "text": [
      "avg loss:0.19075488489009496,Episode:52\n"
     ]
    },
    {
     "name": "stderr",
     "output_type": "stream",
     "text": [
      "WARNING: attempting to unsubscribe from stream but sensor wasn't listening: Actor 6724 (sensor.camera.rgb) \n"
     ]
    },
    {
     "name": "stdout",
     "output_type": "stream",
     "text": [
      "avg loss:0.2164244310767984,Episode:53\n"
     ]
    },
    {
     "name": "stderr",
     "output_type": "stream",
     "text": [
      "WARNING: attempting to unsubscribe from stream but sensor wasn't listening: Actor 6729 (sensor.camera.rgb) \n"
     ]
    },
    {
     "name": "stdout",
     "output_type": "stream",
     "text": [
      "avg loss:0.19746398307489368,Episode:54\n"
     ]
    },
    {
     "name": "stderr",
     "output_type": "stream",
     "text": [
      "WARNING: attempting to unsubscribe from stream but sensor wasn't listening: Actor 6734 (sensor.camera.rgb) \n"
     ]
    },
    {
     "name": "stdout",
     "output_type": "stream",
     "text": [
      "avg loss:0.19340686882402014,Episode:55\n"
     ]
    },
    {
     "name": "stderr",
     "output_type": "stream",
     "text": [
      "WARNING: attempting to unsubscribe from stream but sensor wasn't listening: Actor 6739 (sensor.camera.rgb) \n"
     ]
    },
    {
     "name": "stdout",
     "output_type": "stream",
     "text": [
      "avg loss:0.2079956079179986,Episode:56\n"
     ]
    },
    {
     "name": "stderr",
     "output_type": "stream",
     "text": [
      "WARNING: attempting to unsubscribe from stream but sensor wasn't listening: Actor 6744 (sensor.camera.rgb) \n"
     ]
    },
    {
     "name": "stdout",
     "output_type": "stream",
     "text": [
      "avg loss:0.2016807400503435,Episode:57\n"
     ]
    },
    {
     "name": "stderr",
     "output_type": "stream",
     "text": [
      "WARNING: attempting to unsubscribe from stream but sensor wasn't listening: Actor 6749 (sensor.camera.rgb) \n"
     ]
    },
    {
     "name": "stdout",
     "output_type": "stream",
     "text": [
      "avg loss:0.198486474805398,Episode:58\n"
     ]
    },
    {
     "name": "stderr",
     "output_type": "stream",
     "text": [
      "WARNING: attempting to unsubscribe from stream but sensor wasn't listening: Actor 6754 (sensor.camera.rgb) \n"
     ]
    },
    {
     "name": "stdout",
     "output_type": "stream",
     "text": [
      "avg loss:0.1856142937545202,Episode:59\n"
     ]
    },
    {
     "name": "stderr",
     "output_type": "stream",
     "text": [
      "WARNING: attempting to unsubscribe from stream but sensor wasn't listening: Actor 6759 (sensor.camera.rgb) \n"
     ]
    },
    {
     "name": "stdout",
     "output_type": "stream",
     "text": [
      "avg loss:0.20086567867592423,Episode:60\n"
     ]
    },
    {
     "name": "stderr",
     "output_type": "stream",
     "text": [
      "WARNING: attempting to unsubscribe from stream but sensor wasn't listening: Actor 6764 (sensor.camera.rgb) \n"
     ]
    },
    {
     "name": "stdout",
     "output_type": "stream",
     "text": [
      "avg loss:0.19576272057792676,Episode:61\n"
     ]
    },
    {
     "name": "stderr",
     "output_type": "stream",
     "text": [
      "WARNING: attempting to unsubscribe from stream but sensor wasn't listening: Actor 6769 (sensor.camera.rgb) \n"
     ]
    },
    {
     "name": "stdout",
     "output_type": "stream",
     "text": [
      "avg loss:0.18938169245420775,Episode:62\n"
     ]
    },
    {
     "name": "stderr",
     "output_type": "stream",
     "text": [
      "WARNING: attempting to unsubscribe from stream but sensor wasn't listening: Actor 6774 (sensor.camera.rgb) \n"
     ]
    },
    {
     "name": "stdout",
     "output_type": "stream",
     "text": [
      "avg loss:0.19150293684235098,Episode:63\n"
     ]
    },
    {
     "name": "stderr",
     "output_type": "stream",
     "text": [
      "WARNING: attempting to unsubscribe from stream but sensor wasn't listening: Actor 6779 (sensor.camera.rgb) \n"
     ]
    },
    {
     "name": "stdout",
     "output_type": "stream",
     "text": [
      "avg loss:0.20170682015971747,Episode:64\n"
     ]
    },
    {
     "name": "stderr",
     "output_type": "stream",
     "text": [
      "WARNING: attempting to unsubscribe from stream but sensor wasn't listening: Actor 6784 (sensor.camera.rgb) \n"
     ]
    },
    {
     "name": "stdout",
     "output_type": "stream",
     "text": [
      "avg loss:0.1836231898316157,Episode:65\n"
     ]
    },
    {
     "name": "stderr",
     "output_type": "stream",
     "text": [
      "WARNING: attempting to unsubscribe from stream but sensor wasn't listening: Actor 6789 (sensor.camera.rgb) \n"
     ]
    },
    {
     "name": "stdout",
     "output_type": "stream",
     "text": [
      "avg loss:0.1869498557131382,Episode:66\n"
     ]
    },
    {
     "name": "stderr",
     "output_type": "stream",
     "text": [
      "WARNING: attempting to unsubscribe from stream but sensor wasn't listening: Actor 6794 (sensor.camera.rgb) \n"
     ]
    },
    {
     "name": "stdout",
     "output_type": "stream",
     "text": [
      "avg loss:0.1921414402338315,Episode:67\n"
     ]
    },
    {
     "name": "stderr",
     "output_type": "stream",
     "text": [
      "WARNING: attempting to unsubscribe from stream but sensor wasn't listening: Actor 6799 (sensor.camera.rgb) \n"
     ]
    },
    {
     "name": "stdout",
     "output_type": "stream",
     "text": [
      "avg loss:0.19338089887232565,Episode:68\n"
     ]
    },
    {
     "name": "stderr",
     "output_type": "stream",
     "text": [
      "WARNING: attempting to unsubscribe from stream but sensor wasn't listening: Actor 6804 (sensor.camera.rgb) \n"
     ]
    },
    {
     "name": "stdout",
     "output_type": "stream",
     "text": [
      "avg loss:0.19689799679188102,Episode:69\n"
     ]
    },
    {
     "name": "stderr",
     "output_type": "stream",
     "text": [
      "WARNING: attempting to unsubscribe from stream but sensor wasn't listening: Actor 6809 (sensor.camera.rgb) \n"
     ]
    },
    {
     "name": "stdout",
     "output_type": "stream",
     "text": [
      "avg loss:0.2036438441054732,Episode:70\n"
     ]
    },
    {
     "name": "stderr",
     "output_type": "stream",
     "text": [
      "WARNING: attempting to unsubscribe from stream but sensor wasn't listening: Actor 6814 (sensor.camera.rgb) \n"
     ]
    },
    {
     "name": "stdout",
     "output_type": "stream",
     "text": [
      "avg loss:0.20693365564974833,Episode:71\n"
     ]
    },
    {
     "name": "stderr",
     "output_type": "stream",
     "text": [
      "WARNING: attempting to unsubscribe from stream but sensor wasn't listening: Actor 6819 (sensor.camera.rgb) \n"
     ]
    },
    {
     "name": "stdout",
     "output_type": "stream",
     "text": [
      "avg loss:0.19312469231839957,Episode:72\n"
     ]
    },
    {
     "name": "stderr",
     "output_type": "stream",
     "text": [
      "WARNING: attempting to unsubscribe from stream but sensor wasn't listening: Actor 6824 (sensor.camera.rgb) \n"
     ]
    },
    {
     "name": "stdout",
     "output_type": "stream",
     "text": [
      "avg loss:0.1838778623286115,Episode:73\n"
     ]
    },
    {
     "name": "stderr",
     "output_type": "stream",
     "text": [
      "WARNING: attempting to unsubscribe from stream but sensor wasn't listening: Actor 6829 (sensor.camera.rgb) \n"
     ]
    },
    {
     "name": "stdout",
     "output_type": "stream",
     "text": [
      "avg loss:0.20490357677351836,Episode:74\n"
     ]
    },
    {
     "name": "stderr",
     "output_type": "stream",
     "text": [
      "WARNING: attempting to unsubscribe from stream but sensor wasn't listening: Actor 6834 (sensor.camera.rgb) \n"
     ]
    },
    {
     "name": "stdout",
     "output_type": "stream",
     "text": [
      "avg loss:0.21516222955043238,Episode:75\n"
     ]
    },
    {
     "name": "stderr",
     "output_type": "stream",
     "text": [
      "WARNING: attempting to unsubscribe from stream but sensor wasn't listening: Actor 6839 (sensor.camera.rgb) \n"
     ]
    },
    {
     "name": "stdout",
     "output_type": "stream",
     "text": [
      "avg loss:0.20682222986458798,Episode:76\n"
     ]
    },
    {
     "name": "stderr",
     "output_type": "stream",
     "text": [
      "WARNING: attempting to unsubscribe from stream but sensor wasn't listening: Actor 6844 (sensor.camera.rgb) \n"
     ]
    },
    {
     "name": "stdout",
     "output_type": "stream",
     "text": [
      "avg loss:0.2128301660840738,Episode:77\n"
     ]
    },
    {
     "name": "stderr",
     "output_type": "stream",
     "text": [
      "WARNING: attempting to unsubscribe from stream but sensor wasn't listening: Actor 6849 (sensor.camera.rgb) \n"
     ]
    },
    {
     "name": "stdout",
     "output_type": "stream",
     "text": [
      "avg loss:0.20524172154473522,Episode:78\n"
     ]
    },
    {
     "name": "stderr",
     "output_type": "stream",
     "text": [
      "WARNING: attempting to unsubscribe from stream but sensor wasn't listening: Actor 6854 (sensor.camera.rgb) \n"
     ]
    },
    {
     "name": "stdout",
     "output_type": "stream",
     "text": [
      "avg loss:0.20295337797764496,Episode:79\n"
     ]
    },
    {
     "name": "stderr",
     "output_type": "stream",
     "text": [
      "WARNING: attempting to unsubscribe from stream but sensor wasn't listening: Actor 6859 (sensor.camera.rgb) \n"
     ]
    },
    {
     "name": "stdout",
     "output_type": "stream",
     "text": [
      "avg loss:0.1918794515414792,Episode:80\n"
     ]
    },
    {
     "name": "stderr",
     "output_type": "stream",
     "text": [
      "WARNING: attempting to unsubscribe from stream but sensor wasn't listening: Actor 6864 (sensor.camera.rgb) \n"
     ]
    },
    {
     "name": "stdout",
     "output_type": "stream",
     "text": [
      "avg loss:0.21026882021279122,Episode:81\n"
     ]
    },
    {
     "name": "stderr",
     "output_type": "stream",
     "text": [
      "WARNING: attempting to unsubscribe from stream but sensor wasn't listening: Actor 6869 (sensor.camera.rgb) \n"
     ]
    },
    {
     "name": "stdout",
     "output_type": "stream",
     "text": [
      "avg loss:0.21034996799429417,Episode:82\n"
     ]
    },
    {
     "name": "stderr",
     "output_type": "stream",
     "text": [
      "WARNING: attempting to unsubscribe from stream but sensor wasn't listening: Actor 6874 (sensor.camera.rgb) \n"
     ]
    },
    {
     "name": "stdout",
     "output_type": "stream",
     "text": [
      "avg loss:0.2014397642327522,Episode:83\n"
     ]
    },
    {
     "name": "stderr",
     "output_type": "stream",
     "text": [
      "WARNING: attempting to unsubscribe from stream but sensor wasn't listening: Actor 6879 (sensor.camera.rgb) \n"
     ]
    },
    {
     "name": "stdout",
     "output_type": "stream",
     "text": [
      "avg loss:0.20875633772058153,Episode:84\n"
     ]
    },
    {
     "name": "stderr",
     "output_type": "stream",
     "text": [
      "WARNING: attempting to unsubscribe from stream but sensor wasn't listening: Actor 6884 (sensor.camera.rgb) \n"
     ]
    },
    {
     "name": "stdout",
     "output_type": "stream",
     "text": [
      "avg loss:0.17848224963145315,Episode:85\n"
     ]
    },
    {
     "name": "stderr",
     "output_type": "stream",
     "text": [
      "WARNING: attempting to unsubscribe from stream but sensor wasn't listening: Actor 6889 (sensor.camera.rgb) \n"
     ]
    },
    {
     "name": "stdout",
     "output_type": "stream",
     "text": [
      "avg loss:0.2059109485978779,Episode:86\n"
     ]
    },
    {
     "name": "stderr",
     "output_type": "stream",
     "text": [
      "WARNING: attempting to unsubscribe from stream but sensor wasn't listening: Actor 6894 (sensor.camera.rgb) \n"
     ]
    },
    {
     "name": "stdout",
     "output_type": "stream",
     "text": [
      "avg loss:0.19858443504077627,Episode:87\n"
     ]
    },
    {
     "name": "stderr",
     "output_type": "stream",
     "text": [
      "WARNING: attempting to unsubscribe from stream but sensor wasn't listening: Actor 6899 (sensor.camera.rgb) \n"
     ]
    },
    {
     "name": "stdout",
     "output_type": "stream",
     "text": [
      "avg loss:0.1954924635668834,Episode:88\n"
     ]
    },
    {
     "name": "stderr",
     "output_type": "stream",
     "text": [
      "WARNING: attempting to unsubscribe from stream but sensor wasn't listening: Actor 6904 (sensor.camera.rgb) \n"
     ]
    },
    {
     "name": "stdout",
     "output_type": "stream",
     "text": [
      "avg loss:0.1879036976683633,Episode:89\n"
     ]
    },
    {
     "name": "stderr",
     "output_type": "stream",
     "text": [
      "WARNING: attempting to unsubscribe from stream but sensor wasn't listening: Actor 6909 (sensor.camera.rgb) \n"
     ]
    },
    {
     "name": "stdout",
     "output_type": "stream",
     "text": [
      "avg loss:0.20300859410360636,Episode:90\n"
     ]
    },
    {
     "name": "stderr",
     "output_type": "stream",
     "text": [
      "WARNING: attempting to unsubscribe from stream but sensor wasn't listening: Actor 6914 (sensor.camera.rgb) \n"
     ]
    },
    {
     "name": "stdout",
     "output_type": "stream",
     "text": [
      "avg loss:0.20815653015124727,Episode:91\n"
     ]
    },
    {
     "name": "stderr",
     "output_type": "stream",
     "text": [
      "WARNING: attempting to unsubscribe from stream but sensor wasn't listening: Actor 6919 (sensor.camera.rgb) \n"
     ]
    },
    {
     "name": "stdout",
     "output_type": "stream",
     "text": [
      "avg loss:0.19500247120816577,Episode:92\n"
     ]
    },
    {
     "name": "stderr",
     "output_type": "stream",
     "text": [
      "WARNING: attempting to unsubscribe from stream but sensor wasn't listening: Actor 6924 (sensor.camera.rgb) \n"
     ]
    },
    {
     "name": "stdout",
     "output_type": "stream",
     "text": [
      "avg loss:0.18736982448243722,Episode:93\n"
     ]
    },
    {
     "name": "stderr",
     "output_type": "stream",
     "text": [
      "WARNING: attempting to unsubscribe from stream but sensor wasn't listening: Actor 6929 (sensor.camera.rgb) \n"
     ]
    },
    {
     "name": "stdout",
     "output_type": "stream",
     "text": [
      "avg loss:0.18495873748482616,Episode:94\n"
     ]
    },
    {
     "name": "stderr",
     "output_type": "stream",
     "text": [
      "WARNING: attempting to unsubscribe from stream but sensor wasn't listening: Actor 6934 (sensor.camera.rgb) \n"
     ]
    },
    {
     "name": "stdout",
     "output_type": "stream",
     "text": [
      "avg loss:0.19783044417229323,Episode:95\n"
     ]
    },
    {
     "name": "stderr",
     "output_type": "stream",
     "text": [
      "WARNING: attempting to unsubscribe from stream but sensor wasn't listening: Actor 6939 (sensor.camera.rgb) \n"
     ]
    },
    {
     "name": "stdout",
     "output_type": "stream",
     "text": [
      "avg loss:0.18859104437481095,Episode:96\n"
     ]
    },
    {
     "name": "stderr",
     "output_type": "stream",
     "text": [
      "WARNING: attempting to unsubscribe from stream but sensor wasn't listening: Actor 6944 (sensor.camera.rgb) \n"
     ]
    },
    {
     "name": "stdout",
     "output_type": "stream",
     "text": [
      "avg loss:0.1937114445768698,Episode:97\n"
     ]
    },
    {
     "name": "stderr",
     "output_type": "stream",
     "text": [
      "WARNING: attempting to unsubscribe from stream but sensor wasn't listening: Actor 6949 (sensor.camera.rgb) \n"
     ]
    },
    {
     "name": "stdout",
     "output_type": "stream",
     "text": [
      "avg loss:0.1954479300411855,Episode:98\n"
     ]
    },
    {
     "name": "stderr",
     "output_type": "stream",
     "text": [
      "WARNING: attempting to unsubscribe from stream but sensor wasn't listening: Actor 6954 (sensor.camera.rgb) \n"
     ]
    },
    {
     "name": "stdout",
     "output_type": "stream",
     "text": [
      "avg loss:0.1902089138021679,Episode:99\n"
     ]
    },
    {
     "name": "stderr",
     "output_type": "stream",
     "text": [
      "WARNING: attempting to unsubscribe from stream but sensor wasn't listening: Actor 6959 (sensor.camera.rgb) \n"
     ]
    },
    {
     "name": "stdout",
     "output_type": "stream",
     "text": [
      "avg loss:0.1769798211709983,Episode:100\n"
     ]
    },
    {
     "name": "stderr",
     "output_type": "stream",
     "text": [
      "WARNING: attempting to unsubscribe from stream but sensor wasn't listening: Actor 6964 (sensor.camera.rgb) \n"
     ]
    },
    {
     "name": "stdout",
     "output_type": "stream",
     "text": [
      "avg loss:0.20867971939154933,Episode:101\n"
     ]
    },
    {
     "name": "stderr",
     "output_type": "stream",
     "text": [
      "WARNING: attempting to unsubscribe from stream but sensor wasn't listening: Actor 6969 (sensor.camera.rgb) \n"
     ]
    },
    {
     "name": "stdout",
     "output_type": "stream",
     "text": [
      "avg loss:0.19880283131487944,Episode:102\n"
     ]
    },
    {
     "name": "stderr",
     "output_type": "stream",
     "text": [
      "WARNING: attempting to unsubscribe from stream but sensor wasn't listening: Actor 6974 (sensor.camera.rgb) \n"
     ]
    },
    {
     "name": "stdout",
     "output_type": "stream",
     "text": [
      "avg loss:0.20063428327423977,Episode:103\n"
     ]
    },
    {
     "name": "stderr",
     "output_type": "stream",
     "text": [
      "WARNING: attempting to unsubscribe from stream but sensor wasn't listening: Actor 6979 (sensor.camera.rgb) \n"
     ]
    },
    {
     "name": "stdout",
     "output_type": "stream",
     "text": [
      "avg loss:0.20551485316091797,Episode:104\n"
     ]
    },
    {
     "name": "stderr",
     "output_type": "stream",
     "text": [
      "WARNING: attempting to unsubscribe from stream but sensor wasn't listening: Actor 6984 (sensor.camera.rgb) \n"
     ]
    },
    {
     "name": "stdout",
     "output_type": "stream",
     "text": [
      "avg loss:0.20517525345553891,Episode:105\n"
     ]
    },
    {
     "name": "stderr",
     "output_type": "stream",
     "text": [
      "WARNING: attempting to unsubscribe from stream but sensor wasn't listening: Actor 6989 (sensor.camera.rgb) \n"
     ]
    },
    {
     "name": "stdout",
     "output_type": "stream",
     "text": [
      "avg loss:0.2045665583836406,Episode:106\n"
     ]
    },
    {
     "name": "stderr",
     "output_type": "stream",
     "text": [
      "WARNING: attempting to unsubscribe from stream but sensor wasn't listening: Actor 6994 (sensor.camera.rgb) \n"
     ]
    },
    {
     "name": "stdout",
     "output_type": "stream",
     "text": [
      "avg loss:0.21006703146142153,Episode:107\n"
     ]
    },
    {
     "name": "stderr",
     "output_type": "stream",
     "text": [
      "WARNING: attempting to unsubscribe from stream but sensor wasn't listening: Actor 6999 (sensor.camera.rgb) \n"
     ]
    },
    {
     "name": "stdout",
     "output_type": "stream",
     "text": [
      "avg loss:0.2227335410485973,Episode:108\n"
     ]
    },
    {
     "name": "stderr",
     "output_type": "stream",
     "text": [
      "WARNING: attempting to unsubscribe from stream but sensor wasn't listening: Actor 7004 (sensor.camera.rgb) \n"
     ]
    },
    {
     "name": "stdout",
     "output_type": "stream",
     "text": [
      "avg loss:0.2009040553851218,Episode:109\n"
     ]
    },
    {
     "name": "stderr",
     "output_type": "stream",
     "text": [
      "WARNING: attempting to unsubscribe from stream but sensor wasn't listening: Actor 7009 (sensor.camera.rgb) \n"
     ]
    },
    {
     "name": "stdout",
     "output_type": "stream",
     "text": [
      "avg loss:0.21147602870692503,Episode:110\n"
     ]
    },
    {
     "name": "stderr",
     "output_type": "stream",
     "text": [
      "WARNING: attempting to unsubscribe from stream but sensor wasn't listening: Actor 7014 (sensor.camera.rgb) \n"
     ]
    },
    {
     "name": "stdout",
     "output_type": "stream",
     "text": [
      "avg loss:0.21449699979868922,Episode:111\n"
     ]
    },
    {
     "name": "stderr",
     "output_type": "stream",
     "text": [
      "WARNING: attempting to unsubscribe from stream but sensor wasn't listening: Actor 7019 (sensor.camera.rgb) \n"
     ]
    },
    {
     "name": "stdout",
     "output_type": "stream",
     "text": [
      "avg loss:0.2093251784970039,Episode:112\n"
     ]
    },
    {
     "name": "stderr",
     "output_type": "stream",
     "text": [
      "WARNING: attempting to unsubscribe from stream but sensor wasn't listening: Actor 7024 (sensor.camera.rgb) \n"
     ]
    },
    {
     "name": "stdout",
     "output_type": "stream",
     "text": [
      "avg loss:0.20189925104241666,Episode:113\n"
     ]
    },
    {
     "name": "stderr",
     "output_type": "stream",
     "text": [
      "WARNING: attempting to unsubscribe from stream but sensor wasn't listening: Actor 7029 (sensor.camera.rgb) \n"
     ]
    },
    {
     "name": "stdout",
     "output_type": "stream",
     "text": [
      "avg loss:0.20556674888425996,Episode:114\n"
     ]
    },
    {
     "name": "stderr",
     "output_type": "stream",
     "text": [
      "WARNING: attempting to unsubscribe from stream but sensor wasn't listening: Actor 7034 (sensor.camera.rgb) \n"
     ]
    },
    {
     "name": "stdout",
     "output_type": "stream",
     "text": [
      "avg loss:0.2109176450505758,Episode:115\n"
     ]
    },
    {
     "name": "stderr",
     "output_type": "stream",
     "text": [
      "WARNING: attempting to unsubscribe from stream but sensor wasn't listening: Actor 7039 (sensor.camera.rgb) \n"
     ]
    },
    {
     "name": "stdout",
     "output_type": "stream",
     "text": [
      "avg loss:0.20620611700594169,Episode:116\n"
     ]
    },
    {
     "name": "stderr",
     "output_type": "stream",
     "text": [
      "WARNING: attempting to unsubscribe from stream but sensor wasn't listening: Actor 7044 (sensor.camera.rgb) \n"
     ]
    },
    {
     "name": "stdout",
     "output_type": "stream",
     "text": [
      "avg loss:0.2063850920414937,Episode:117\n"
     ]
    },
    {
     "name": "stderr",
     "output_type": "stream",
     "text": [
      "WARNING: attempting to unsubscribe from stream but sensor wasn't listening: Actor 7049 (sensor.camera.rgb) \n"
     ]
    },
    {
     "name": "stdout",
     "output_type": "stream",
     "text": [
      "avg loss:0.1928620681466333,Episode:118\n"
     ]
    },
    {
     "name": "stderr",
     "output_type": "stream",
     "text": [
      "WARNING: attempting to unsubscribe from stream but sensor wasn't listening: Actor 7054 (sensor.camera.rgb) \n"
     ]
    },
    {
     "name": "stdout",
     "output_type": "stream",
     "text": [
      "avg loss:0.22079392847147658,Episode:119\n"
     ]
    },
    {
     "name": "stderr",
     "output_type": "stream",
     "text": [
      "WARNING: attempting to unsubscribe from stream but sensor wasn't listening: Actor 7059 (sensor.camera.rgb) \n"
     ]
    },
    {
     "name": "stdout",
     "output_type": "stream",
     "text": [
      "avg loss:0.20937271167679702,Episode:120\n"
     ]
    },
    {
     "name": "stderr",
     "output_type": "stream",
     "text": [
      "WARNING: attempting to unsubscribe from stream but sensor wasn't listening: Actor 7064 (sensor.camera.rgb) \n"
     ]
    },
    {
     "name": "stdout",
     "output_type": "stream",
     "text": [
      "avg loss:0.19113685913892034,Episode:121\n"
     ]
    },
    {
     "name": "stderr",
     "output_type": "stream",
     "text": [
      "WARNING: attempting to unsubscribe from stream but sensor wasn't listening: Actor 7069 (sensor.camera.rgb) \n"
     ]
    },
    {
     "name": "stdout",
     "output_type": "stream",
     "text": [
      "avg loss:0.2150737174778652,Episode:122\n"
     ]
    },
    {
     "name": "stderr",
     "output_type": "stream",
     "text": [
      "WARNING: attempting to unsubscribe from stream but sensor wasn't listening: Actor 7074 (sensor.camera.rgb) \n"
     ]
    },
    {
     "name": "stdout",
     "output_type": "stream",
     "text": [
      "avg loss:0.21823624757630128,Episode:123\n"
     ]
    },
    {
     "name": "stderr",
     "output_type": "stream",
     "text": [
      "WARNING: attempting to unsubscribe from stream but sensor wasn't listening: Actor 7079 (sensor.camera.rgb) \n"
     ]
    },
    {
     "name": "stdout",
     "output_type": "stream",
     "text": [
      "avg loss:0.21329204146511518,Episode:124\n"
     ]
    },
    {
     "name": "stderr",
     "output_type": "stream",
     "text": [
      "WARNING: attempting to unsubscribe from stream but sensor wasn't listening: Actor 7084 (sensor.camera.rgb) \n"
     ]
    },
    {
     "name": "stdout",
     "output_type": "stream",
     "text": [
      "avg loss:0.21600510048327679,Episode:125\n"
     ]
    },
    {
     "name": "stderr",
     "output_type": "stream",
     "text": [
      "WARNING: attempting to unsubscribe from stream but sensor wasn't listening: Actor 7089 (sensor.camera.rgb) \n"
     ]
    },
    {
     "name": "stdout",
     "output_type": "stream",
     "text": [
      "avg loss:0.22080294649818585,Episode:126\n"
     ]
    },
    {
     "name": "stderr",
     "output_type": "stream",
     "text": [
      "WARNING: attempting to unsubscribe from stream but sensor wasn't listening: Actor 7094 (sensor.camera.rgb) \n"
     ]
    },
    {
     "name": "stdout",
     "output_type": "stream",
     "text": [
      "avg loss:0.21139160353865133,Episode:127\n"
     ]
    },
    {
     "name": "stderr",
     "output_type": "stream",
     "text": [
      "WARNING: attempting to unsubscribe from stream but sensor wasn't listening: Actor 7099 (sensor.camera.rgb) \n"
     ]
    },
    {
     "name": "stdout",
     "output_type": "stream",
     "text": [
      "avg loss:0.22077582025422882,Episode:128\n"
     ]
    },
    {
     "name": "stderr",
     "output_type": "stream",
     "text": [
      "WARNING: attempting to unsubscribe from stream but sensor wasn't listening: Actor 7104 (sensor.camera.rgb) \n"
     ]
    },
    {
     "name": "stdout",
     "output_type": "stream",
     "text": [
      "avg loss:0.21180589205018846,Episode:129\n"
     ]
    },
    {
     "name": "stderr",
     "output_type": "stream",
     "text": [
      "WARNING: attempting to unsubscribe from stream but sensor wasn't listening: Actor 7109 (sensor.camera.rgb) \n"
     ]
    },
    {
     "name": "stdout",
     "output_type": "stream",
     "text": [
      "avg loss:0.2298368416611809,Episode:130\n"
     ]
    },
    {
     "name": "stderr",
     "output_type": "stream",
     "text": [
      "WARNING: attempting to unsubscribe from stream but sensor wasn't listening: Actor 7114 (sensor.camera.rgb) \n"
     ]
    },
    {
     "name": "stdout",
     "output_type": "stream",
     "text": [
      "avg loss:0.21156401784202705,Episode:131\n"
     ]
    },
    {
     "name": "stderr",
     "output_type": "stream",
     "text": [
      "WARNING: attempting to unsubscribe from stream but sensor wasn't listening: Actor 7119 (sensor.camera.rgb) \n"
     ]
    },
    {
     "name": "stdout",
     "output_type": "stream",
     "text": [
      "avg loss:0.20997693629016703,Episode:132\n"
     ]
    },
    {
     "name": "stderr",
     "output_type": "stream",
     "text": [
      "WARNING: attempting to unsubscribe from stream but sensor wasn't listening: Actor 7124 (sensor.camera.rgb) \n"
     ]
    },
    {
     "name": "stdout",
     "output_type": "stream",
     "text": [
      "avg loss:0.2289373880829411,Episode:133\n"
     ]
    },
    {
     "name": "stderr",
     "output_type": "stream",
     "text": [
      "WARNING: attempting to unsubscribe from stream but sensor wasn't listening: Actor 7129 (sensor.camera.rgb) \n"
     ]
    },
    {
     "name": "stdout",
     "output_type": "stream",
     "text": [
      "avg loss:0.21398046447845434,Episode:134\n"
     ]
    },
    {
     "name": "stderr",
     "output_type": "stream",
     "text": [
      "WARNING: attempting to unsubscribe from stream but sensor wasn't listening: Actor 7134 (sensor.camera.rgb) \n"
     ]
    },
    {
     "name": "stdout",
     "output_type": "stream",
     "text": [
      "avg loss:0.21280439429131873,Episode:135\n"
     ]
    },
    {
     "name": "stderr",
     "output_type": "stream",
     "text": [
      "WARNING: attempting to unsubscribe from stream but sensor wasn't listening: Actor 7139 (sensor.camera.rgb) \n"
     ]
    },
    {
     "name": "stdout",
     "output_type": "stream",
     "text": [
      "avg loss:0.22661290945160464,Episode:136\n"
     ]
    },
    {
     "name": "stderr",
     "output_type": "stream",
     "text": [
      "WARNING: attempting to unsubscribe from stream but sensor wasn't listening: Actor 7144 (sensor.camera.rgb) \n"
     ]
    },
    {
     "name": "stdout",
     "output_type": "stream",
     "text": [
      "avg loss:0.22061889660309106,Episode:137\n"
     ]
    },
    {
     "name": "stderr",
     "output_type": "stream",
     "text": [
      "WARNING: attempting to unsubscribe from stream but sensor wasn't listening: Actor 7149 (sensor.camera.rgb) \n"
     ]
    },
    {
     "name": "stdout",
     "output_type": "stream",
     "text": [
      "avg loss:0.233464611402515,Episode:138\n"
     ]
    },
    {
     "name": "stderr",
     "output_type": "stream",
     "text": [
      "WARNING: attempting to unsubscribe from stream but sensor wasn't listening: Actor 7154 (sensor.camera.rgb) \n"
     ]
    },
    {
     "name": "stdout",
     "output_type": "stream",
     "text": [
      "avg loss:0.20755004634281443,Episode:139\n"
     ]
    },
    {
     "name": "stderr",
     "output_type": "stream",
     "text": [
      "WARNING: attempting to unsubscribe from stream but sensor wasn't listening: Actor 7159 (sensor.camera.rgb) \n"
     ]
    },
    {
     "name": "stdout",
     "output_type": "stream",
     "text": [
      "avg loss:0.22459144044106685,Episode:140\n"
     ]
    },
    {
     "name": "stderr",
     "output_type": "stream",
     "text": [
      "WARNING: attempting to unsubscribe from stream but sensor wasn't listening: Actor 7164 (sensor.camera.rgb) \n"
     ]
    },
    {
     "name": "stdout",
     "output_type": "stream",
     "text": [
      "avg loss:0.2372448824520014,Episode:141\n"
     ]
    },
    {
     "name": "stderr",
     "output_type": "stream",
     "text": [
      "WARNING: attempting to unsubscribe from stream but sensor wasn't listening: Actor 7169 (sensor.camera.rgb) \n"
     ]
    },
    {
     "name": "stdout",
     "output_type": "stream",
     "text": [
      "avg loss:0.2174433474333702,Episode:142\n"
     ]
    },
    {
     "name": "stderr",
     "output_type": "stream",
     "text": [
      "WARNING: attempting to unsubscribe from stream but sensor wasn't listening: Actor 7174 (sensor.camera.rgb) \n"
     ]
    },
    {
     "name": "stdout",
     "output_type": "stream",
     "text": [
      "avg loss:0.23083430746793387,Episode:143\n"
     ]
    },
    {
     "name": "stderr",
     "output_type": "stream",
     "text": [
      "WARNING: attempting to unsubscribe from stream but sensor wasn't listening: Actor 7179 (sensor.camera.rgb) \n"
     ]
    },
    {
     "name": "stdout",
     "output_type": "stream",
     "text": [
      "avg loss:0.21719127444517203,Episode:144\n"
     ]
    },
    {
     "name": "stderr",
     "output_type": "stream",
     "text": [
      "WARNING: attempting to unsubscribe from stream but sensor wasn't listening: Actor 7184 (sensor.camera.rgb) \n"
     ]
    },
    {
     "name": "stdout",
     "output_type": "stream",
     "text": [
      "avg loss:0.22824733432179972,Episode:145\n"
     ]
    },
    {
     "name": "stderr",
     "output_type": "stream",
     "text": [
      "WARNING: attempting to unsubscribe from stream but sensor wasn't listening: Actor 7189 (sensor.camera.rgb) \n"
     ]
    },
    {
     "name": "stdout",
     "output_type": "stream",
     "text": [
      "avg loss:0.236407785435406,Episode:146\n"
     ]
    },
    {
     "name": "stderr",
     "output_type": "stream",
     "text": [
      "WARNING: attempting to unsubscribe from stream but sensor wasn't listening: Actor 7194 (sensor.camera.rgb) \n"
     ]
    },
    {
     "name": "stdout",
     "output_type": "stream",
     "text": [
      "avg loss:0.22498814397431774,Episode:147\n"
     ]
    },
    {
     "name": "stderr",
     "output_type": "stream",
     "text": [
      "WARNING: attempting to unsubscribe from stream but sensor wasn't listening: Actor 7199 (sensor.camera.rgb) \n"
     ]
    },
    {
     "name": "stdout",
     "output_type": "stream",
     "text": [
      "avg loss:0.22149227065863042,Episode:148\n"
     ]
    },
    {
     "name": "stderr",
     "output_type": "stream",
     "text": [
      "WARNING: attempting to unsubscribe from stream but sensor wasn't listening: Actor 7204 (sensor.camera.rgb) \n"
     ]
    },
    {
     "name": "stdout",
     "output_type": "stream",
     "text": [
      "avg loss:0.2136931934868787,Episode:149\n"
     ]
    },
    {
     "name": "stderr",
     "output_type": "stream",
     "text": [
      "WARNING: attempting to unsubscribe from stream but sensor wasn't listening: Actor 7209 (sensor.camera.rgb) \n"
     ]
    },
    {
     "name": "stdout",
     "output_type": "stream",
     "text": [
      "avg loss:0.2280938751554082,Episode:150\n"
     ]
    },
    {
     "name": "stderr",
     "output_type": "stream",
     "text": [
      "WARNING: attempting to unsubscribe from stream but sensor wasn't listening: Actor 7214 (sensor.camera.rgb) \n"
     ]
    },
    {
     "name": "stdout",
     "output_type": "stream",
     "text": [
      "avg loss:0.21891231417927723,Episode:151\n"
     ]
    },
    {
     "name": "stderr",
     "output_type": "stream",
     "text": [
      "WARNING: attempting to unsubscribe from stream but sensor wasn't listening: Actor 7219 (sensor.camera.rgb) \n"
     ]
    },
    {
     "name": "stdout",
     "output_type": "stream",
     "text": [
      "avg loss:0.22279757786675658,Episode:152\n"
     ]
    },
    {
     "name": "stderr",
     "output_type": "stream",
     "text": [
      "WARNING: attempting to unsubscribe from stream but sensor wasn't listening: Actor 7224 (sensor.camera.rgb) \n"
     ]
    },
    {
     "name": "stdout",
     "output_type": "stream",
     "text": [
      "avg loss:0.21203250805917512,Episode:153\n"
     ]
    },
    {
     "name": "stderr",
     "output_type": "stream",
     "text": [
      "WARNING: attempting to unsubscribe from stream but sensor wasn't listening: Actor 7229 (sensor.camera.rgb) \n"
     ]
    },
    {
     "name": "stdout",
     "output_type": "stream",
     "text": [
      "avg loss:0.2198750302626692,Episode:154\n"
     ]
    },
    {
     "name": "stderr",
     "output_type": "stream",
     "text": [
      "WARNING: attempting to unsubscribe from stream but sensor wasn't listening: Actor 7234 (sensor.camera.rgb) \n"
     ]
    },
    {
     "name": "stdout",
     "output_type": "stream",
     "text": [
      "avg loss:0.23128336664796828,Episode:155\n"
     ]
    },
    {
     "name": "stderr",
     "output_type": "stream",
     "text": [
      "WARNING: attempting to unsubscribe from stream but sensor wasn't listening: Actor 7239 (sensor.camera.rgb) \n"
     ]
    },
    {
     "name": "stdout",
     "output_type": "stream",
     "text": [
      "avg loss:0.2256251338909106,Episode:156\n"
     ]
    },
    {
     "name": "stderr",
     "output_type": "stream",
     "text": [
      "WARNING: attempting to unsubscribe from stream but sensor wasn't listening: Actor 7244 (sensor.camera.rgb) \n"
     ]
    },
    {
     "name": "stdout",
     "output_type": "stream",
     "text": [
      "avg loss:0.21595058003284107,Episode:157\n"
     ]
    },
    {
     "name": "stderr",
     "output_type": "stream",
     "text": [
      "WARNING: attempting to unsubscribe from stream but sensor wasn't listening: Actor 7249 (sensor.camera.rgb) \n"
     ]
    },
    {
     "name": "stdout",
     "output_type": "stream",
     "text": [
      "avg loss:0.224655510664128,Episode:158\n"
     ]
    },
    {
     "name": "stderr",
     "output_type": "stream",
     "text": [
      "WARNING: attempting to unsubscribe from stream but sensor wasn't listening: Actor 7254 (sensor.camera.rgb) \n"
     ]
    },
    {
     "name": "stdout",
     "output_type": "stream",
     "text": [
      "avg loss:0.2163528000223797,Episode:159\n"
     ]
    },
    {
     "name": "stderr",
     "output_type": "stream",
     "text": [
      "WARNING: attempting to unsubscribe from stream but sensor wasn't listening: Actor 7259 (sensor.camera.rgb) \n"
     ]
    },
    {
     "name": "stdout",
     "output_type": "stream",
     "text": [
      "avg loss:0.22081196624346025,Episode:160\n"
     ]
    },
    {
     "name": "stderr",
     "output_type": "stream",
     "text": [
      "WARNING: attempting to unsubscribe from stream but sensor wasn't listening: Actor 7264 (sensor.camera.rgb) \n"
     ]
    },
    {
     "name": "stdout",
     "output_type": "stream",
     "text": [
      "avg loss:0.22382230605530787,Episode:161\n"
     ]
    },
    {
     "name": "stderr",
     "output_type": "stream",
     "text": [
      "WARNING: attempting to unsubscribe from stream but sensor wasn't listening: Actor 7269 (sensor.camera.rgb) \n"
     ]
    },
    {
     "name": "stdout",
     "output_type": "stream",
     "text": [
      "avg loss:0.22322735159418283,Episode:162\n"
     ]
    },
    {
     "name": "stderr",
     "output_type": "stream",
     "text": [
      "WARNING: attempting to unsubscribe from stream but sensor wasn't listening: Actor 7274 (sensor.camera.rgb) \n"
     ]
    },
    {
     "name": "stdout",
     "output_type": "stream",
     "text": [
      "avg loss:0.21785375732037215,Episode:163\n"
     ]
    },
    {
     "name": "stderr",
     "output_type": "stream",
     "text": [
      "WARNING: attempting to unsubscribe from stream but sensor wasn't listening: Actor 7279 (sensor.camera.rgb) \n"
     ]
    },
    {
     "name": "stdout",
     "output_type": "stream",
     "text": [
      "avg loss:0.22901184624699755,Episode:164\n"
     ]
    },
    {
     "name": "stderr",
     "output_type": "stream",
     "text": [
      "WARNING: attempting to unsubscribe from stream but sensor wasn't listening: Actor 7284 (sensor.camera.rgb) \n"
     ]
    },
    {
     "name": "stdout",
     "output_type": "stream",
     "text": [
      "avg loss:0.22538671300076263,Episode:165\n"
     ]
    },
    {
     "name": "stderr",
     "output_type": "stream",
     "text": [
      "WARNING: attempting to unsubscribe from stream but sensor wasn't listening: Actor 7289 (sensor.camera.rgb) \n"
     ]
    },
    {
     "name": "stdout",
     "output_type": "stream",
     "text": [
      "avg loss:0.2189144010989726,Episode:166\n"
     ]
    },
    {
     "name": "stderr",
     "output_type": "stream",
     "text": [
      "WARNING: attempting to unsubscribe from stream but sensor wasn't listening: Actor 7294 (sensor.camera.rgb) \n"
     ]
    },
    {
     "name": "stdout",
     "output_type": "stream",
     "text": [
      "avg loss:0.23250600302185692,Episode:167\n"
     ]
    },
    {
     "name": "stderr",
     "output_type": "stream",
     "text": [
      "WARNING: attempting to unsubscribe from stream but sensor wasn't listening: Actor 7299 (sensor.camera.rgb) \n"
     ]
    },
    {
     "name": "stdout",
     "output_type": "stream",
     "text": [
      "avg loss:0.21993995174978945,Episode:168\n"
     ]
    },
    {
     "name": "stderr",
     "output_type": "stream",
     "text": [
      "WARNING: attempting to unsubscribe from stream but sensor wasn't listening: Actor 7304 (sensor.camera.rgb) \n"
     ]
    },
    {
     "name": "stdout",
     "output_type": "stream",
     "text": [
      "avg loss:0.2217761132722358,Episode:169\n"
     ]
    },
    {
     "name": "stderr",
     "output_type": "stream",
     "text": [
      "WARNING: attempting to unsubscribe from stream but sensor wasn't listening: Actor 7309 (sensor.camera.rgb) \n"
     ]
    },
    {
     "name": "stdout",
     "output_type": "stream",
     "text": [
      "avg loss:0.22306757919868692,Episode:170\n"
     ]
    },
    {
     "name": "stderr",
     "output_type": "stream",
     "text": [
      "WARNING: attempting to unsubscribe from stream but sensor wasn't listening: Actor 7314 (sensor.camera.rgb) \n"
     ]
    },
    {
     "name": "stdout",
     "output_type": "stream",
     "text": [
      "avg loss:0.23017520256016813,Episode:171\n"
     ]
    },
    {
     "name": "stderr",
     "output_type": "stream",
     "text": [
      "WARNING: attempting to unsubscribe from stream but sensor wasn't listening: Actor 7319 (sensor.camera.rgb) \n"
     ]
    },
    {
     "name": "stdout",
     "output_type": "stream",
     "text": [
      "avg loss:0.22094335881113059,Episode:172\n"
     ]
    },
    {
     "name": "stderr",
     "output_type": "stream",
     "text": [
      "WARNING: attempting to unsubscribe from stream but sensor wasn't listening: Actor 7324 (sensor.camera.rgb) \n"
     ]
    },
    {
     "name": "stdout",
     "output_type": "stream",
     "text": [
      "avg loss:0.22021602003649587,Episode:173\n"
     ]
    },
    {
     "name": "stderr",
     "output_type": "stream",
     "text": [
      "WARNING: attempting to unsubscribe from stream but sensor wasn't listening: Actor 7329 (sensor.camera.rgb) \n"
     ]
    },
    {
     "name": "stdout",
     "output_type": "stream",
     "text": [
      "avg loss:0.22914714747441073,Episode:174\n"
     ]
    },
    {
     "name": "stderr",
     "output_type": "stream",
     "text": [
      "WARNING: attempting to unsubscribe from stream but sensor wasn't listening: Actor 7334 (sensor.camera.rgb) \n"
     ]
    },
    {
     "name": "stdout",
     "output_type": "stream",
     "text": [
      "avg loss:0.22191604489337496,Episode:175\n"
     ]
    },
    {
     "name": "stderr",
     "output_type": "stream",
     "text": [
      "WARNING: attempting to unsubscribe from stream but sensor wasn't listening: Actor 7339 (sensor.camera.rgb) \n"
     ]
    },
    {
     "name": "stdout",
     "output_type": "stream",
     "text": [
      "avg loss:0.22376750403931306,Episode:176\n"
     ]
    },
    {
     "name": "stderr",
     "output_type": "stream",
     "text": [
      "WARNING: attempting to unsubscribe from stream but sensor wasn't listening: Actor 7344 (sensor.camera.rgb) \n"
     ]
    },
    {
     "name": "stdout",
     "output_type": "stream",
     "text": [
      "avg loss:0.21260518359052244,Episode:177\n"
     ]
    },
    {
     "name": "stderr",
     "output_type": "stream",
     "text": [
      "WARNING: attempting to unsubscribe from stream but sensor wasn't listening: Actor 7349 (sensor.camera.rgb) \n"
     ]
    },
    {
     "name": "stdout",
     "output_type": "stream",
     "text": [
      "avg loss:0.222177437462964,Episode:178\n"
     ]
    },
    {
     "name": "stderr",
     "output_type": "stream",
     "text": [
      "WARNING: attempting to unsubscribe from stream but sensor wasn't listening: Actor 7354 (sensor.camera.rgb) \n"
     ]
    },
    {
     "name": "stdout",
     "output_type": "stream",
     "text": [
      "avg loss:0.21179566911036035,Episode:179\n"
     ]
    },
    {
     "name": "stderr",
     "output_type": "stream",
     "text": [
      "WARNING: attempting to unsubscribe from stream but sensor wasn't listening: Actor 7359 (sensor.camera.rgb) \n"
     ]
    },
    {
     "name": "stdout",
     "output_type": "stream",
     "text": [
      "avg loss:0.23095342984776923,Episode:180\n"
     ]
    },
    {
     "name": "stderr",
     "output_type": "stream",
     "text": [
      "WARNING: attempting to unsubscribe from stream but sensor wasn't listening: Actor 7364 (sensor.camera.rgb) \n"
     ]
    },
    {
     "name": "stdout",
     "output_type": "stream",
     "text": [
      "avg loss:0.21663507460134426,Episode:181\n"
     ]
    },
    {
     "name": "stderr",
     "output_type": "stream",
     "text": [
      "WARNING: attempting to unsubscribe from stream but sensor wasn't listening: Actor 7369 (sensor.camera.rgb) \n"
     ]
    },
    {
     "name": "stdout",
     "output_type": "stream",
     "text": [
      "avg loss:0.21350330226000422,Episode:182\n"
     ]
    },
    {
     "name": "stderr",
     "output_type": "stream",
     "text": [
      "WARNING: attempting to unsubscribe from stream but sensor wasn't listening: Actor 7374 (sensor.camera.rgb) \n"
     ]
    },
    {
     "name": "stdout",
     "output_type": "stream",
     "text": [
      "avg loss:0.21344440837103776,Episode:183\n"
     ]
    },
    {
     "name": "stderr",
     "output_type": "stream",
     "text": [
      "WARNING: attempting to unsubscribe from stream but sensor wasn't listening: Actor 7379 (sensor.camera.rgb) \n"
     ]
    },
    {
     "name": "stdout",
     "output_type": "stream",
     "text": [
      "avg loss:0.2197966098199738,Episode:184\n"
     ]
    },
    {
     "name": "stderr",
     "output_type": "stream",
     "text": [
      "WARNING: attempting to unsubscribe from stream but sensor wasn't listening: Actor 7384 (sensor.camera.rgb) \n"
     ]
    },
    {
     "name": "stdout",
     "output_type": "stream",
     "text": [
      "avg loss:0.20614741668485048,Episode:185\n"
     ]
    },
    {
     "name": "stderr",
     "output_type": "stream",
     "text": [
      "WARNING: attempting to unsubscribe from stream but sensor wasn't listening: Actor 7389 (sensor.camera.rgb) \n"
     ]
    },
    {
     "name": "stdout",
     "output_type": "stream",
     "text": [
      "avg loss:0.22012231870575297,Episode:186\n"
     ]
    },
    {
     "name": "stderr",
     "output_type": "stream",
     "text": [
      "WARNING: attempting to unsubscribe from stream but sensor wasn't listening: Actor 7394 (sensor.camera.rgb) \n"
     ]
    },
    {
     "name": "stdout",
     "output_type": "stream",
     "text": [
      "avg loss:0.21713066068695872,Episode:187\n"
     ]
    },
    {
     "name": "stderr",
     "output_type": "stream",
     "text": [
      "WARNING: attempting to unsubscribe from stream but sensor wasn't listening: Actor 7399 (sensor.camera.rgb) \n"
     ]
    },
    {
     "name": "stdout",
     "output_type": "stream",
     "text": [
      "avg loss:0.21151455189074558,Episode:188\n"
     ]
    },
    {
     "name": "stderr",
     "output_type": "stream",
     "text": [
      "WARNING: attempting to unsubscribe from stream but sensor wasn't listening: Actor 7404 (sensor.camera.rgb) \n"
     ]
    },
    {
     "name": "stdout",
     "output_type": "stream",
     "text": [
      "avg loss:0.2060442923746613,Episode:189\n"
     ]
    },
    {
     "name": "stderr",
     "output_type": "stream",
     "text": [
      "WARNING: attempting to unsubscribe from stream but sensor wasn't listening: Actor 7409 (sensor.camera.rgb) \n"
     ]
    },
    {
     "name": "stdout",
     "output_type": "stream",
     "text": [
      "avg loss:0.21745205769842935,Episode:190\n"
     ]
    },
    {
     "name": "stderr",
     "output_type": "stream",
     "text": [
      "WARNING: attempting to unsubscribe from stream but sensor wasn't listening: Actor 7414 (sensor.camera.rgb) \n"
     ]
    },
    {
     "name": "stdout",
     "output_type": "stream",
     "text": [
      "avg loss:0.19903545604503622,Episode:191\n"
     ]
    },
    {
     "name": "stderr",
     "output_type": "stream",
     "text": [
      "WARNING: attempting to unsubscribe from stream but sensor wasn't listening: Actor 7419 (sensor.camera.rgb) \n"
     ]
    },
    {
     "name": "stdout",
     "output_type": "stream",
     "text": [
      "avg loss:0.22090228124867956,Episode:192\n"
     ]
    },
    {
     "name": "stderr",
     "output_type": "stream",
     "text": [
      "WARNING: attempting to unsubscribe from stream but sensor wasn't listening: Actor 7424 (sensor.camera.rgb) \n"
     ]
    },
    {
     "name": "stdout",
     "output_type": "stream",
     "text": [
      "avg loss:0.19832384613167245,Episode:193\n"
     ]
    },
    {
     "name": "stderr",
     "output_type": "stream",
     "text": [
      "WARNING: attempting to unsubscribe from stream but sensor wasn't listening: Actor 7429 (sensor.camera.rgb) \n"
     ]
    },
    {
     "name": "stdout",
     "output_type": "stream",
     "text": [
      "avg loss:0.20672318606872175,Episode:194\n"
     ]
    },
    {
     "name": "stderr",
     "output_type": "stream",
     "text": [
      "WARNING: attempting to unsubscribe from stream but sensor wasn't listening: Actor 7434 (sensor.camera.rgb) \n"
     ]
    },
    {
     "name": "stdout",
     "output_type": "stream",
     "text": [
      "avg loss:0.2093943215893916,Episode:195\n"
     ]
    },
    {
     "name": "stderr",
     "output_type": "stream",
     "text": [
      "WARNING: attempting to unsubscribe from stream but sensor wasn't listening: Actor 7439 (sensor.camera.rgb) \n"
     ]
    },
    {
     "name": "stdout",
     "output_type": "stream",
     "text": [
      "avg loss:0.21958203776877339,Episode:196\n"
     ]
    },
    {
     "name": "stderr",
     "output_type": "stream",
     "text": [
      "WARNING: attempting to unsubscribe from stream but sensor wasn't listening: Actor 7444 (sensor.camera.rgb) \n"
     ]
    },
    {
     "name": "stdout",
     "output_type": "stream",
     "text": [
      "avg loss:0.20746216840830006,Episode:197\n"
     ]
    },
    {
     "name": "stderr",
     "output_type": "stream",
     "text": [
      "WARNING: attempting to unsubscribe from stream but sensor wasn't listening: Actor 7449 (sensor.camera.rgb) \n"
     ]
    },
    {
     "name": "stdout",
     "output_type": "stream",
     "text": [
      "avg loss:0.20631485750706005,Episode:198\n"
     ]
    },
    {
     "name": "stderr",
     "output_type": "stream",
     "text": [
      "WARNING: attempting to unsubscribe from stream but sensor wasn't listening: Actor 7454 (sensor.camera.rgb) \n"
     ]
    },
    {
     "name": "stdout",
     "output_type": "stream",
     "text": [
      "avg loss:0.20713805421033354,Episode:199\n"
     ]
    },
    {
     "name": "stderr",
     "output_type": "stream",
     "text": [
      "WARNING: attempting to unsubscribe from stream but sensor wasn't listening: Actor 7459 (sensor.camera.rgb) \n"
     ]
    },
    {
     "name": "stdout",
     "output_type": "stream",
     "text": [
      "avg loss:0.22274825813959745,Episode:200\n"
     ]
    },
    {
     "name": "stderr",
     "output_type": "stream",
     "text": [
      "WARNING: attempting to unsubscribe from stream but sensor wasn't listening: Actor 7464 (sensor.camera.rgb) \n"
     ]
    },
    {
     "name": "stdout",
     "output_type": "stream",
     "text": [
      "avg loss:0.2149517764037632,Episode:201\n"
     ]
    },
    {
     "name": "stderr",
     "output_type": "stream",
     "text": [
      "WARNING: attempting to unsubscribe from stream but sensor wasn't listening: Actor 7469 (sensor.camera.rgb) \n"
     ]
    },
    {
     "name": "stdout",
     "output_type": "stream",
     "text": [
      "avg loss:0.2146732188509983,Episode:202\n"
     ]
    },
    {
     "name": "stderr",
     "output_type": "stream",
     "text": [
      "WARNING: attempting to unsubscribe from stream but sensor wasn't listening: Actor 7474 (sensor.camera.rgb) \n"
     ]
    },
    {
     "name": "stdout",
     "output_type": "stream",
     "text": [
      "avg loss:0.21408593831461448,Episode:203\n"
     ]
    },
    {
     "name": "stderr",
     "output_type": "stream",
     "text": [
      "WARNING: attempting to unsubscribe from stream but sensor wasn't listening: Actor 7479 (sensor.camera.rgb) \n"
     ]
    },
    {
     "name": "stdout",
     "output_type": "stream",
     "text": [
      "avg loss:0.19665524450470065,Episode:204\n"
     ]
    },
    {
     "name": "stderr",
     "output_type": "stream",
     "text": [
      "WARNING: attempting to unsubscribe from stream but sensor wasn't listening: Actor 7484 (sensor.camera.rgb) \n"
     ]
    },
    {
     "name": "stdout",
     "output_type": "stream",
     "text": [
      "avg loss:0.2111020573964131,Episode:205\n"
     ]
    },
    {
     "name": "stderr",
     "output_type": "stream",
     "text": [
      "WARNING: attempting to unsubscribe from stream but sensor wasn't listening: Actor 7489 (sensor.camera.rgb) \n"
     ]
    },
    {
     "name": "stdout",
     "output_type": "stream",
     "text": [
      "avg loss:0.2013546931964224,Episode:206\n"
     ]
    },
    {
     "name": "stderr",
     "output_type": "stream",
     "text": [
      "WARNING: attempting to unsubscribe from stream but sensor wasn't listening: Actor 7494 (sensor.camera.rgb) \n"
     ]
    },
    {
     "name": "stdout",
     "output_type": "stream",
     "text": [
      "avg loss:0.20759539109448105,Episode:207\n"
     ]
    },
    {
     "name": "stderr",
     "output_type": "stream",
     "text": [
      "WARNING: attempting to unsubscribe from stream but sensor wasn't listening: Actor 7499 (sensor.camera.rgb) \n"
     ]
    },
    {
     "name": "stdout",
     "output_type": "stream",
     "text": [
      "avg loss:0.20899319404191585,Episode:208\n"
     ]
    },
    {
     "name": "stderr",
     "output_type": "stream",
     "text": [
      "WARNING: attempting to unsubscribe from stream but sensor wasn't listening: Actor 7504 (sensor.camera.rgb) \n"
     ]
    },
    {
     "name": "stdout",
     "output_type": "stream",
     "text": [
      "avg loss:0.21089175658998532,Episode:209\n"
     ]
    },
    {
     "name": "stderr",
     "output_type": "stream",
     "text": [
      "WARNING: attempting to unsubscribe from stream but sensor wasn't listening: Actor 7509 (sensor.camera.rgb) \n"
     ]
    },
    {
     "name": "stdout",
     "output_type": "stream",
     "text": [
      "avg loss:0.20889030563831454,Episode:210\n"
     ]
    },
    {
     "name": "stderr",
     "output_type": "stream",
     "text": [
      "WARNING: attempting to unsubscribe from stream but sensor wasn't listening: Actor 7514 (sensor.camera.rgb) \n"
     ]
    },
    {
     "name": "stdout",
     "output_type": "stream",
     "text": [
      "avg loss:0.19897792390549865,Episode:211\n"
     ]
    },
    {
     "name": "stderr",
     "output_type": "stream",
     "text": [
      "WARNING: attempting to unsubscribe from stream but sensor wasn't listening: Actor 7519 (sensor.camera.rgb) \n"
     ]
    },
    {
     "name": "stdout",
     "output_type": "stream",
     "text": [
      "avg loss:0.2091350105413847,Episode:212\n"
     ]
    },
    {
     "name": "stderr",
     "output_type": "stream",
     "text": [
      "WARNING: attempting to unsubscribe from stream but sensor wasn't listening: Actor 7524 (sensor.camera.rgb) \n"
     ]
    },
    {
     "name": "stdout",
     "output_type": "stream",
     "text": [
      "avg loss:0.22701085021691397,Episode:213\n"
     ]
    },
    {
     "name": "stderr",
     "output_type": "stream",
     "text": [
      "WARNING: attempting to unsubscribe from stream but sensor wasn't listening: Actor 7529 (sensor.camera.rgb) \n"
     ]
    },
    {
     "name": "stdout",
     "output_type": "stream",
     "text": [
      "avg loss:0.2143464523673045,Episode:214\n"
     ]
    },
    {
     "name": "stderr",
     "output_type": "stream",
     "text": [
      "WARNING: attempting to unsubscribe from stream but sensor wasn't listening: Actor 7534 (sensor.camera.rgb) \n"
     ]
    },
    {
     "name": "stdout",
     "output_type": "stream",
     "text": [
      "avg loss:0.21759372538393795,Episode:215\n"
     ]
    },
    {
     "name": "stderr",
     "output_type": "stream",
     "text": [
      "WARNING: attempting to unsubscribe from stream but sensor wasn't listening: Actor 7539 (sensor.camera.rgb) \n"
     ]
    },
    {
     "name": "stdout",
     "output_type": "stream",
     "text": [
      "avg loss:0.19941787309482467,Episode:216\n"
     ]
    },
    {
     "name": "stderr",
     "output_type": "stream",
     "text": [
      "WARNING: attempting to unsubscribe from stream but sensor wasn't listening: Actor 7544 (sensor.camera.rgb) \n"
     ]
    },
    {
     "name": "stdout",
     "output_type": "stream",
     "text": [
      "avg loss:0.21287757348315917,Episode:217\n"
     ]
    },
    {
     "name": "stderr",
     "output_type": "stream",
     "text": [
      "WARNING: attempting to unsubscribe from stream but sensor wasn't listening: Actor 7549 (sensor.camera.rgb) \n"
     ]
    },
    {
     "name": "stdout",
     "output_type": "stream",
     "text": [
      "avg loss:0.2169661023551896,Episode:218\n"
     ]
    },
    {
     "name": "stderr",
     "output_type": "stream",
     "text": [
      "WARNING: attempting to unsubscribe from stream but sensor wasn't listening: Actor 7554 (sensor.camera.rgb) \n"
     ]
    },
    {
     "name": "stdout",
     "output_type": "stream",
     "text": [
      "avg loss:0.20110124680584746,Episode:219\n"
     ]
    },
    {
     "name": "stderr",
     "output_type": "stream",
     "text": [
      "WARNING: attempting to unsubscribe from stream but sensor wasn't listening: Actor 7559 (sensor.camera.rgb) \n"
     ]
    },
    {
     "name": "stdout",
     "output_type": "stream",
     "text": [
      "avg loss:0.20836094073188824,Episode:220\n"
     ]
    },
    {
     "name": "stderr",
     "output_type": "stream",
     "text": [
      "WARNING: attempting to unsubscribe from stream but sensor wasn't listening: Actor 7564 (sensor.camera.rgb) \n"
     ]
    },
    {
     "name": "stdout",
     "output_type": "stream",
     "text": [
      "avg loss:0.20935278621632367,Episode:221\n"
     ]
    },
    {
     "name": "stderr",
     "output_type": "stream",
     "text": [
      "WARNING: attempting to unsubscribe from stream but sensor wasn't listening: Actor 7569 (sensor.camera.rgb) \n"
     ]
    },
    {
     "name": "stdout",
     "output_type": "stream",
     "text": [
      "avg loss:0.210731768981364,Episode:222\n"
     ]
    },
    {
     "name": "stderr",
     "output_type": "stream",
     "text": [
      "WARNING: attempting to unsubscribe from stream but sensor wasn't listening: Actor 7574 (sensor.camera.rgb) \n"
     ]
    },
    {
     "name": "stdout",
     "output_type": "stream",
     "text": [
      "avg loss:0.22019597508435093,Episode:223\n"
     ]
    },
    {
     "name": "stderr",
     "output_type": "stream",
     "text": [
      "WARNING: attempting to unsubscribe from stream but sensor wasn't listening: Actor 7579 (sensor.camera.rgb) \n"
     ]
    },
    {
     "name": "stdout",
     "output_type": "stream",
     "text": [
      "avg loss:0.21581938281758276,Episode:224\n"
     ]
    },
    {
     "name": "stderr",
     "output_type": "stream",
     "text": [
      "WARNING: attempting to unsubscribe from stream but sensor wasn't listening: Actor 7584 (sensor.camera.rgb) \n"
     ]
    },
    {
     "name": "stdout",
     "output_type": "stream",
     "text": [
      "avg loss:0.2021972900527762,Episode:225\n"
     ]
    },
    {
     "name": "stderr",
     "output_type": "stream",
     "text": [
      "WARNING: attempting to unsubscribe from stream but sensor wasn't listening: Actor 7589 (sensor.camera.rgb) \n"
     ]
    },
    {
     "name": "stdout",
     "output_type": "stream",
     "text": [
      "avg loss:0.20196320862971248,Episode:226\n"
     ]
    },
    {
     "name": "stderr",
     "output_type": "stream",
     "text": [
      "WARNING: attempting to unsubscribe from stream but sensor wasn't listening: Actor 7594 (sensor.camera.rgb) \n"
     ]
    },
    {
     "name": "stdout",
     "output_type": "stream",
     "text": [
      "avg loss:0.2141948100035784,Episode:227\n"
     ]
    },
    {
     "name": "stderr",
     "output_type": "stream",
     "text": [
      "WARNING: attempting to unsubscribe from stream but sensor wasn't listening: Actor 7599 (sensor.camera.rgb) \n"
     ]
    },
    {
     "name": "stdout",
     "output_type": "stream",
     "text": [
      "avg loss:0.22319098725718767,Episode:228\n"
     ]
    },
    {
     "name": "stderr",
     "output_type": "stream",
     "text": [
      "WARNING: attempting to unsubscribe from stream but sensor wasn't listening: Actor 7604 (sensor.camera.rgb) \n"
     ]
    },
    {
     "name": "stdout",
     "output_type": "stream",
     "text": [
      "avg loss:0.20120841324071073,Episode:229\n"
     ]
    },
    {
     "name": "stderr",
     "output_type": "stream",
     "text": [
      "WARNING: attempting to unsubscribe from stream but sensor wasn't listening: Actor 7609 (sensor.camera.rgb) \n"
     ]
    },
    {
     "name": "stdout",
     "output_type": "stream",
     "text": [
      "avg loss:0.21259269348464632,Episode:230\n"
     ]
    },
    {
     "name": "stderr",
     "output_type": "stream",
     "text": [
      "WARNING: attempting to unsubscribe from stream but sensor wasn't listening: Actor 7614 (sensor.camera.rgb) \n"
     ]
    },
    {
     "name": "stdout",
     "output_type": "stream",
     "text": [
      "avg loss:0.20549955316919308,Episode:231\n"
     ]
    },
    {
     "name": "stderr",
     "output_type": "stream",
     "text": [
      "WARNING: attempting to unsubscribe from stream but sensor wasn't listening: Actor 7619 (sensor.camera.rgb) \n"
     ]
    },
    {
     "name": "stdout",
     "output_type": "stream",
     "text": [
      "avg loss:0.1967403196390243,Episode:232\n"
     ]
    },
    {
     "name": "stderr",
     "output_type": "stream",
     "text": [
      "WARNING: attempting to unsubscribe from stream but sensor wasn't listening: Actor 7624 (sensor.camera.rgb) \n"
     ]
    },
    {
     "name": "stdout",
     "output_type": "stream",
     "text": [
      "avg loss:0.21443342906966964,Episode:233\n"
     ]
    },
    {
     "name": "stderr",
     "output_type": "stream",
     "text": [
      "WARNING: attempting to unsubscribe from stream but sensor wasn't listening: Actor 7629 (sensor.camera.rgb) \n"
     ]
    },
    {
     "name": "stdout",
     "output_type": "stream",
     "text": [
      "avg loss:0.20783626802169458,Episode:234\n"
     ]
    },
    {
     "name": "stderr",
     "output_type": "stream",
     "text": [
      "WARNING: attempting to unsubscribe from stream but sensor wasn't listening: Actor 7634 (sensor.camera.rgb) \n"
     ]
    },
    {
     "name": "stdout",
     "output_type": "stream",
     "text": [
      "avg loss:0.20846378624441644,Episode:235\n"
     ]
    },
    {
     "name": "stderr",
     "output_type": "stream",
     "text": [
      "WARNING: attempting to unsubscribe from stream but sensor wasn't listening: Actor 7639 (sensor.camera.rgb) \n"
     ]
    },
    {
     "name": "stdout",
     "output_type": "stream",
     "text": [
      "avg loss:0.21141283639800196,Episode:236\n"
     ]
    },
    {
     "name": "stderr",
     "output_type": "stream",
     "text": [
      "WARNING: attempting to unsubscribe from stream but sensor wasn't listening: Actor 7644 (sensor.camera.rgb) \n"
     ]
    },
    {
     "name": "stdout",
     "output_type": "stream",
     "text": [
      "avg loss:0.21958337055880042,Episode:237\n"
     ]
    },
    {
     "name": "stderr",
     "output_type": "stream",
     "text": [
      "WARNING: attempting to unsubscribe from stream but sensor wasn't listening: Actor 7649 (sensor.camera.rgb) \n"
     ]
    },
    {
     "name": "stdout",
     "output_type": "stream",
     "text": [
      "avg loss:0.20304328022359538,Episode:238\n"
     ]
    },
    {
     "name": "stderr",
     "output_type": "stream",
     "text": [
      "WARNING: attempting to unsubscribe from stream but sensor wasn't listening: Actor 7654 (sensor.camera.rgb) \n"
     ]
    },
    {
     "name": "stdout",
     "output_type": "stream",
     "text": [
      "avg loss:0.20806492466758844,Episode:239\n"
     ]
    },
    {
     "name": "stderr",
     "output_type": "stream",
     "text": [
      "WARNING: attempting to unsubscribe from stream but sensor wasn't listening: Actor 7659 (sensor.camera.rgb) \n"
     ]
    },
    {
     "name": "stdout",
     "output_type": "stream",
     "text": [
      "avg loss:0.20711769328646043,Episode:240\n"
     ]
    },
    {
     "name": "stderr",
     "output_type": "stream",
     "text": [
      "WARNING: attempting to unsubscribe from stream but sensor wasn't listening: Actor 7664 (sensor.camera.rgb) \n"
     ]
    },
    {
     "name": "stdout",
     "output_type": "stream",
     "text": [
      "avg loss:0.21763845159434517,Episode:241\n"
     ]
    },
    {
     "name": "stderr",
     "output_type": "stream",
     "text": [
      "WARNING: attempting to unsubscribe from stream but sensor wasn't listening: Actor 7669 (sensor.camera.rgb) \n"
     ]
    },
    {
     "name": "stdout",
     "output_type": "stream",
     "text": [
      "avg loss:0.21255805370133474,Episode:242\n"
     ]
    },
    {
     "name": "stderr",
     "output_type": "stream",
     "text": [
      "WARNING: attempting to unsubscribe from stream but sensor wasn't listening: Actor 7674 (sensor.camera.rgb) \n"
     ]
    },
    {
     "name": "stdout",
     "output_type": "stream",
     "text": [
      "avg loss:0.2201549920315042,Episode:243\n"
     ]
    },
    {
     "name": "stderr",
     "output_type": "stream",
     "text": [
      "WARNING: attempting to unsubscribe from stream but sensor wasn't listening: Actor 7679 (sensor.camera.rgb) \n"
     ]
    },
    {
     "name": "stdout",
     "output_type": "stream",
     "text": [
      "avg loss:0.22595620457065324,Episode:244\n"
     ]
    },
    {
     "name": "stderr",
     "output_type": "stream",
     "text": [
      "WARNING: attempting to unsubscribe from stream but sensor wasn't listening: Actor 7684 (sensor.camera.rgb) \n"
     ]
    },
    {
     "name": "stdout",
     "output_type": "stream",
     "text": [
      "avg loss:0.21513237315102463,Episode:245\n"
     ]
    },
    {
     "name": "stderr",
     "output_type": "stream",
     "text": [
      "WARNING: attempting to unsubscribe from stream but sensor wasn't listening: Actor 7689 (sensor.camera.rgb) \n"
     ]
    },
    {
     "name": "stdout",
     "output_type": "stream",
     "text": [
      "avg loss:0.21974287837799814,Episode:246\n"
     ]
    },
    {
     "name": "stderr",
     "output_type": "stream",
     "text": [
      "WARNING: attempting to unsubscribe from stream but sensor wasn't listening: Actor 7694 (sensor.camera.rgb) \n"
     ]
    },
    {
     "name": "stdout",
     "output_type": "stream",
     "text": [
      "avg loss:0.2146227497083949,Episode:247\n"
     ]
    },
    {
     "name": "stderr",
     "output_type": "stream",
     "text": [
      "WARNING: attempting to unsubscribe from stream but sensor wasn't listening: Actor 7699 (sensor.camera.rgb) \n"
     ]
    },
    {
     "name": "stdout",
     "output_type": "stream",
     "text": [
      "avg loss:0.2463255107584023,Episode:248\n"
     ]
    },
    {
     "name": "stderr",
     "output_type": "stream",
     "text": [
      "WARNING: attempting to unsubscribe from stream but sensor wasn't listening: Actor 7704 (sensor.camera.rgb) \n"
     ]
    },
    {
     "name": "stdout",
     "output_type": "stream",
     "text": [
      "avg loss:0.2159318041252998,Episode:249\n"
     ]
    },
    {
     "name": "stderr",
     "output_type": "stream",
     "text": [
      "WARNING: attempting to unsubscribe from stream but sensor wasn't listening: Actor 7709 (sensor.camera.rgb) \n"
     ]
    },
    {
     "name": "stdout",
     "output_type": "stream",
     "text": [
      "avg loss:0.21328937483058358,Episode:250\n"
     ]
    },
    {
     "name": "stderr",
     "output_type": "stream",
     "text": [
      "WARNING: attempting to unsubscribe from stream but sensor wasn't listening: Actor 7714 (sensor.camera.rgb) \n"
     ]
    },
    {
     "name": "stdout",
     "output_type": "stream",
     "text": [
      "avg loss:0.21712759398074805,Episode:251\n"
     ]
    },
    {
     "name": "stderr",
     "output_type": "stream",
     "text": [
      "WARNING: attempting to unsubscribe from stream but sensor wasn't listening: Actor 7719 (sensor.camera.rgb) \n"
     ]
    },
    {
     "name": "stdout",
     "output_type": "stream",
     "text": [
      "avg loss:0.22330435122210368,Episode:252\n"
     ]
    },
    {
     "name": "stderr",
     "output_type": "stream",
     "text": [
      "WARNING: attempting to unsubscribe from stream but sensor wasn't listening: Actor 7724 (sensor.camera.rgb) \n"
     ]
    },
    {
     "name": "stdout",
     "output_type": "stream",
     "text": [
      "avg loss:0.2048315566650794,Episode:253\n"
     ]
    },
    {
     "name": "stderr",
     "output_type": "stream",
     "text": [
      "WARNING: attempting to unsubscribe from stream but sensor wasn't listening: Actor 7729 (sensor.camera.rgb) \n"
     ]
    },
    {
     "name": "stdout",
     "output_type": "stream",
     "text": [
      "avg loss:0.23140581810300775,Episode:254\n"
     ]
    },
    {
     "name": "stderr",
     "output_type": "stream",
     "text": [
      "WARNING: attempting to unsubscribe from stream but sensor wasn't listening: Actor 7734 (sensor.camera.rgb) \n"
     ]
    },
    {
     "name": "stdout",
     "output_type": "stream",
     "text": [
      "avg loss:0.19746938568985625,Episode:255\n"
     ]
    },
    {
     "name": "stderr",
     "output_type": "stream",
     "text": [
      "WARNING: attempting to unsubscribe from stream but sensor wasn't listening: Actor 7739 (sensor.camera.rgb) \n"
     ]
    },
    {
     "name": "stdout",
     "output_type": "stream",
     "text": [
      "avg loss:0.20381606072516648,Episode:256\n"
     ]
    },
    {
     "name": "stderr",
     "output_type": "stream",
     "text": [
      "WARNING: attempting to unsubscribe from stream but sensor wasn't listening: Actor 7744 (sensor.camera.rgb) \n"
     ]
    },
    {
     "name": "stdout",
     "output_type": "stream",
     "text": [
      "avg loss:0.2061225601376162,Episode:257\n"
     ]
    },
    {
     "name": "stderr",
     "output_type": "stream",
     "text": [
      "WARNING: attempting to unsubscribe from stream but sensor wasn't listening: Actor 7749 (sensor.camera.rgb) \n"
     ]
    },
    {
     "name": "stdout",
     "output_type": "stream",
     "text": [
      "avg loss:0.20100506431716314,Episode:258\n"
     ]
    },
    {
     "name": "stderr",
     "output_type": "stream",
     "text": [
      "WARNING: attempting to unsubscribe from stream but sensor wasn't listening: Actor 7754 (sensor.camera.rgb) \n"
     ]
    },
    {
     "name": "stdout",
     "output_type": "stream",
     "text": [
      "avg loss:0.21300423254501322,Episode:259\n"
     ]
    },
    {
     "name": "stderr",
     "output_type": "stream",
     "text": [
      "WARNING: attempting to unsubscribe from stream but sensor wasn't listening: Actor 7759 (sensor.camera.rgb) \n"
     ]
    },
    {
     "name": "stdout",
     "output_type": "stream",
     "text": [
      "avg loss:0.208528356220271,Episode:260\n"
     ]
    },
    {
     "name": "stderr",
     "output_type": "stream",
     "text": [
      "WARNING: attempting to unsubscribe from stream but sensor wasn't listening: Actor 7764 (sensor.camera.rgb) \n"
     ]
    },
    {
     "name": "stdout",
     "output_type": "stream",
     "text": [
      "avg loss:0.20979757495753698,Episode:261\n"
     ]
    },
    {
     "name": "stderr",
     "output_type": "stream",
     "text": [
      "WARNING: attempting to unsubscribe from stream but sensor wasn't listening: Actor 7769 (sensor.camera.rgb) \n"
     ]
    },
    {
     "name": "stdout",
     "output_type": "stream",
     "text": [
      "avg loss:0.19851316928547288,Episode:262\n"
     ]
    },
    {
     "name": "stderr",
     "output_type": "stream",
     "text": [
      "WARNING: attempting to unsubscribe from stream but sensor wasn't listening: Actor 7774 (sensor.camera.rgb) \n"
     ]
    },
    {
     "name": "stdout",
     "output_type": "stream",
     "text": [
      "avg loss:0.2062875546345231,Episode:263\n"
     ]
    },
    {
     "name": "stderr",
     "output_type": "stream",
     "text": [
      "WARNING: attempting to unsubscribe from stream but sensor wasn't listening: Actor 7779 (sensor.camera.rgb) \n"
     ]
    },
    {
     "name": "stdout",
     "output_type": "stream",
     "text": [
      "avg loss:0.19105759063558403,Episode:264\n"
     ]
    },
    {
     "name": "stderr",
     "output_type": "stream",
     "text": [
      "WARNING: attempting to unsubscribe from stream but sensor wasn't listening: Actor 7784 (sensor.camera.rgb) \n"
     ]
    },
    {
     "name": "stdout",
     "output_type": "stream",
     "text": [
      "avg loss:0.20576939163652277,Episode:265\n"
     ]
    },
    {
     "name": "stderr",
     "output_type": "stream",
     "text": [
      "WARNING: attempting to unsubscribe from stream but sensor wasn't listening: Actor 7789 (sensor.camera.rgb) \n"
     ]
    },
    {
     "name": "stdout",
     "output_type": "stream",
     "text": [
      "avg loss:0.21281474114296897,Episode:266\n"
     ]
    },
    {
     "name": "stderr",
     "output_type": "stream",
     "text": [
      "WARNING: attempting to unsubscribe from stream but sensor wasn't listening: Actor 7794 (sensor.camera.rgb) \n"
     ]
    },
    {
     "name": "stdout",
     "output_type": "stream",
     "text": [
      "avg loss:0.1996226791768923,Episode:267\n"
     ]
    },
    {
     "name": "stderr",
     "output_type": "stream",
     "text": [
      "WARNING: attempting to unsubscribe from stream but sensor wasn't listening: Actor 7799 (sensor.camera.rgb) \n"
     ]
    },
    {
     "name": "stdout",
     "output_type": "stream",
     "text": [
      "avg loss:0.20426664958274304,Episode:268\n"
     ]
    },
    {
     "name": "stderr",
     "output_type": "stream",
     "text": [
      "WARNING: attempting to unsubscribe from stream but sensor wasn't listening: Actor 7804 (sensor.camera.rgb) \n"
     ]
    },
    {
     "name": "stdout",
     "output_type": "stream",
     "text": [
      "avg loss:0.19450750332512906,Episode:269\n"
     ]
    },
    {
     "name": "stderr",
     "output_type": "stream",
     "text": [
      "WARNING: attempting to unsubscribe from stream but sensor wasn't listening: Actor 7809 (sensor.camera.rgb) \n"
     ]
    },
    {
     "name": "stdout",
     "output_type": "stream",
     "text": [
      "avg loss:0.19881125525971238,Episode:270\n"
     ]
    },
    {
     "name": "stderr",
     "output_type": "stream",
     "text": [
      "WARNING: attempting to unsubscribe from stream but sensor wasn't listening: Actor 7814 (sensor.camera.rgb) \n"
     ]
    },
    {
     "name": "stdout",
     "output_type": "stream",
     "text": [
      "avg loss:0.19858206009609713,Episode:271\n"
     ]
    },
    {
     "name": "stderr",
     "output_type": "stream",
     "text": [
      "WARNING: attempting to unsubscribe from stream but sensor wasn't listening: Actor 7819 (sensor.camera.rgb) \n"
     ]
    },
    {
     "name": "stdout",
     "output_type": "stream",
     "text": [
      "avg loss:0.20207225615110969,Episode:272\n"
     ]
    },
    {
     "name": "stderr",
     "output_type": "stream",
     "text": [
      "WARNING: attempting to unsubscribe from stream but sensor wasn't listening: Actor 7824 (sensor.camera.rgb) \n"
     ]
    },
    {
     "name": "stdout",
     "output_type": "stream",
     "text": [
      "avg loss:0.20359236720636353,Episode:273\n"
     ]
    },
    {
     "name": "stderr",
     "output_type": "stream",
     "text": [
      "WARNING: attempting to unsubscribe from stream but sensor wasn't listening: Actor 7829 (sensor.camera.rgb) \n"
     ]
    },
    {
     "name": "stdout",
     "output_type": "stream",
     "text": [
      "avg loss:0.1974380338743804,Episode:274\n"
     ]
    },
    {
     "name": "stderr",
     "output_type": "stream",
     "text": [
      "WARNING: attempting to unsubscribe from stream but sensor wasn't listening: Actor 7834 (sensor.camera.rgb) \n"
     ]
    },
    {
     "name": "stdout",
     "output_type": "stream",
     "text": [
      "avg loss:0.2099113477670983,Episode:275\n"
     ]
    },
    {
     "name": "stderr",
     "output_type": "stream",
     "text": [
      "WARNING: attempting to unsubscribe from stream but sensor wasn't listening: Actor 7839 (sensor.camera.rgb) \n"
     ]
    },
    {
     "name": "stdout",
     "output_type": "stream",
     "text": [
      "avg loss:0.19502178201242837,Episode:276\n"
     ]
    },
    {
     "name": "stderr",
     "output_type": "stream",
     "text": [
      "WARNING: attempting to unsubscribe from stream but sensor wasn't listening: Actor 7844 (sensor.camera.rgb) \n"
     ]
    },
    {
     "name": "stdout",
     "output_type": "stream",
     "text": [
      "avg loss:0.19474573427405495,Episode:277\n"
     ]
    },
    {
     "name": "stderr",
     "output_type": "stream",
     "text": [
      "WARNING: attempting to unsubscribe from stream but sensor wasn't listening: Actor 7849 (sensor.camera.rgb) \n"
     ]
    },
    {
     "name": "stdout",
     "output_type": "stream",
     "text": [
      "avg loss:0.20106020196365904,Episode:278\n"
     ]
    },
    {
     "name": "stderr",
     "output_type": "stream",
     "text": [
      "WARNING: attempting to unsubscribe from stream but sensor wasn't listening: Actor 7854 (sensor.camera.rgb) \n"
     ]
    },
    {
     "name": "stdout",
     "output_type": "stream",
     "text": [
      "avg loss:0.19785490182321958,Episode:279\n"
     ]
    },
    {
     "name": "stderr",
     "output_type": "stream",
     "text": [
      "WARNING: attempting to unsubscribe from stream but sensor wasn't listening: Actor 7859 (sensor.camera.rgb) \n"
     ]
    },
    {
     "name": "stdout",
     "output_type": "stream",
     "text": [
      "avg loss:0.19808618733783992,Episode:280\n"
     ]
    },
    {
     "name": "stderr",
     "output_type": "stream",
     "text": [
      "WARNING: attempting to unsubscribe from stream but sensor wasn't listening: Actor 7864 (sensor.camera.rgb) \n"
     ]
    },
    {
     "name": "stdout",
     "output_type": "stream",
     "text": [
      "avg loss:0.20431292229966838,Episode:281\n"
     ]
    },
    {
     "name": "stderr",
     "output_type": "stream",
     "text": [
      "WARNING: attempting to unsubscribe from stream but sensor wasn't listening: Actor 7869 (sensor.camera.rgb) \n"
     ]
    },
    {
     "name": "stdout",
     "output_type": "stream",
     "text": [
      "avg loss:0.20379304207503462,Episode:282\n"
     ]
    },
    {
     "name": "stderr",
     "output_type": "stream",
     "text": [
      "WARNING: attempting to unsubscribe from stream but sensor wasn't listening: Actor 7874 (sensor.camera.rgb) \n"
     ]
    },
    {
     "name": "stdout",
     "output_type": "stream",
     "text": [
      "avg loss:0.19379938992006318,Episode:283\n"
     ]
    },
    {
     "name": "stderr",
     "output_type": "stream",
     "text": [
      "WARNING: attempting to unsubscribe from stream but sensor wasn't listening: Actor 7879 (sensor.camera.rgb) \n"
     ]
    },
    {
     "name": "stdout",
     "output_type": "stream",
     "text": [
      "avg loss:0.203474911114169,Episode:284\n"
     ]
    },
    {
     "name": "stderr",
     "output_type": "stream",
     "text": [
      "WARNING: attempting to unsubscribe from stream but sensor wasn't listening: Actor 7884 (sensor.camera.rgb) \n"
     ]
    },
    {
     "name": "stdout",
     "output_type": "stream",
     "text": [
      "avg loss:0.198579425411012,Episode:285\n"
     ]
    },
    {
     "name": "stderr",
     "output_type": "stream",
     "text": [
      "WARNING: attempting to unsubscribe from stream but sensor wasn't listening: Actor 7889 (sensor.camera.rgb) \n"
     ]
    },
    {
     "name": "stdout",
     "output_type": "stream",
     "text": [
      "avg loss:0.20438274595335565,Episode:286\n"
     ]
    },
    {
     "name": "stderr",
     "output_type": "stream",
     "text": [
      "WARNING: attempting to unsubscribe from stream but sensor wasn't listening: Actor 7894 (sensor.camera.rgb) \n"
     ]
    },
    {
     "name": "stdout",
     "output_type": "stream",
     "text": [
      "avg loss:0.20779695777317966,Episode:287\n"
     ]
    },
    {
     "name": "stderr",
     "output_type": "stream",
     "text": [
      "WARNING: attempting to unsubscribe from stream but sensor wasn't listening: Actor 7899 (sensor.camera.rgb) \n"
     ]
    },
    {
     "name": "stdout",
     "output_type": "stream",
     "text": [
      "avg loss:0.20367536654678725,Episode:288\n"
     ]
    },
    {
     "name": "stderr",
     "output_type": "stream",
     "text": [
      "WARNING: attempting to unsubscribe from stream but sensor wasn't listening: Actor 7904 (sensor.camera.rgb) \n"
     ]
    },
    {
     "name": "stdout",
     "output_type": "stream",
     "text": [
      "avg loss:0.20054874146248794,Episode:289\n"
     ]
    },
    {
     "name": "stderr",
     "output_type": "stream",
     "text": [
      "WARNING: attempting to unsubscribe from stream but sensor wasn't listening: Actor 7909 (sensor.camera.rgb) \n"
     ]
    },
    {
     "name": "stdout",
     "output_type": "stream",
     "text": [
      "avg loss:0.19547165817921816,Episode:290\n"
     ]
    },
    {
     "name": "stderr",
     "output_type": "stream",
     "text": [
      "WARNING: attempting to unsubscribe from stream but sensor wasn't listening: Actor 7914 (sensor.camera.rgb) \n"
     ]
    },
    {
     "name": "stdout",
     "output_type": "stream",
     "text": [
      "avg loss:0.21301124304584151,Episode:291\n"
     ]
    },
    {
     "name": "stderr",
     "output_type": "stream",
     "text": [
      "WARNING: attempting to unsubscribe from stream but sensor wasn't listening: Actor 7919 (sensor.camera.rgb) \n"
     ]
    },
    {
     "name": "stdout",
     "output_type": "stream",
     "text": [
      "avg loss:0.19577716830170253,Episode:292\n"
     ]
    },
    {
     "name": "stderr",
     "output_type": "stream",
     "text": [
      "WARNING: attempting to unsubscribe from stream but sensor wasn't listening: Actor 7924 (sensor.camera.rgb) \n"
     ]
    },
    {
     "name": "stdout",
     "output_type": "stream",
     "text": [
      "avg loss:0.20599197311908282,Episode:293\n"
     ]
    },
    {
     "name": "stderr",
     "output_type": "stream",
     "text": [
      "WARNING: attempting to unsubscribe from stream but sensor wasn't listening: Actor 7929 (sensor.camera.rgb) \n"
     ]
    },
    {
     "name": "stdout",
     "output_type": "stream",
     "text": [
      "avg loss:0.1980260007638439,Episode:294\n"
     ]
    },
    {
     "name": "stderr",
     "output_type": "stream",
     "text": [
      "WARNING: attempting to unsubscribe from stream but sensor wasn't listening: Actor 7934 (sensor.camera.rgb) \n"
     ]
    },
    {
     "name": "stdout",
     "output_type": "stream",
     "text": [
      "avg loss:0.19443726122025023,Episode:295\n"
     ]
    },
    {
     "name": "stderr",
     "output_type": "stream",
     "text": [
      "WARNING: attempting to unsubscribe from stream but sensor wasn't listening: Actor 7939 (sensor.camera.rgb) \n"
     ]
    },
    {
     "name": "stdout",
     "output_type": "stream",
     "text": [
      "avg loss:0.1913212597625647,Episode:296\n"
     ]
    },
    {
     "name": "stderr",
     "output_type": "stream",
     "text": [
      "WARNING: attempting to unsubscribe from stream but sensor wasn't listening: Actor 7944 (sensor.camera.rgb) \n"
     ]
    },
    {
     "name": "stdout",
     "output_type": "stream",
     "text": [
      "avg loss:0.1991789254495108,Episode:297\n"
     ]
    },
    {
     "name": "stderr",
     "output_type": "stream",
     "text": [
      "WARNING: attempting to unsubscribe from stream but sensor wasn't listening: Actor 7949 (sensor.camera.rgb) \n"
     ]
    },
    {
     "name": "stdout",
     "output_type": "stream",
     "text": [
      "avg loss:0.2065449080200723,Episode:298\n"
     ]
    },
    {
     "name": "stderr",
     "output_type": "stream",
     "text": [
      "WARNING: attempting to unsubscribe from stream but sensor wasn't listening: Actor 7954 (sensor.camera.rgb) \n"
     ]
    },
    {
     "name": "stdout",
     "output_type": "stream",
     "text": [
      "avg loss:0.2160513439574297,Episode:299\n"
     ]
    },
    {
     "name": "stderr",
     "output_type": "stream",
     "text": [
      "WARNING: attempting to unsubscribe from stream but sensor wasn't listening: Actor 7959 (sensor.camera.rgb) \n"
     ]
    },
    {
     "name": "stdout",
     "output_type": "stream",
     "text": [
      "avg loss:0.19598760674038462,Episode:300\n"
     ]
    },
    {
     "name": "stderr",
     "output_type": "stream",
     "text": [
      "WARNING: attempting to unsubscribe from stream but sensor wasn't listening: Actor 7964 (sensor.camera.rgb) \n"
     ]
    },
    {
     "name": "stdout",
     "output_type": "stream",
     "text": [
      "avg loss:0.22357494828130756,Episode:301\n"
     ]
    },
    {
     "name": "stderr",
     "output_type": "stream",
     "text": [
      "WARNING: attempting to unsubscribe from stream but sensor wasn't listening: Actor 7969 (sensor.camera.rgb) \n"
     ]
    },
    {
     "name": "stdout",
     "output_type": "stream",
     "text": [
      "avg loss:0.1976555004084783,Episode:302\n"
     ]
    },
    {
     "name": "stderr",
     "output_type": "stream",
     "text": [
      "WARNING: attempting to unsubscribe from stream but sensor wasn't listening: Actor 7974 (sensor.camera.rgb) \n"
     ]
    },
    {
     "name": "stdout",
     "output_type": "stream",
     "text": [
      "avg loss:0.2007262804183424,Episode:303\n"
     ]
    },
    {
     "name": "stderr",
     "output_type": "stream",
     "text": [
      "WARNING: attempting to unsubscribe from stream but sensor wasn't listening: Actor 7979 (sensor.camera.rgb) \n"
     ]
    },
    {
     "name": "stdout",
     "output_type": "stream",
     "text": [
      "avg loss:0.20644401181951497,Episode:304\n"
     ]
    },
    {
     "name": "stderr",
     "output_type": "stream",
     "text": [
      "WARNING: attempting to unsubscribe from stream but sensor wasn't listening: Actor 7984 (sensor.camera.rgb) \n"
     ]
    },
    {
     "name": "stdout",
     "output_type": "stream",
     "text": [
      "avg loss:0.20937770160641045,Episode:305\n"
     ]
    },
    {
     "name": "stderr",
     "output_type": "stream",
     "text": [
      "WARNING: attempting to unsubscribe from stream but sensor wasn't listening: Actor 7989 (sensor.camera.rgb) \n"
     ]
    },
    {
     "name": "stdout",
     "output_type": "stream",
     "text": [
      "avg loss:0.20484540446070046,Episode:306\n"
     ]
    },
    {
     "name": "stderr",
     "output_type": "stream",
     "text": [
      "WARNING: attempting to unsubscribe from stream but sensor wasn't listening: Actor 7994 (sensor.camera.rgb) \n"
     ]
    },
    {
     "name": "stdout",
     "output_type": "stream",
     "text": [
      "avg loss:0.20701429402194285,Episode:307\n"
     ]
    },
    {
     "name": "stderr",
     "output_type": "stream",
     "text": [
      "WARNING: attempting to unsubscribe from stream but sensor wasn't listening: Actor 7999 (sensor.camera.rgb) \n"
     ]
    },
    {
     "name": "stdout",
     "output_type": "stream",
     "text": [
      "avg loss:0.19411622089957956,Episode:308\n"
     ]
    },
    {
     "name": "stderr",
     "output_type": "stream",
     "text": [
      "WARNING: attempting to unsubscribe from stream but sensor wasn't listening: Actor 8004 (sensor.camera.rgb) \n"
     ]
    },
    {
     "name": "stdout",
     "output_type": "stream",
     "text": [
      "avg loss:0.2076720225979993,Episode:309\n"
     ]
    },
    {
     "name": "stderr",
     "output_type": "stream",
     "text": [
      "WARNING: attempting to unsubscribe from stream but sensor wasn't listening: Actor 8009 (sensor.camera.rgb) \n"
     ]
    },
    {
     "name": "stdout",
     "output_type": "stream",
     "text": [
      "avg loss:0.20038992567796257,Episode:310\n"
     ]
    },
    {
     "name": "stderr",
     "output_type": "stream",
     "text": [
      "WARNING: attempting to unsubscribe from stream but sensor wasn't listening: Actor 8014 (sensor.camera.rgb) \n"
     ]
    },
    {
     "name": "stdout",
     "output_type": "stream",
     "text": [
      "avg loss:0.2062237313184163,Episode:311\n"
     ]
    },
    {
     "name": "stderr",
     "output_type": "stream",
     "text": [
      "WARNING: attempting to unsubscribe from stream but sensor wasn't listening: Actor 8019 (sensor.camera.rgb) \n"
     ]
    },
    {
     "name": "stdout",
     "output_type": "stream",
     "text": [
      "avg loss:0.205933865805029,Episode:312\n"
     ]
    },
    {
     "name": "stderr",
     "output_type": "stream",
     "text": [
      "WARNING: attempting to unsubscribe from stream but sensor wasn't listening: Actor 8024 (sensor.camera.rgb) \n"
     ]
    },
    {
     "name": "stdout",
     "output_type": "stream",
     "text": [
      "avg loss:0.2059984250904965,Episode:313\n"
     ]
    },
    {
     "name": "stderr",
     "output_type": "stream",
     "text": [
      "WARNING: attempting to unsubscribe from stream but sensor wasn't listening: Actor 8029 (sensor.camera.rgb) \n"
     ]
    },
    {
     "name": "stdout",
     "output_type": "stream",
     "text": [
      "avg loss:0.2050003716499341,Episode:314\n"
     ]
    },
    {
     "name": "stderr",
     "output_type": "stream",
     "text": [
      "WARNING: attempting to unsubscribe from stream but sensor wasn't listening: Actor 8034 (sensor.camera.rgb) \n"
     ]
    },
    {
     "name": "stdout",
     "output_type": "stream",
     "text": [
      "avg loss:0.6308194368799319,Episode:315\n"
     ]
    },
    {
     "name": "stderr",
     "output_type": "stream",
     "text": [
      "WARNING: attempting to unsubscribe from stream but sensor wasn't listening: Actor 8039 (sensor.camera.rgb) \n"
     ]
    },
    {
     "name": "stdout",
     "output_type": "stream",
     "text": [
      "avg loss:0.4670324283480668,Episode:316\n"
     ]
    },
    {
     "name": "stderr",
     "output_type": "stream",
     "text": [
      "WARNING: attempting to unsubscribe from stream but sensor wasn't listening: Actor 8044 (sensor.camera.rgb) \n"
     ]
    },
    {
     "name": "stdout",
     "output_type": "stream",
     "text": [
      "avg loss:0.4191630437281687,Episode:317\n"
     ]
    },
    {
     "name": "stderr",
     "output_type": "stream",
     "text": [
      "WARNING: attempting to unsubscribe from stream but sensor wasn't listening: Actor 8049 (sensor.camera.rgb) \n"
     ]
    },
    {
     "name": "stdout",
     "output_type": "stream",
     "text": [
      "avg loss:0.39935948825163436,Episode:318\n"
     ]
    },
    {
     "name": "stderr",
     "output_type": "stream",
     "text": [
      "WARNING: attempting to unsubscribe from stream but sensor wasn't listening: Actor 8054 (sensor.camera.rgb) \n"
     ]
    },
    {
     "name": "stdout",
     "output_type": "stream",
     "text": [
      "avg loss:0.37046423481545937,Episode:319\n"
     ]
    },
    {
     "name": "stderr",
     "output_type": "stream",
     "text": [
      "WARNING: attempting to unsubscribe from stream but sensor wasn't listening: Actor 8059 (sensor.camera.rgb) \n"
     ]
    },
    {
     "name": "stdout",
     "output_type": "stream",
     "text": [
      "avg loss:0.34332364535606685,Episode:320\n"
     ]
    },
    {
     "name": "stderr",
     "output_type": "stream",
     "text": [
      "WARNING: attempting to unsubscribe from stream but sensor wasn't listening: Actor 8064 (sensor.camera.rgb) \n"
     ]
    },
    {
     "name": "stdout",
     "output_type": "stream",
     "text": [
      "avg loss:0.3279502556238529,Episode:321\n"
     ]
    },
    {
     "name": "stderr",
     "output_type": "stream",
     "text": [
      "WARNING: attempting to unsubscribe from stream but sensor wasn't listening: Actor 8069 (sensor.camera.rgb) \n"
     ]
    },
    {
     "name": "stdout",
     "output_type": "stream",
     "text": [
      "avg loss:0.32369360951329523,Episode:322\n"
     ]
    },
    {
     "name": "stderr",
     "output_type": "stream",
     "text": [
      "WARNING: attempting to unsubscribe from stream but sensor wasn't listening: Actor 8074 (sensor.camera.rgb) \n"
     ]
    },
    {
     "name": "stdout",
     "output_type": "stream",
     "text": [
      "avg loss:0.30936825287123354,Episode:323\n"
     ]
    },
    {
     "name": "stderr",
     "output_type": "stream",
     "text": [
      "WARNING: attempting to unsubscribe from stream but sensor wasn't listening: Actor 8079 (sensor.camera.rgb) \n"
     ]
    },
    {
     "name": "stdout",
     "output_type": "stream",
     "text": [
      "avg loss:0.31010912405159924,Episode:324\n"
     ]
    },
    {
     "name": "stderr",
     "output_type": "stream",
     "text": [
      "WARNING: attempting to unsubscribe from stream but sensor wasn't listening: Actor 8084 (sensor.camera.rgb) \n"
     ]
    },
    {
     "name": "stdout",
     "output_type": "stream",
     "text": [
      "avg loss:0.2983036098458835,Episode:325\n"
     ]
    },
    {
     "name": "stderr",
     "output_type": "stream",
     "text": [
      "WARNING: attempting to unsubscribe from stream but sensor wasn't listening: Actor 8089 (sensor.camera.rgb) \n"
     ]
    },
    {
     "name": "stdout",
     "output_type": "stream",
     "text": [
      "avg loss:0.3186809941855602,Episode:326\n"
     ]
    },
    {
     "name": "stderr",
     "output_type": "stream",
     "text": [
      "WARNING: attempting to unsubscribe from stream but sensor wasn't listening: Actor 8094 (sensor.camera.rgb) \n"
     ]
    },
    {
     "name": "stdout",
     "output_type": "stream",
     "text": [
      "avg loss:0.3030873501788933,Episode:327\n"
     ]
    },
    {
     "name": "stderr",
     "output_type": "stream",
     "text": [
      "WARNING: attempting to unsubscribe from stream but sensor wasn't listening: Actor 8099 (sensor.camera.rgb) \n"
     ]
    },
    {
     "name": "stdout",
     "output_type": "stream",
     "text": [
      "avg loss:0.28445174430408726,Episode:328\n"
     ]
    },
    {
     "name": "stderr",
     "output_type": "stream",
     "text": [
      "WARNING: attempting to unsubscribe from stream but sensor wasn't listening: Actor 8104 (sensor.camera.rgb) \n"
     ]
    },
    {
     "name": "stdout",
     "output_type": "stream",
     "text": [
      "avg loss:0.2826252861426234,Episode:329\n"
     ]
    },
    {
     "name": "stderr",
     "output_type": "stream",
     "text": [
      "WARNING: attempting to unsubscribe from stream but sensor wasn't listening: Actor 8109 (sensor.camera.rgb) \n"
     ]
    },
    {
     "name": "stdout",
     "output_type": "stream",
     "text": [
      "avg loss:0.278482667922184,Episode:330\n"
     ]
    },
    {
     "name": "stderr",
     "output_type": "stream",
     "text": [
      "WARNING: attempting to unsubscribe from stream but sensor wasn't listening: Actor 8114 (sensor.camera.rgb) \n"
     ]
    },
    {
     "name": "stdout",
     "output_type": "stream",
     "text": [
      "avg loss:0.27659860877441,Episode:331\n"
     ]
    },
    {
     "name": "stderr",
     "output_type": "stream",
     "text": [
      "WARNING: attempting to unsubscribe from stream but sensor wasn't listening: Actor 8119 (sensor.camera.rgb) \n"
     ]
    },
    {
     "name": "stdout",
     "output_type": "stream",
     "text": [
      "avg loss:0.29392006148698296,Episode:332\n"
     ]
    },
    {
     "name": "stderr",
     "output_type": "stream",
     "text": [
      "WARNING: attempting to unsubscribe from stream but sensor wasn't listening: Actor 8124 (sensor.camera.rgb) \n"
     ]
    },
    {
     "name": "stdout",
     "output_type": "stream",
     "text": [
      "avg loss:0.2795135699438763,Episode:333\n"
     ]
    },
    {
     "name": "stderr",
     "output_type": "stream",
     "text": [
      "WARNING: attempting to unsubscribe from stream but sensor wasn't listening: Actor 8129 (sensor.camera.rgb) \n"
     ]
    },
    {
     "name": "stdout",
     "output_type": "stream",
     "text": [
      "avg loss:0.28621487628180475,Episode:334\n"
     ]
    },
    {
     "name": "stderr",
     "output_type": "stream",
     "text": [
      "WARNING: attempting to unsubscribe from stream but sensor wasn't listening: Actor 8134 (sensor.camera.rgb) \n"
     ]
    },
    {
     "name": "stdout",
     "output_type": "stream",
     "text": [
      "avg loss:0.27737014285876754,Episode:335\n"
     ]
    },
    {
     "name": "stderr",
     "output_type": "stream",
     "text": [
      "WARNING: attempting to unsubscribe from stream but sensor wasn't listening: Actor 8139 (sensor.camera.rgb) \n"
     ]
    },
    {
     "name": "stdout",
     "output_type": "stream",
     "text": [
      "avg loss:0.26733425196461813,Episode:336\n"
     ]
    },
    {
     "name": "stderr",
     "output_type": "stream",
     "text": [
      "WARNING: attempting to unsubscribe from stream but sensor wasn't listening: Actor 8144 (sensor.camera.rgb) \n"
     ]
    },
    {
     "name": "stdout",
     "output_type": "stream",
     "text": [
      "avg loss:0.2677748307962934,Episode:337\n"
     ]
    },
    {
     "name": "stderr",
     "output_type": "stream",
     "text": [
      "WARNING: attempting to unsubscribe from stream but sensor wasn't listening: Actor 8149 (sensor.camera.rgb) \n"
     ]
    },
    {
     "name": "stdout",
     "output_type": "stream",
     "text": [
      "avg loss:0.2666795339362041,Episode:338\n"
     ]
    },
    {
     "name": "stderr",
     "output_type": "stream",
     "text": [
      "WARNING: attempting to unsubscribe from stream but sensor wasn't listening: Actor 8154 (sensor.camera.rgb) \n"
     ]
    },
    {
     "name": "stdout",
     "output_type": "stream",
     "text": [
      "avg loss:0.2628734134906229,Episode:339\n"
     ]
    },
    {
     "name": "stderr",
     "output_type": "stream",
     "text": [
      "WARNING: attempting to unsubscribe from stream but sensor wasn't listening: Actor 8159 (sensor.camera.rgb) \n"
     ]
    },
    {
     "name": "stdout",
     "output_type": "stream",
     "text": [
      "avg loss:0.272202848316636,Episode:340\n"
     ]
    },
    {
     "name": "stderr",
     "output_type": "stream",
     "text": [
      "WARNING: attempting to unsubscribe from stream but sensor wasn't listening: Actor 8164 (sensor.camera.rgb) \n"
     ]
    },
    {
     "name": "stdout",
     "output_type": "stream",
     "text": [
      "avg loss:0.24324303464718913,Episode:341\n"
     ]
    },
    {
     "name": "stderr",
     "output_type": "stream",
     "text": [
      "WARNING: attempting to unsubscribe from stream but sensor wasn't listening: Actor 8169 (sensor.camera.rgb) \n"
     ]
    },
    {
     "name": "stdout",
     "output_type": "stream",
     "text": [
      "avg loss:0.26308242153537853,Episode:342\n"
     ]
    },
    {
     "name": "stderr",
     "output_type": "stream",
     "text": [
      "WARNING: attempting to unsubscribe from stream but sensor wasn't listening: Actor 8174 (sensor.camera.rgb) \n"
     ]
    },
    {
     "name": "stdout",
     "output_type": "stream",
     "text": [
      "avg loss:0.2565262146974187,Episode:343\n"
     ]
    },
    {
     "name": "stderr",
     "output_type": "stream",
     "text": [
      "WARNING: attempting to unsubscribe from stream but sensor wasn't listening: Actor 8179 (sensor.camera.rgb) \n"
     ]
    },
    {
     "name": "stdout",
     "output_type": "stream",
     "text": [
      "avg loss:0.2504734433208155,Episode:344\n"
     ]
    },
    {
     "name": "stderr",
     "output_type": "stream",
     "text": [
      "WARNING: attempting to unsubscribe from stream but sensor wasn't listening: Actor 8184 (sensor.camera.rgb) \n"
     ]
    },
    {
     "name": "stdout",
     "output_type": "stream",
     "text": [
      "avg loss:0.2522698728196311,Episode:345\n"
     ]
    },
    {
     "name": "stderr",
     "output_type": "stream",
     "text": [
      "WARNING: attempting to unsubscribe from stream but sensor wasn't listening: Actor 8189 (sensor.camera.rgb) \n"
     ]
    },
    {
     "name": "stdout",
     "output_type": "stream",
     "text": [
      "avg loss:0.25095679045219754,Episode:346\n"
     ]
    },
    {
     "name": "stderr",
     "output_type": "stream",
     "text": [
      "WARNING: attempting to unsubscribe from stream but sensor wasn't listening: Actor 8194 (sensor.camera.rgb) \n"
     ]
    },
    {
     "name": "stdout",
     "output_type": "stream",
     "text": [
      "avg loss:0.25669859680478363,Episode:347\n"
     ]
    },
    {
     "name": "stderr",
     "output_type": "stream",
     "text": [
      "WARNING: attempting to unsubscribe from stream but sensor wasn't listening: Actor 8199 (sensor.camera.rgb) \n"
     ]
    },
    {
     "name": "stdout",
     "output_type": "stream",
     "text": [
      "avg loss:0.25761097366727487,Episode:348\n"
     ]
    },
    {
     "name": "stderr",
     "output_type": "stream",
     "text": [
      "WARNING: attempting to unsubscribe from stream but sensor wasn't listening: Actor 8204 (sensor.camera.rgb) \n"
     ]
    },
    {
     "name": "stdout",
     "output_type": "stream",
     "text": [
      "avg loss:0.2490445393983311,Episode:349\n"
     ]
    },
    {
     "name": "stderr",
     "output_type": "stream",
     "text": [
      "WARNING: attempting to unsubscribe from stream but sensor wasn't listening: Actor 8209 (sensor.camera.rgb) \n"
     ]
    },
    {
     "name": "stdout",
     "output_type": "stream",
     "text": [
      "avg loss:0.26574554124384514,Episode:350\n"
     ]
    },
    {
     "name": "stderr",
     "output_type": "stream",
     "text": [
      "WARNING: attempting to unsubscribe from stream but sensor wasn't listening: Actor 8214 (sensor.camera.rgb) \n"
     ]
    },
    {
     "name": "stdout",
     "output_type": "stream",
     "text": [
      "avg loss:0.2568337951356447,Episode:351\n"
     ]
    },
    {
     "name": "stderr",
     "output_type": "stream",
     "text": [
      "WARNING: attempting to unsubscribe from stream but sensor wasn't listening: Actor 8219 (sensor.camera.rgb) \n"
     ]
    },
    {
     "name": "stdout",
     "output_type": "stream",
     "text": [
      "avg loss:0.2615051191316025,Episode:352\n"
     ]
    },
    {
     "name": "stderr",
     "output_type": "stream",
     "text": [
      "WARNING: attempting to unsubscribe from stream but sensor wasn't listening: Actor 8224 (sensor.camera.rgb) \n"
     ]
    },
    {
     "ename": "RuntimeError",
     "evalue": "rpc::rpc_error during call in function spawn_actor",
     "output_type": "error",
     "traceback": [
      "\u001b[0;31m---------------------------------------------------------------------------\u001b[0m",
      "\u001b[0;31mRuntimeError\u001b[0m                              Traceback (most recent call last)",
      "\u001b[0;32m/tmp/ipykernel_13922/1973684358.py\u001b[0m in \u001b[0;36m<module>\u001b[0;34m\u001b[0m\n\u001b[1;32m     13\u001b[0m     \u001b[0;31m# Initialize the environment and state\u001b[0m\u001b[0;34m\u001b[0m\u001b[0;34m\u001b[0m\u001b[0;34m\u001b[0m\u001b[0m\n\u001b[1;32m     14\u001b[0m \u001b[0;34m\u001b[0m\u001b[0m\n\u001b[0;32m---> 15\u001b[0;31m     \u001b[0mobs\u001b[0m \u001b[0;34m=\u001b[0m \u001b[0menv\u001b[0m\u001b[0;34m.\u001b[0m\u001b[0mreset\u001b[0m\u001b[0;34m(\u001b[0m\u001b[0;34m)\u001b[0m\u001b[0;34m\u001b[0m\u001b[0;34m\u001b[0m\u001b[0m\n\u001b[0m\u001b[1;32m     16\u001b[0m     \u001b[0;31m#ego_dir retirves the distance and angle from vehicle to nearest waypoint\u001b[0m\u001b[0;34m\u001b[0m\u001b[0;34m\u001b[0m\u001b[0;34m\u001b[0m\u001b[0m\n\u001b[1;32m     17\u001b[0m     \u001b[0mego_location\u001b[0m \u001b[0;34m=\u001b[0m \u001b[0menv\u001b[0m\u001b[0;34m.\u001b[0m\u001b[0mego\u001b[0m\u001b[0;34m.\u001b[0m\u001b[0mget_location\u001b[0m\u001b[0;34m(\u001b[0m\u001b[0;34m)\u001b[0m\u001b[0;34m\u001b[0m\u001b[0;34m\u001b[0m\u001b[0m\n",
      "\u001b[0;32m~/Carla/gym-carla/gym_carla/envs/carla_env.py\u001b[0m in \u001b[0;36mreset\u001b[0;34m(self)\u001b[0m\n\u001b[1;32m    254\u001b[0m         \u001b[0;31m# self.start=[52.1,-4.2, 178.66] # static\u001b[0m\u001b[0;34m\u001b[0m\u001b[0;34m\u001b[0m\u001b[0;34m\u001b[0m\u001b[0m\n\u001b[1;32m    255\u001b[0m         \u001b[0mtransform\u001b[0m \u001b[0;34m=\u001b[0m \u001b[0mset_carla_transform\u001b[0m\u001b[0;34m(\u001b[0m\u001b[0mself\u001b[0m\u001b[0;34m.\u001b[0m\u001b[0mstart\u001b[0m\u001b[0;34m)\u001b[0m\u001b[0;34m\u001b[0m\u001b[0;34m\u001b[0m\u001b[0m\n\u001b[0;32m--> 256\u001b[0;31m \u001b[0;34m\u001b[0m\u001b[0m\n\u001b[0m\u001b[1;32m    257\u001b[0m       \u001b[0;32mif\u001b[0m \u001b[0mself\u001b[0m\u001b[0;34m.\u001b[0m\u001b[0m_try_spawn_ego_vehicle_at\u001b[0m\u001b[0;34m(\u001b[0m\u001b[0mtransform\u001b[0m\u001b[0;34m)\u001b[0m\u001b[0;34m:\u001b[0m\u001b[0;34m\u001b[0m\u001b[0;34m\u001b[0m\u001b[0m\n\u001b[1;32m    258\u001b[0m         \u001b[0;32mbreak\u001b[0m\u001b[0;34m\u001b[0m\u001b[0;34m\u001b[0m\u001b[0m\n",
      "\u001b[0;32m~/Carla/gym-carla/gym_carla/envs/carla_env.py\u001b[0m in \u001b[0;36m_try_spawn_ego_vehicle_at\u001b[0;34m(self, transform)\u001b[0m\n\u001b[1;32m    514\u001b[0m         \u001b[0;32mbreak\u001b[0m\u001b[0;34m\u001b[0m\u001b[0;34m\u001b[0m\u001b[0m\n\u001b[1;32m    515\u001b[0m \u001b[0;34m\u001b[0m\u001b[0m\n\u001b[0;32m--> 516\u001b[0;31m     \u001b[0;32mif\u001b[0m \u001b[0;32mnot\u001b[0m \u001b[0moverlap\u001b[0m\u001b[0;34m:\u001b[0m\u001b[0;34m\u001b[0m\u001b[0;34m\u001b[0m\u001b[0m\n\u001b[0m\u001b[1;32m    517\u001b[0m       \u001b[0mvehicle\u001b[0m \u001b[0;34m=\u001b[0m \u001b[0mself\u001b[0m\u001b[0;34m.\u001b[0m\u001b[0mworld\u001b[0m\u001b[0;34m.\u001b[0m\u001b[0mspawn_actor\u001b[0m\u001b[0;34m(\u001b[0m\u001b[0mself\u001b[0m\u001b[0;34m.\u001b[0m\u001b[0mego_bp\u001b[0m\u001b[0;34m,\u001b[0m \u001b[0mtransform\u001b[0m\u001b[0;34m)\u001b[0m\u001b[0;34m\u001b[0m\u001b[0;34m\u001b[0m\u001b[0m\n\u001b[1;32m    518\u001b[0m       \u001b[0mself\u001b[0m\u001b[0;34m.\u001b[0m\u001b[0mactor_list\u001b[0m\u001b[0;34m.\u001b[0m\u001b[0mappend\u001b[0m\u001b[0;34m(\u001b[0m\u001b[0mvehicle\u001b[0m\u001b[0;34m)\u001b[0m\u001b[0;34m\u001b[0m\u001b[0;34m\u001b[0m\u001b[0m\n",
      "\u001b[0;31mRuntimeError\u001b[0m: rpc::rpc_error during call in function spawn_actor"
     ]
    }
   ],
   "source": [
    "num_episodes = 1000\n",
    "steps_done = 0\n",
    "use_fixed_idx = 0\n",
    "env.use_fixed = 'H'\n",
    "levels = ['H','H','H']\n",
    "next_lvl = 300\n",
    "min_overall_loss = 1000\n",
    "input_size = 73\n",
    "for i_episode in range(num_episodes):\n",
    "    eps_loss = []\n",
    "    min_loss = 100\n",
    "    rewards = 0\n",
    "    # Initialize the environment and state\n",
    "    \n",
    "    obs = env.reset()\n",
    "    #ego_dir retirves the distance and angle from vehicle to nearest waypoint\n",
    "    ego_location = env.ego.get_location()\n",
    "    ego_dir = gym_carla.envs.misc.get_lane_dis(env.waypoints,ego_location.x,ego_location.y)\n",
    "\n",
    "    #pos gets a distanc d and array w which has to be seperated out in below line\n",
    "    ego_pos = np.asarray((ego_dir[0],ego_dir[1][0],ego_dir[1][1]),dtype=np.float32)\n",
    "    state = np.concatenate((ego_pos,np.zeros(6)))\n",
    "    state = torch.tensor(state).reshape(1,9,1,1)\n",
    "\n",
    "    new_obs = torch.tensor(obs['camera'])\n",
    "    new_obs = new_obs.permute(2,0,1).reshape(1,3,128,128)\n",
    "    \n",
    "    _,latent_space = model(new_obs)\n",
    "    state = torch.cat((state,latent_space.cpu()),1).reshape(1,input_size)\n",
    "\n",
    "\n",
    "    episode_loss = loss = 1000\n",
    "    for t in count():\n",
    "        # Select and perform an action\n",
    "        action = select_action(state)\n",
    "        obs, reward, done, info  = env.step(action.item())\n",
    "        rewards += reward\n",
    "        reward = torch.tensor([reward], device=device)\n",
    "\n",
    "        if not done:\n",
    "            \n",
    "            #pos gets a distanc d and array w which has to be seperated out in below line\n",
    "            pos = np.asarray((info['position'][0],info['position'][1][0],info['position'][1][1]))\n",
    "            ang = np.asarray(info['angular_vel'])\n",
    "            acc = np.asarray(info['acceleration'])\n",
    "            steer = np.asarray(info['steer'])\n",
    "            next_state = np.concatenate((pos, ang, acc, steer), axis=None)\n",
    "            \n",
    "            new_obs = torch.tensor(obs['camera'])\n",
    "            new_obs = new_obs.permute(2,0,1).reshape(1,3,128,128)\n",
    "            _,latent_space = model(new_obs)\n",
    "            info_state = torch.tensor(next_state).reshape(1,9,1,1)\n",
    "            next_state = torch.cat((info_state,latent_space.cpu()),1).reshape(1,input_size)\n",
    "        else:\n",
    "            next_state = None\n",
    "\n",
    "        memory.push(state, action, next_state, reward)\n",
    "        \n",
    "        state = next_state\n",
    "\n",
    "        # Perform one step of the optimization (on the policy network)\n",
    "        loss = optimize_model(input_size)\n",
    "        if loss:\n",
    "            if loss < min_loss:\n",
    "                min_loss = loss\n",
    "            eps_loss.append(loss)\n",
    "        else:\n",
    "            eps_loss.append(1)\n",
    "        \n",
    "        if done:\n",
    "            episode_durations.append(t + 1)\n",
    "            avg_loss = sum(eps_loss)/len(eps_loss)\n",
    "            print('{}:{},{}:{}'.format('avg loss', avg_loss, 'Episode', i_episode))\n",
    "            writer.add_scalar(\"Avg Loss/train\", avg_loss, i_episode)\n",
    "            writer.add_scalar(\"Min Loss/train\", min_loss, i_episode)\n",
    "            break\n",
    "            \n",
    "    # Update the target network\n",
    "    if steps_done % TARGET_UPDATE == 0:\n",
    "        target_net.load_state_dict(policy_net.state_dict())\n",
    "        \n",
    "    len_episode = t+1\n",
    "    writer.add_scalar(\"Lenght/Epoch\", len_episode, i_episode)\n",
    "    writer.add_scalar(\"Reward/Episode\", rewards, i_episode)\n",
    "    \n",
    "    #save model if better than previous episode\n",
    "    if avg_loss < min_overall_loss:\n",
    "        min_overall_loss = avg_loss\n",
    "        torch.save(target_net.state_dict(), './model_params_CL/Full_model_7.best')\n",
    "    \n",
    "\n",
    "print('Complete')\n",
    "print('Steps Done: ', steps_done)\n",
    "torch.save(target_net.state_dict(), './model_params_CL/Full_model_7.final')\n",
    "\n",
    "writer.flush()\n",
    "writer.close()\n",
    "env.close()"
   ]
  },
  {
   "cell_type": "markdown",
   "id": "a2fa528f",
   "metadata": {},
   "source": [
    "### Visualise Models"
   ]
  },
  {
   "cell_type": "code",
   "execution_count": null,
   "id": "3b4b475f",
   "metadata": {},
   "outputs": [],
   "source": [
    "target_net.eval()"
   ]
  },
  {
   "cell_type": "code",
   "execution_count": null,
   "id": "5b1f47ae",
   "metadata": {},
   "outputs": [],
   "source": [
    "torch.save(target_net.state_dict(), './model_params_CL/model_10.final')"
   ]
  },
  {
   "cell_type": "code",
   "execution_count": 21,
   "id": "fef6c580",
   "metadata": {},
   "outputs": [
    {
     "data": {
      "text/plain": [
       "Full_DQN(\n",
       "  (lin1): Linear(in_features=73, out_features=100, bias=True)\n",
       "  (lin2): Linear(in_features=100, out_features=50, bias=True)\n",
       "  (lin3): Linear(in_features=50, out_features=25, bias=True)\n",
       "  (lin4): Linear(in_features=25, out_features=15, bias=True)\n",
       "  (lin5): Linear(in_features=15, out_features=8, bias=True)\n",
       "  (lin6): Linear(in_features=8, out_features=3, bias=True)\n",
       ")"
      ]
     },
     "execution_count": 21,
     "metadata": {},
     "output_type": "execute_result"
    }
   ],
   "source": [
    "vis_net = Full_DQN(n_actions,64).to(device)\n",
    "vis_net.load_state_dict(torch.load('./model_params_CL/Full_model_6.best'))\n",
    "vis_net.eval()\n",
    "\n"
   ]
  },
  {
   "cell_type": "code",
   "execution_count": 22,
   "id": "21657e3b",
   "metadata": {},
   "outputs": [
    {
     "name": "stdout",
     "output_type": "stream",
     "text": [
      "[264, 234]\n"
     ]
    },
    {
     "ename": "ArgumentError",
     "evalue": "Python argument types in\n    Vehicle.get_wheel_steer_angle(Vehicle)\ndid not match C++ signature:\n    get_wheel_steer_angle(carla::client::Vehicle {lvalue}, carla::rpc::VehicleWheelLocation wheel_location)",
     "output_type": "error",
     "traceback": [
      "\u001b[0;31m---------------------------------------------------------------------------\u001b[0m",
      "\u001b[0;31mArgumentError\u001b[0m                             Traceback (most recent call last)",
      "\u001b[0;32m/tmp/ipykernel_24597/837307465.py\u001b[0m in \u001b[0;36m<module>\u001b[0;34m\u001b[0m\n\u001b[1;32m     31\u001b[0m         \u001b[0;32mwith\u001b[0m \u001b[0mtorch\u001b[0m\u001b[0;34m.\u001b[0m\u001b[0mno_grad\u001b[0m\u001b[0;34m(\u001b[0m\u001b[0;34m)\u001b[0m\u001b[0;34m:\u001b[0m\u001b[0;34m\u001b[0m\u001b[0;34m\u001b[0m\u001b[0m\n\u001b[1;32m     32\u001b[0m             \u001b[0maction\u001b[0m \u001b[0;34m=\u001b[0m \u001b[0mvis_net\u001b[0m\u001b[0;34m(\u001b[0m\u001b[0mstate\u001b[0m\u001b[0;34m.\u001b[0m\u001b[0mfloat\u001b[0m\u001b[0;34m(\u001b[0m\u001b[0;34m)\u001b[0m\u001b[0;34m)\u001b[0m\u001b[0;34m.\u001b[0m\u001b[0margmax\u001b[0m\u001b[0;34m(\u001b[0m\u001b[0;34m)\u001b[0m\u001b[0;34m.\u001b[0m\u001b[0mview\u001b[0m\u001b[0;34m(\u001b[0m\u001b[0;36m1\u001b[0m\u001b[0;34m,\u001b[0m\u001b[0;36m1\u001b[0m\u001b[0;34m)\u001b[0m\u001b[0;34m\u001b[0m\u001b[0;34m\u001b[0m\u001b[0m\n\u001b[0;32m---> 33\u001b[0;31m             \u001b[0mobs\u001b[0m\u001b[0;34m,\u001b[0m \u001b[0mreward\u001b[0m\u001b[0;34m,\u001b[0m \u001b[0mdone\u001b[0m\u001b[0;34m,\u001b[0m \u001b[0minfo\u001b[0m  \u001b[0;34m=\u001b[0m \u001b[0menv\u001b[0m\u001b[0;34m.\u001b[0m\u001b[0mstep\u001b[0m\u001b[0;34m(\u001b[0m\u001b[0maction\u001b[0m\u001b[0;34m.\u001b[0m\u001b[0mitem\u001b[0m\u001b[0;34m(\u001b[0m\u001b[0;34m)\u001b[0m\u001b[0;34m)\u001b[0m\u001b[0;34m\u001b[0m\u001b[0;34m\u001b[0m\u001b[0m\n\u001b[0m\u001b[1;32m     34\u001b[0m             \u001b[0mrewards\u001b[0m\u001b[0;34m.\u001b[0m\u001b[0mappend\u001b[0m\u001b[0;34m(\u001b[0m\u001b[0mreward\u001b[0m\u001b[0;34m)\u001b[0m\u001b[0;34m\u001b[0m\u001b[0;34m\u001b[0m\u001b[0m\n\u001b[1;32m     35\u001b[0m             \u001b[0mreward\u001b[0m \u001b[0;34m=\u001b[0m \u001b[0mtorch\u001b[0m\u001b[0;34m.\u001b[0m\u001b[0mtensor\u001b[0m\u001b[0;34m(\u001b[0m\u001b[0;34m[\u001b[0m\u001b[0mreward\u001b[0m\u001b[0;34m]\u001b[0m\u001b[0;34m,\u001b[0m \u001b[0mdevice\u001b[0m\u001b[0;34m=\u001b[0m\u001b[0mdevice\u001b[0m\u001b[0;34m)\u001b[0m\u001b[0;34m\u001b[0m\u001b[0;34m\u001b[0m\u001b[0m\n",
      "\u001b[0;32m~/Carla/gym-carla/gym_carla/envs/carla_env.py\u001b[0m in \u001b[0;36mstep\u001b[0;34m(self, action)\u001b[0m\n\u001b[1;32m    388\u001b[0m       \u001b[0;34m'angular_vel'\u001b[0m\u001b[0;34m:\u001b[0m\u001b[0;34m(\u001b[0m\u001b[0mangular_velocity\u001b[0m\u001b[0;34m.\u001b[0m\u001b[0mx\u001b[0m\u001b[0;34m,\u001b[0m\u001b[0mangular_velocity\u001b[0m\u001b[0;34m.\u001b[0m\u001b[0my\u001b[0m\u001b[0;34m,\u001b[0m\u001b[0mangular_velocity\u001b[0m\u001b[0;34m.\u001b[0m\u001b[0mz\u001b[0m\u001b[0;34m)\u001b[0m\u001b[0;34m,\u001b[0m\u001b[0;34m\u001b[0m\u001b[0;34m\u001b[0m\u001b[0m\n\u001b[1;32m    389\u001b[0m       \u001b[0;34m'acceleration'\u001b[0m\u001b[0;34m:\u001b[0m\u001b[0;34m(\u001b[0m\u001b[0macc\u001b[0m\u001b[0;34m.\u001b[0m\u001b[0mx\u001b[0m\u001b[0;34m,\u001b[0m\u001b[0macc\u001b[0m\u001b[0;34m.\u001b[0m\u001b[0my\u001b[0m\u001b[0;34m)\u001b[0m\u001b[0;34m,\u001b[0m\u001b[0;34m\u001b[0m\u001b[0;34m\u001b[0m\u001b[0m\n\u001b[0;32m--> 390\u001b[0;31m       \u001b[0;34m'steer'\u001b[0m\u001b[0;34m:\u001b[0m \u001b[0mcontrol\u001b[0m\u001b[0;34m.\u001b[0m\u001b[0msteer\u001b[0m\u001b[0;34m\u001b[0m\u001b[0;34m\u001b[0m\u001b[0m\n\u001b[0m\u001b[1;32m    391\u001b[0m     }\n\u001b[1;32m    392\u001b[0m \u001b[0;34m\u001b[0m\u001b[0m\n",
      "\u001b[0;31mArgumentError\u001b[0m: Python argument types in\n    Vehicle.get_wheel_steer_angle(Vehicle)\ndid not match C++ signature:\n    get_wheel_steer_angle(carla::client::Vehicle {lvalue}, carla::rpc::VehicleWheelLocation wheel_location)"
     ]
    }
   ],
   "source": [
    "num_episodes = 8\n",
    "env.use_fixed = 'H'\n",
    "env.route_idx = 1\n",
    "levels = ['E','M','H']\n",
    "next_lvl = 4\n",
    "min_overall_loss = 1000\n",
    "input_size = 73\n",
    "for i_episode in range(num_episodes):\n",
    "    eps_loss = []\n",
    "    rewards = []\n",
    "    # Initialize the environment and state\n",
    "    obs = env.reset()\n",
    "    #ego_dir retirves the distance and angle from vehicle to nearest waypoint\n",
    "    ego_location = env.ego.get_location()\n",
    "    ego_dir = gym_carla.envs.misc.get_lane_dis(env.waypoints,ego_location.x,ego_location.y)\n",
    "    #pos gets a distanc d and array w which has to be seperated out in below line\n",
    "    ego_pos = np.asarray((ego_dir[0],ego_dir[1][0],ego_dir[1][1]),dtype=np.float32)\n",
    "    state = np.concatenate((ego_pos,np.zeros(6)))\n",
    "    state = torch.tensor(state).reshape(1,9,1,1)\n",
    "\n",
    "    new_obs = torch.tensor(obs['camera'])\n",
    "    new_obs = new_obs.permute(2,0,1).reshape(1,3,128,128)\n",
    "    \n",
    "    _,latent_space = model(new_obs)\n",
    "    state = torch.cat((state,latent_space.cpu()),1).reshape(1,input_size)\n",
    "    # Resize, and add a batch dimension (BCHW)\n",
    "    loss = episode_loss = 1000\n",
    "    for t in count():\n",
    "        # Select and perform an action\n",
    "        \n",
    "        with torch.no_grad():\n",
    "            action = vis_net(state.float()).argmax().view(1,1)\n",
    "            obs, reward, done, info  = env.step(action.item())\n",
    "            rewards.append(reward)\n",
    "            reward = torch.tensor([reward], device=device)\n",
    "\n",
    "            #pos gets a distanc d and array w which has to be seperated out in below line\n",
    "            pos = np.asarray((info['position'][0],info['position'][1][0],info['position'][1][1]))\n",
    "            ang = np.asarray(info['angular_vel'])\n",
    "            acc = np.asarray(info['acceleration'])\n",
    "            steer = np.asarray(info['steer'])\n",
    "            next_state = np.concatenate((pos, ang, acc, steer), axis=None)\n",
    "            \n",
    "            new_obs = torch.tensor(obs['camera'])\n",
    "            new_obs = new_obs.permute(2,0,1).reshape(1,3,128,128)\n",
    "            _,latent_space = model(new_obs)\n",
    "            info_state = torch.tensor(next_state).reshape(1,9,1,1)\n",
    "            next_state = torch.cat((info_state,latent_space.cpu()),1).reshape(1,input_size)\n",
    "\n",
    "        state = next_state\n",
    "\n",
    "        if done:\n",
    "            print('########')\n",
    "            episode_durations.append(t + 1)\n",
    "            break\n"
   ]
  },
  {
   "cell_type": "code",
   "execution_count": null,
   "id": "ed53ce18",
   "metadata": {},
   "outputs": [],
   "source": []
  }
 ],
 "metadata": {
  "kernelspec": {
   "display_name": "Python 3 (ipykernel)",
   "language": "python",
   "name": "python3"
  },
  "language_info": {
   "codemirror_mode": {
    "name": "ipython",
    "version": 3
   },
   "file_extension": ".py",
   "mimetype": "text/x-python",
   "name": "python",
   "nbconvert_exporter": "python",
   "pygments_lexer": "ipython3",
   "version": "3.7.11"
  }
 },
 "nbformat": 4,
 "nbformat_minor": 5
}
